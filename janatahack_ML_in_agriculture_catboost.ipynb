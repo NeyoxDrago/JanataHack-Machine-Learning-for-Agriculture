{
  "nbformat": 4,
  "nbformat_minor": 0,
  "metadata": {
    "colab": {
      "name": "janatahack_ML_in_agriculture.ipynb",
      "provenance": [],
      "collapsed_sections": []
    },
    "kernelspec": {
      "name": "python3",
      "display_name": "Python 3"
    }
  },
  "cells": [
    {
      "cell_type": "code",
      "metadata": {
        "id": "OALRaJOvUTDg",
        "colab_type": "code",
        "colab": {}
      },
      "source": [
        "import os\n",
        "if not os.path.exists(\"train.csv\"):\n",
        "  !wget --header=\"Host: datahack-prod.s3.amazonaws.com\" --header=\"User-Agent: Mozilla/5.0 (Windows NT 10.0; Win64; x64) AppleWebKit/537.36 (KHTML, like Gecko) Chrome/84.0.4147.89 Safari/537.36\" --header=\"Accept: text/html,application/xhtml+xml,application/xml;q=0.9,image/webp,image/apng,*/*;q=0.8,application/signed-exchange;v=b3;q=0.9\" --header=\"Accept-Language: en-US,en;q=0.9\" --header=\"Referer: https://datahack.analyticsvidhya.com/contest/janatahack-machine-learning-in-agriculture/\" \"https://datahack-prod.s3.amazonaws.com/train_file/train_yaOffsB.csv\" -c -O 'train.csv'\n",
        "\n",
        "if not os.path.exists(\"test.csv\"):\n",
        "  !wget --header=\"Host: datahack-prod.s3.amazonaws.com\" --header=\"User-Agent: Mozilla/5.0 (Windows NT 10.0; Win64; x64) AppleWebKit/537.36 (KHTML, like Gecko) Chrome/84.0.4147.89 Safari/537.36\" --header=\"Accept: text/html,application/xhtml+xml,application/xml;q=0.9,image/webp,image/apng,*/*;q=0.8,application/signed-exchange;v=b3;q=0.9\" --header=\"Accept-Language: en-US,en;q=0.9\" --header=\"Referer: https://datahack.analyticsvidhya.com/contest/janatahack-machine-learning-in-agriculture/\" \"https://datahack-prod.s3.amazonaws.com/test_file/test_pFkWwen.csv\" -c -O 'test.csv'"
      ],
      "execution_count": 144,
      "outputs": []
    },
    {
      "cell_type": "code",
      "metadata": {
        "id": "gg9P4O2jUll6",
        "colab_type": "code",
        "colab": {}
      },
      "source": [
        "import pandas as pd\n",
        "import numpy as np\n",
        "import seaborn as sns\n",
        "import os"
      ],
      "execution_count": 145,
      "outputs": []
    },
    {
      "cell_type": "code",
      "metadata": {
        "id": "b0Zoe4OqUvo1",
        "colab_type": "code",
        "colab": {
          "base_uri": "https://localhost:8080/",
          "height": 185
        },
        "outputId": "578f87d1-f387-46c1-a597-f755ab84937a"
      },
      "source": [
        "# ID\t: UniqueID\n",
        "# Estimated_Insects_Count\t: Estimated insects count per square meter\n",
        "# Crop_Type :\tCategory of Crop(0,1)\n",
        "# Soil_Type\t: Category of Soil (0,1)\n",
        "# Pesticide_Use_Category : Type of pesticides uses (1- Never, 2-Previously Used, 3-Currently Using)\n",
        "# Number_Doses_Week :\tNumber of doses per week\n",
        "# Number_Weeks_Used\t: Number of weeks used\n",
        "# Number_Weeks_Quit\t: Number of weeks quit\n",
        "# Season :\tSeason Category (1,2,3)\n",
        "# Crop_Damage\t: Crop Damage Category (0=alive, 1=Damage due to other causes, 2=Damage due to Pesticides)\n",
        "\n",
        "train = pd.read_csv(\"train.csv\")\n",
        "test = pd.read_csv(\"test.csv\")\n",
        "merge = pd.concat([train,test]).reset_index(drop=True)\n",
        "print(merge.shape)\n",
        "\n",
        "# test['Estimated_Insects_Count_per_km_sq'] = test['Estimated_Insects_Count'].apply(lambda x:x*0.000001) \n",
        "# train['Estimated_Insects_Count_per_km_sq'] = train['Estimated_Insects_Count'].apply(lambda x:x*0.000001) \n",
        "\n",
        "from sklearn.linear_model import LinearRegression,LogisticRegression\n",
        "from lightgbm import LGBMRegressor,LGBMClassifier\n",
        "from xgboost import XGBRegressor,XGBClassifier\n",
        "from sklearn.model_selection import train_test_split\n",
        "\n",
        "imputer = LGBMRegressor()\n",
        "use_train = merge[~merge.Number_Weeks_Used.isna()]\n",
        "X = use_train.drop(['ID','Number_Weeks_Used','Crop_Damage'],axis=1)\n",
        "Y = use_train[['Number_Weeks_Used']]\n",
        "impute_train_x,impute_test_x,impute_train_y,impute_test_y = train_test_split(X,Y,test_size=0.2,shuffle=True)\n",
        "imputer.fit(impute_train_x,impute_train_y)\n",
        "print(imputer.score(impute_test_x,impute_test_y))\n",
        "\n",
        "imputer.fit(X,Y)\n",
        "\n",
        "na_train = merge[merge.Number_Weeks_Used.isna()]\n",
        "output = imputer.predict(na_train.drop(['ID','Number_Weeks_Used','Crop_Damage'],axis=1))\n",
        "na_train['Number_Weeks_Used'] = output\n",
        "print(na_train.shape,use_train.shape)\n",
        "\n",
        "merge = pd.concat([use_train,na_train]).reset_index(drop=True)\n",
        "print(merge.shape)\n",
        "\n",
        "merge['Number_Weeks_Used'] = merge['Number_Weeks_Used'].apply(lambda x:int(x))\n",
        "\n",
        "from sklearn.preprocessing import MinMaxScaler,StandardScaler\n",
        "scaler = MinMaxScaler(feature_range=(0,1))\n",
        "\n",
        "num_cols= ['Estimated_Insects_Count','Number_Doses_Week','Number_Weeks_Used','Number_Weeks_Quit']\n",
        "# for col in num_cols:\n",
        "x = scaler.fit_transform(merge[num_cols])\n",
        "merge.loc[:,num_cols] = x\n",
        "\n",
        "  # break\n",
        "  # print(x.shape,merge[col].shape)\n",
        "  # merge[col] = \n",
        "\n",
        "drop_col = ['Crop_Type','Soil_Type','Season']\n",
        "\n",
        "train = merge[~merge.Crop_Damage.isna()]\n",
        "test = merge[merge.Crop_Damage.isna()].drop(['Crop_Damage'],axis=1)\n",
        "# train\n",
        "# train.drop(drop_col,inplace=True,axis=1)\n",
        "# test.drop(drop_col,inplace=True,axis=1)\n",
        "\n",
        "\n",
        "print(train.shape,test.shape)\n",
        "# def factorize(column , df):\n",
        "#   m = pd.get_dummies(df[column])\n",
        "#   new_cols = []\n",
        "#   for i in m.columns:\n",
        "#     new_cols.append((i,f\"{column}_{i}\"))\n",
        "#   m = m.rename(columns=dict(new_cols))\n",
        "#   df = df.merge(m,left_index=True,right_index=True).drop([column],axis=1)\n",
        "#   return df\n",
        "\n",
        "# for col in ['Crop_Type','Soil_Type','Season','Pesticide_Use_Category']:\n",
        "#   train = factorize(col,train)\n",
        "# train"
      ],
      "execution_count": 172,
      "outputs": [
        {
          "output_type": "stream",
          "text": [
            "(148168, 10)\n",
            "0.7248388153611619\n"
          ],
          "name": "stdout"
        },
        {
          "output_type": "stream",
          "text": [
            "/usr/local/lib/python3.6/dist-packages/ipykernel_launcher.py:37: SettingWithCopyWarning: \n",
            "A value is trying to be set on a copy of a slice from a DataFrame.\n",
            "Try using .loc[row_indexer,col_indexer] = value instead\n",
            "\n",
            "See the caveats in the documentation: https://pandas.pydata.org/pandas-docs/stable/user_guide/indexing.html#returning-a-view-versus-a-copy\n"
          ],
          "name": "stderr"
        },
        {
          "output_type": "stream",
          "text": [
            "(14893, 10) (133275, 10)\n",
            "(148168, 10)\n",
            "(88858, 10) (59310, 9)\n"
          ],
          "name": "stdout"
        }
      ]
    },
    {
      "cell_type": "code",
      "metadata": {
        "id": "RdxkyC968aY0",
        "colab_type": "code",
        "colab": {
          "base_uri": "https://localhost:8080/",
          "height": 401
        },
        "outputId": "5a137e55-10d3-4fbd-d60a-e7e0f5ad47bc"
      },
      "source": [
        "sns.heatmap(train.corr())"
      ],
      "execution_count": 173,
      "outputs": [
        {
          "output_type": "execute_result",
          "data": {
            "text/plain": [
              "<matplotlib.axes._subplots.AxesSubplot at 0x7f51edb76d30>"
            ]
          },
          "metadata": {
            "tags": []
          },
          "execution_count": 173
        },
        {
          "output_type": "display_data",
          "data": {
            "image/png": "[encoded data removed]",
            "text/plain": [
              "<Figure size 432x288 with 2 Axes>"
            ]
          },
          "metadata": {
            "tags": [],
            "needs_background": "light"
          }
        }
      ]
    },
    {
      "cell_type": "code",
      "metadata": {
        "id": "GaSEJix4H4x4",
        "colab_type": "code",
        "colab": {
          "base_uri": "https://localhost:8080/",
          "height": 302
        },
        "outputId": "12e9f8b9-c52e-4e89-9367-2ef6b495c144"
      },
      "source": [
        "train.info()"
      ],
      "execution_count": 174,
      "outputs": [
        {
          "output_type": "stream",
          "text": [
            "<class 'pandas.core.frame.DataFrame'>\n",
            "Int64Index: 88858 entries, 0 to 142274\n",
            "Data columns (total 10 columns):\n",
            " #   Column                   Non-Null Count  Dtype  \n",
            "---  ------                   --------------  -----  \n",
            " 0   ID                       88858 non-null  object \n",
            " 1   Estimated_Insects_Count  88858 non-null  float64\n",
            " 2   Crop_Type                88858 non-null  int64  \n",
            " 3   Soil_Type                88858 non-null  int64  \n",
            " 4   Pesticide_Use_Category   88858 non-null  int64  \n",
            " 5   Number_Doses_Week        88858 non-null  float64\n",
            " 6   Number_Weeks_Used        88858 non-null  float64\n",
            " 7   Number_Weeks_Quit        88858 non-null  float64\n",
            " 8   Season                   88858 non-null  int64  \n",
            " 9   Crop_Damage              88858 non-null  float64\n",
            "dtypes: float64(5), int64(4), object(1)\n",
            "memory usage: 7.5+ MB\n"
          ],
          "name": "stdout"
        }
      ]
    },
    {
      "cell_type": "code",
      "metadata": {
        "id": "xyFToXJAUz1A",
        "colab_type": "code",
        "colab": {}
      },
      "source": [
        "# sns.distplot(train.Estimated_Insects_Count)\n",
        "# sns.kdeplot(na_train.Number_Weeks_Used,label=\"imputed\")\n",
        "# sns.kdeplot(use_train.Number_Weeks_Used,label=\"before imputation\")\n",
        "# sns.kdeplot(merge.Number_Weeks_Used,label=\"after imputation\")"
      ],
      "execution_count": 175,
      "outputs": []
    },
    {
      "cell_type": "code",
      "metadata": {
        "id": "72qhgyaHWVXb",
        "colab_type": "code",
        "colab": {}
      },
      "source": [
        "# sns.distplot(train.Number_Weeks_Quit)"
      ],
      "execution_count": 176,
      "outputs": []
    },
    {
      "cell_type": "code",
      "metadata": {
        "id": "S82DSfdI0s2P",
        "colab_type": "code",
        "colab": {}
      },
      "source": [
        "# sns.jointplot(x=\"Number_Weeks_Used\",y=\"Number_Weeks_Quit\",data=train,kind=\"kde\")"
      ],
      "execution_count": 177,
      "outputs": []
    },
    {
      "cell_type": "code",
      "metadata": {
        "id": "oSbqg-g4CW_7",
        "colab_type": "code",
        "colab": {
          "base_uri": "https://localhost:8080/",
          "height": 297
        },
        "outputId": "a3715fa2-bb5a-4fd2-ed30-683f99746ea3"
      },
      "source": [
        "sns.countplot(train.Crop_Damage)"
      ],
      "execution_count": 178,
      "outputs": [
        {
          "output_type": "execute_result",
          "data": {
            "text/plain": [
              "<matplotlib.axes._subplots.AxesSubplot at 0x7f51ec19d828>"
            ]
          },
          "metadata": {
            "tags": []
          },
          "execution_count": 178
        },
        {
          "output_type": "display_data",
          "data": {
            "image/png": "[encoded data removed]",
            "text/plain": [
              "<Figure size 432x288 with 1 Axes>"
            ]
          },
          "metadata": {
            "tags": [],
            "needs_background": "light"
          }
        }
      ]
    },
    {
      "cell_type": "code",
      "metadata": {
        "id": "kZqBqRnZCg8l",
        "colab_type": "code",
        "colab": {
          "base_uri": "https://localhost:8080/",
          "height": 272
        },
        "outputId": "6d1c597c-5760-4ffb-d5ad-1297ec5c5a24"
      },
      "source": [
        "!pip install catboost"
      ],
      "execution_count": 179,
      "outputs": [
        {
          "output_type": "stream",
          "text": [
            "Requirement already satisfied: catboost in /usr/local/lib/python3.6/dist-packages (0.23.2)\n",
            "Requirement already satisfied: numpy>=1.16.0 in /usr/local/lib/python3.6/dist-packages (from catboost) (1.18.5)\n",
            "Requirement already satisfied: six in /usr/local/lib/python3.6/dist-packages (from catboost) (1.15.0)\n",
            "Requirement already satisfied: matplotlib in /usr/local/lib/python3.6/dist-packages (from catboost) (3.2.2)\n",
            "Requirement already satisfied: pandas>=0.24.0 in /usr/local/lib/python3.6/dist-packages (from catboost) (1.0.5)\n",
            "Requirement already satisfied: scipy in /usr/local/lib/python3.6/dist-packages (from catboost) (1.4.1)\n",
            "Requirement already satisfied: graphviz in /usr/local/lib/python3.6/dist-packages (from catboost) (0.10.1)\n",
            "Requirement already satisfied: plotly in /usr/local/lib/python3.6/dist-packages (from catboost) (4.4.1)\n",
            "Requirement already satisfied: pyparsing!=2.0.4,!=2.1.2,!=2.1.6,>=2.0.1 in /usr/local/lib/python3.6/dist-packages (from matplotlib->catboost) (2.4.7)\n",
            "Requirement already satisfied: python-dateutil>=2.1 in /usr/local/lib/python3.6/dist-packages (from matplotlib->catboost) (2.8.1)\n",
            "Requirement already satisfied: kiwisolver>=1.0.1 in /usr/local/lib/python3.6/dist-packages (from matplotlib->catboost) (1.2.0)\n",
            "Requirement already satisfied: cycler>=0.10 in /usr/local/lib/python3.6/dist-packages (from matplotlib->catboost) (0.10.0)\n",
            "Requirement already satisfied: pytz>=2017.2 in /usr/local/lib/python3.6/dist-packages (from pandas>=0.24.0->catboost) (2018.9)\n",
            "Requirement already satisfied: retrying>=1.3.3 in /usr/local/lib/python3.6/dist-packages (from plotly->catboost) (1.3.3)\n"
          ],
          "name": "stdout"
        }
      ]
    },
    {
      "cell_type": "code",
      "metadata": {
        "id": "P3_n4qkeDucU",
        "colab_type": "code",
        "colab": {}
      },
      "source": [
        "from catboost import CatBoostClassifier\n",
        "from sklearn.model_selection import train_test_split , KFold\n",
        "from sklearn.linear_model import LogisticRegression \n",
        "from sklearn.tree import DecisionTreeClassifier\n",
        "from sklearn.neighbors import KNeighborsClassifier\n",
        "from sklearn.naive_bayes import BernoulliNB,GaussianNB ,CategoricalNB\n",
        "from sklearn.ensemble import RandomForestClassifier , GradientBoostingClassifier , AdaBoostClassifier"
      ],
      "execution_count": 180,
      "outputs": []
    },
    {
      "cell_type": "code",
      "metadata": {
        "id": "Q8Fs_mHuLR-Y",
        "colab_type": "code",
        "colab": {
          "base_uri": "https://localhost:8080/",
          "height": 34
        },
        "outputId": "7129320e-95a2-423a-8582-3078fb7b646a"
      },
      "source": [
        "from sklearn.utils import class_weight\n",
        "y = train[['Crop_Damage']].values.reshape((-1))\n",
        "class_weights = class_weight.compute_class_weight('balanced',np.unique(y),y)\n",
        "class_weights"
      ],
      "execution_count": 181,
      "outputs": [
        {
          "output_type": "execute_result",
          "data": {
            "text/plain": [
              "array([ 0.39897806,  2.40670621, 12.80559158])"
            ]
          },
          "metadata": {
            "tags": []
          },
          "execution_count": 181
        }
      ]
    },
    {
      "cell_type": "code",
      "metadata": {
        "id": "chAdgw5ODyPn",
        "colab_type": "code",
        "colab": {
          "base_uri": "https://localhost:8080/",
          "height": 34
        },
        "outputId": "a8d0e6b6-ad7d-4175-b118-65743a7e2289"
      },
      "source": [
        "train_x,val_x = train_test_split(train,test_size=0.2,shuffle=True)\n",
        "\n",
        "X = train.drop(['ID','Crop_Damage'],axis=1)\n",
        "Y = train[['Crop_Damage']]\n",
        "\n",
        "x_train = train_x.drop(['ID','Crop_Damage'],axis=1)\n",
        "y_train = train_x[['Crop_Damage']]\n",
        "\n",
        "x_val = val_x.drop(['ID','Crop_Damage'],axis=1)\n",
        "y_val = val_x[['Crop_Damage']]\n",
        "\n",
        "params={\n",
        "    \"od_type\":\"Iter\",\n",
        "    \"od_wait\":50,\n",
        "    \"learning_rate\":0.15,\n",
        "    \"eval_metric\":\"Accuracy\",\n",
        "    \"verbose\":50,\n",
        "    \"boosting_type\":\"Plain\",\n",
        "    # \"class_weights\":class_weights\n",
        "}\n",
        "\n",
        "from sklearn.utils import class_weight\n",
        "y = train[['Crop_Damage']].values.reshape((-1))\n",
        "class_weights = class_weight.compute_class_weight('balanced',np.unique(y),y)\n",
        "class_weights\n",
        "\n",
        "# model= CatBoostClassifier(**params)\n",
        "# model.fit(x_train,y_train,\n",
        "#           # cat_features=[\"Crop_Type\",'Soil_Type','Pesticide_Use_Category','Season'],\n",
        "#           cat_features=['Pesticide_Use_Category'],\n",
        "#           eval_set=(x_val,y_val))\n",
        "# print(\"Catboost Score : \",model.score(x_val,y_val))\n",
        "\n",
        "# model.fit(X,Y,\n",
        "#           cat_features=[\"Crop_Type\",'Soil_Type','Pesticide_Use_Category','Season'])\n",
        "\n",
        "# for x_model in [LGBMClassifier(),XGBClassifier(),KNeighborsClassifier(n_neighbors=3),DecisionTreeClassifier(),RandomForestClassifier(),LogisticRegression()]:\n",
        "#   x_model.fit(x_train,y_train,)\n",
        "#   print(f\"{str(x_model)[:15]} Score : \",x_model.score(x_val,y_val))\n",
        "# from sklearn.neural_network import MLPClassifier\n",
        "\n",
        "# mlp = MLPClassifier(hidden_layer_sizes=(150,64))\n",
        "# mlp.fit(x_train,y_train)\n",
        "# mlp.score(x_val,y_val)"
      ],
      "execution_count": 182,
      "outputs": [
        {
          "output_type": "execute_result",
          "data": {
            "text/plain": [
              "array([ 0.39897806,  2.40670621, 12.80559158])"
            ]
          },
          "metadata": {
            "tags": []
          },
          "execution_count": 182
        }
      ]
    },
    {
      "cell_type": "code",
      "metadata": {
        "id": "I9o8GHfrKjdf",
        "colab_type": "code",
        "colab": {
          "base_uri": "https://localhost:8080/",
          "height": 1000
        },
        "outputId": "0f63fa83-ed48-4324-9ddd-1e9ff37b090b"
      },
      "source": [
        "import warnings \n",
        "warnings.filterwarnings(\"ignore\")\n",
        "\n",
        "X = train.drop(['ID','Crop_Damage'],axis=1)\n",
        "Y = train[['Crop_Damage']]\n",
        "\n",
        "from sklearn.utils import class_weight\n",
        "from sklearn.model_selection import KFold\n",
        "y = train[['Crop_Damage']].values.reshape((-1))\n",
        "class_weights = class_weight.compute_class_weight('balanced',np.unique(y),y)\n",
        "class_weights\n",
        "\n",
        "n_folds=[4,5,10]\n",
        "for n_fold in n_folds:\n",
        "  print(\"\\nPerforming on N_folds :\",n_fold)\n",
        "  folds = KFold(n_splits=n_fold,shuffle=True)\n",
        "  scores=[]\n",
        "  max_score = 0\n",
        "\n",
        "  for (train_idx,test_idx),i in list(zip(folds.split(X,Y),range(n_fold))):\n",
        "    test_set = (X.iloc[test_idx],Y.iloc[test_idx])\n",
        "    model = CatBoostClassifier(**params)\n",
        "    model.fit(X.iloc[train_idx],Y.iloc[train_idx],\n",
        "              cat_features=[\"Crop_Type\",'Soil_Type','Pesticide_Use_Category','Season'],\n",
        "              eval_set=test_set)\n",
        "    # model= LGBMClassifier()\n",
        "    # model.fit(X.iloc[train_idx],Y.iloc[train_idx])\n",
        "    score = model.score(*test_set)\n",
        "    scores.append(score)\n",
        "    if score > max_score:\n",
        "      max_score=score\n",
        "      best_idx=train_idx\n",
        "      val_idx = test_idx\n",
        "    print(\"Catboost Score at fold %d : \" % i,score)\n",
        "\n",
        "  print(\"mean_score\",np.array(scores).mean())\n",
        "# model.fit(X,Y,\n",
        "#           cat_features=[\"Crop_Type\",'Soil_Type','Pesticide_Use_Category','Season'])"
      ],
      "execution_count": 191,
      "outputs": [
        {
          "output_type": "stream",
          "text": [
            "\n",
            "Performing on N_folds : 4\n",
            "0:\tlearn: 0.8408385\ttest: 0.8389827\tbest: 0.8389827 (0)\ttotal: 160ms\tremaining: 2m 39s\n",
            "50:\tlearn: 0.8452501\ttest: 0.8418186\tbest: 0.8418186 (50)\ttotal: 6.37s\tremaining: 1m 58s\n",
            "100:\tlearn: 0.8476209\ttest: 0.8432591\tbest: 0.8432591 (82)\ttotal: 12.5s\tremaining: 1m 50s\n",
            "150:\tlearn: 0.8490464\ttest: 0.8451047\tbest: 0.8451047 (150)\ttotal: 18.9s\tremaining: 1m 46s\n",
            "200:\tlearn: 0.8505619\ttest: 0.8453297\tbest: 0.8455098 (173)\ttotal: 25.3s\tremaining: 1m 40s\n",
            "250:\tlearn: 0.8514173\ttest: 0.8454648\tbest: 0.8456448 (234)\ttotal: 31.9s\tremaining: 1m 35s\n",
            "Stopped by overfitting detector  (50 iterations wait)\n",
            "\n",
            "bestTest = 0.8456448346\n",
            "bestIteration = 234\n",
            "\n",
            "Shrink model to first 235 iterations.\n",
            "Catboost Score at fold 0 :  0.8456448345712356\n",
            "0:\tlearn: 0.8405084\ttest: 0.8399730\tbest: 0.8399730 (0)\ttotal: 133ms\tremaining: 2m 12s\n",
            "50:\tlearn: 0.8442597\ttest: 0.8443394\tbest: 0.8443394 (38)\ttotal: 6.23s\tremaining: 1m 55s\n",
            "100:\tlearn: 0.8467356\ttest: 0.8468152\tbest: 0.8469052 (97)\ttotal: 12.2s\tremaining: 1m 48s\n",
            "150:\tlearn: 0.8481461\ttest: 0.8478956\tbest: 0.8480756 (147)\ttotal: 18.7s\tremaining: 1m 44s\n",
            "200:\tlearn: 0.8492715\ttest: 0.8480306\tbest: 0.8482557 (165)\ttotal: 25.2s\tremaining: 1m 39s\n",
            "Stopped by overfitting detector  (50 iterations wait)\n",
            "\n",
            "bestTest = 0.8482556831\n",
            "bestIteration = 165\n",
            "\n",
            "Shrink model to first 166 iterations.\n",
            "Catboost Score at fold 1 :  0.8482556830970065\n",
            "0:\tlearn: 0.8406458\ttest: 0.8395606\tbest: 0.8395606 (0)\ttotal: 148ms\tremaining: 2m 27s\n",
            "50:\tlearn: 0.8449073\ttest: 0.8439273\tbest: 0.8439723 (48)\ttotal: 6.34s\tremaining: 1m 58s\n",
            "100:\tlearn: 0.8476232\ttest: 0.8445125\tbest: 0.8446025 (98)\ttotal: 12.4s\tremaining: 1m 50s\n",
            "150:\tlearn: 0.8495138\ttest: 0.8446925\tbest: 0.8451877 (123)\ttotal: 18.9s\tremaining: 1m 46s\n",
            "Stopped by overfitting detector  (50 iterations wait)\n",
            "\n",
            "bestTest = 0.8451877195\n",
            "bestIteration = 123\n",
            "\n",
            "Shrink model to first 124 iterations.\n",
            "Catboost Score at fold 2 :  0.8451877194561987\n",
            "0:\tlearn: 0.8395054\ttest: 0.8429819\tbest: 0.8429819 (0)\ttotal: 137ms\tremaining: 2m 16s\n",
            "50:\tlearn: 0.8436919\ttest: 0.8461331\tbest: 0.8463131 (46)\ttotal: 6.22s\tremaining: 1m 55s\n",
            "100:\tlearn: 0.8467829\ttest: 0.8477987\tbest: 0.8477987 (100)\ttotal: 12.4s\tremaining: 1m 50s\n",
            "150:\tlearn: 0.8483734\ttest: 0.8488341\tbest: 0.8491042 (148)\ttotal: 18.7s\tremaining: 1m 45s\n",
            "200:\tlearn: 0.8494388\ttest: 0.8491492\tbest: 0.8493743 (176)\ttotal: 25.1s\tremaining: 1m 39s\n",
            "Stopped by overfitting detector  (50 iterations wait)\n",
            "\n",
            "bestTest = 0.8493742685\n",
            "bestIteration = 176\n",
            "\n",
            "Shrink model to first 177 iterations.\n",
            "Catboost Score at fold 3 :  0.8493742684793374\n",
            "mean_score 0.8471156264009446\n",
            "\n",
            "Performing on N_folds : 5\n",
            "0:\tlearn: 0.8398982\ttest: 0.8423363\tbest: 0.8423363 (0)\ttotal: 148ms\tremaining: 2m 27s\n",
            "50:\tlearn: 0.8443857\ttest: 0.8457686\tbest: 0.8458812 (49)\ttotal: 6.31s\tremaining: 1m 57s\n",
            "100:\tlearn: 0.8469882\ttest: 0.8470065\tbest: 0.8481319 (76)\ttotal: 12.7s\tremaining: 1m 52s\n",
            "Stopped by overfitting detector  (50 iterations wait)\n",
            "\n",
            "bestTest = 0.8481318929\n",
            "bestIteration = 76\n",
            "\n",
            "Shrink model to first 77 iterations.\n",
            "Catboost Score at fold 0 :  0.8481318928651812\n",
            "0:\tlearn: 0.8408547\ttest: 0.8384537\tbest: 0.8384537 (0)\ttotal: 131ms\tremaining: 2m 10s\n",
            "50:\tlearn: 0.8450890\ttest: 0.8419986\tbest: 0.8421675 (44)\ttotal: 6.45s\tremaining: 1m 59s\n",
            "100:\tlearn: 0.8477478\ttest: 0.8441931\tbest: 0.8441931 (96)\ttotal: 13s\tremaining: 1m 55s\n",
            "150:\tlearn: 0.8490701\ttest: 0.8442494\tbest: 0.8445307 (149)\ttotal: 19.7s\tremaining: 1m 50s\n",
            "200:\tlearn: 0.8503643\ttest: 0.8446995\tbest: 0.8450934 (185)\ttotal: 26.6s\tremaining: 1m 45s\n",
            "Stopped by overfitting detector  (50 iterations wait)\n",
            "\n",
            "bestTest = 0.8450934054\n",
            "bestIteration = 185\n",
            "\n",
            "Shrink model to first 186 iterations.\n",
            "Catboost Score at fold 1 :  0.8450934053567409\n",
            "0:\tlearn: 0.8408266\ttest: 0.8382287\tbest: 0.8382287 (0)\ttotal: 132ms\tremaining: 2m 11s\n",
            "50:\tlearn: 0.8453985\ttest: 0.8415485\tbest: 0.8418861 (37)\ttotal: 6.39s\tremaining: 1m 58s\n",
            "100:\tlearn: 0.8477056\ttest: 0.8437430\tbest: 0.8438555 (98)\ttotal: 12.7s\tremaining: 1m 53s\n",
            "150:\tlearn: 0.8494359\ttest: 0.8449246\tbest: 0.8450371 (139)\ttotal: 19.5s\tremaining: 1m 49s\n",
            "Stopped by overfitting detector  (50 iterations wait)\n",
            "\n",
            "bestTest = 0.8450371371\n",
            "bestIteration = 139\n",
            "\n",
            "Shrink model to first 140 iterations.\n",
            "Catboost Score at fold 2 :  0.8450371370695476\n",
            "0:\tlearn: 0.8402380\ttest: 0.8409206\tbest: 0.8409206 (0)\ttotal: 151ms\tremaining: 2m 30s\n",
            "50:\tlearn: 0.8437408\ttest: 0.8456474\tbest: 0.8460976 (45)\ttotal: 6.49s\tremaining: 2m\n",
            "100:\tlearn: 0.8471310\ttest: 0.8473918\tbest: 0.8473918 (93)\ttotal: 12.9s\tremaining: 1m 54s\n",
            "150:\tlearn: 0.8488050\ttest: 0.8477857\tbest: 0.8479545 (122)\ttotal: 19.5s\tremaining: 1m 49s\n",
            "Stopped by overfitting detector  (50 iterations wait)\n",
            "\n",
            "bestTest = 0.8479545327\n",
            "bestIteration = 122\n",
            "\n",
            "Shrink model to first 123 iterations.\n",
            "Catboost Score at fold 3 :  0.8479545326655787\n",
            "0:\tlearn: 0.8400973\ttest: 0.8414833\tbest: 0.8414833 (0)\ttotal: 142ms\tremaining: 2m 22s\n",
            "50:\tlearn: 0.8440643\ttest: 0.8441843\tbest: 0.8444094 (47)\ttotal: 6.63s\tremaining: 2m 3s\n",
            "100:\tlearn: 0.8469762\ttest: 0.8464352\tbest: 0.8464915 (94)\ttotal: 13.2s\tremaining: 1m 57s\n",
            "Stopped by overfitting detector  (50 iterations wait)\n",
            "\n",
            "bestTest = 0.8464914749\n",
            "bestIteration = 94\n",
            "\n",
            "Shrink model to first 95 iterations.\n",
            "Catboost Score at fold 4 :  0.846491474874796\n",
            "mean_score 0.8465416885663689\n",
            "\n",
            "Performing on N_folds : 10\n",
            "0:\tlearn: 0.8355174\ttest: 0.8350214\tbest: 0.8350214 (0)\ttotal: 155ms\tremaining: 2m 34s\n",
            "50:\tlearn: 0.8446081\ttest: 0.8435742\tbest: 0.8435742 (30)\ttotal: 7.19s\tremaining: 2m 13s\n",
            "Stopped by overfitting detector  (50 iterations wait)\n",
            "\n",
            "bestTest = 0.8435741616\n",
            "bestIteration = 30\n",
            "\n",
            "Shrink model to first 31 iterations.\n",
            "Catboost Score at fold 0 :  0.8435741616025209\n",
            "0:\tlearn: 0.8356925\ttest: 0.8334459\tbest: 0.8334459 (0)\ttotal: 153ms\tremaining: 2m 33s\n",
            "50:\tlearn: 0.8445956\ttest: 0.8430115\tbest: 0.8431240 (48)\ttotal: 7.27s\tremaining: 2m 15s\n",
            "100:\tlearn: 0.8474716\ttest: 0.8440243\tbest: 0.8446995 (81)\ttotal: 14.3s\tremaining: 2m 7s\n",
            "Stopped by overfitting detector  (50 iterations wait)\n",
            "\n",
            "bestTest = 0.8446995273\n",
            "bestIteration = 81\n",
            "\n",
            "Shrink model to first 82 iterations.\n",
            "Catboost Score at fold 1 :  0.8446995273463875\n",
            "0:\tlearn: 0.8351173\ttest: 0.8386226\tbest: 0.8386226 (0)\ttotal: 150ms\tremaining: 2m 29s\n",
            "50:\tlearn: 0.8445706\ttest: 0.8445870\tbest: 0.8445870 (20)\ttotal: 7.04s\tremaining: 2m 11s\n",
            "100:\tlearn: 0.8471340\ttest: 0.8472879\tbest: 0.8478506 (87)\ttotal: 14.3s\tremaining: 2m 7s\n",
            "150:\tlearn: 0.8484595\ttest: 0.8474004\tbest: 0.8480756 (130)\ttotal: 21.8s\tremaining: 2m 2s\n",
            "Stopped by overfitting detector  (50 iterations wait)\n",
            "\n",
            "bestTest = 0.8480756246\n",
            "bestIteration = 130\n",
            "\n",
            "Shrink model to first 131 iterations.\n",
            "Catboost Score at fold 2 :  0.8480756245779878\n",
            "0:\tlearn: 0.8354049\ttest: 0.8360342\tbest: 0.8360342 (0)\ttotal: 149ms\tremaining: 2m 29s\n",
            "50:\tlearn: 0.8448707\ttest: 0.8450371\tbest: 0.8450371 (50)\ttotal: 7.24s\tremaining: 2m 14s\n",
            "100:\tlearn: 0.8476217\ttest: 0.8444745\tbest: 0.8452622 (61)\ttotal: 14.2s\tremaining: 2m 6s\n",
            "Stopped by overfitting detector  (50 iterations wait)\n",
            "\n",
            "bestTest = 0.8452622102\n",
            "bestIteration = 61\n",
            "\n",
            "Shrink model to first 62 iterations.\n",
            "Catboost Score at fold 3 :  0.8452622102183209\n",
            "0:\tlearn: 0.8362927\ttest: 0.8280441\tbest: 0.8280441 (0)\ttotal: 150ms\tremaining: 2m 29s\n",
            "50:\tlearn: 0.8452833\ttest: 0.8381724\tbest: 0.8385100 (42)\ttotal: 7.24s\tremaining: 2m 14s\n",
            "100:\tlearn: 0.8476592\ttest: 0.8398605\tbest: 0.8401981 (96)\ttotal: 14.2s\tremaining: 2m 6s\n",
            "150:\tlearn: 0.8494598\ttest: 0.8410984\tbest: 0.8410984 (150)\ttotal: 21.7s\tremaining: 2m 1s\n",
            "200:\tlearn: 0.8502726\ttest: 0.8407607\tbest: 0.8410984 (150)\ttotal: 29s\tremaining: 1m 55s\n",
            "Stopped by overfitting detector  (50 iterations wait)\n",
            "\n",
            "bestTest = 0.841098357\n",
            "bestIteration = 150\n",
            "\n",
            "Shrink model to first 151 iterations.\n",
            "Catboost Score at fold 4 :  0.841098356966014\n",
            "0:\tlearn: 0.8358676\ttest: 0.8318704\tbest: 0.8318704 (0)\ttotal: 151ms\tremaining: 2m 30s\n",
            "50:\tlearn: 0.8453209\ttest: 0.8412109\tbest: 0.8415485 (39)\ttotal: 7.9s\tremaining: 2m 27s\n",
            "100:\tlearn: 0.8475341\ttest: 0.8443619\tbest: 0.8443619 (100)\ttotal: 18.2s\tremaining: 2m 42s\n",
            "150:\tlearn: 0.8488846\ttest: 0.8446995\tbest: 0.8450371 (132)\ttotal: 25.8s\tremaining: 2m 24s\n",
            "200:\tlearn: 0.8500975\ttest: 0.8453747\tbest: 0.8455998 (190)\ttotal: 33.4s\tremaining: 2m 12s\n",
            "250:\tlearn: 0.8512729\ttest: 0.8451497\tbest: 0.8459374 (235)\ttotal: 40.8s\tremaining: 2m 1s\n",
            "300:\tlearn: 0.8518356\ttest: 0.8460500\tbest: 0.8462750 (282)\ttotal: 48.3s\tremaining: 1m 52s\n",
            "350:\tlearn: 0.8526609\ttest: 0.8461625\tbest: 0.8463876 (303)\ttotal: 55.9s\tremaining: 1m 43s\n",
            "Stopped by overfitting detector  (50 iterations wait)\n",
            "\n",
            "bestTest = 0.846387576\n",
            "bestIteration = 303\n",
            "\n",
            "Shrink model to first 304 iterations.\n",
            "Catboost Score at fold 5 :  0.8463875759621877\n",
            "0:\tlearn: 0.8348922\ttest: 0.8406482\tbest: 0.8406482 (0)\ttotal: 153ms\tremaining: 2m 33s\n",
            "50:\tlearn: 0.8434452\ttest: 0.8483007\tbest: 0.8483007 (48)\ttotal: 7.07s\tremaining: 2m 11s\n",
            "100:\tlearn: 0.8465588\ttest: 0.8508890\tbest: 0.8512266 (98)\ttotal: 14.1s\tremaining: 2m 5s\n",
            "150:\tlearn: 0.8485095\ttest: 0.8521269\tbest: 0.8526896 (130)\ttotal: 21.5s\tremaining: 2m\n",
            "Stopped by overfitting detector  (50 iterations wait)\n",
            "\n",
            "bestTest = 0.8526896241\n",
            "bestIteration = 130\n",
            "\n",
            "Shrink model to first 131 iterations.\n",
            "Catboost Score at fold 6 :  0.8526896241278416\n",
            "0:\tlearn: 0.8354049\ttest: 0.8360342\tbest: 0.8360342 (0)\ttotal: 149ms\tremaining: 2m 29s\n",
            "50:\tlearn: 0.8447957\ttest: 0.8450371\tbest: 0.8451497 (49)\ttotal: 7.26s\tremaining: 2m 15s\n",
            "100:\tlearn: 0.8477217\ttest: 0.8455998\tbest: 0.8465001 (81)\ttotal: 14.4s\tremaining: 2m 7s\n",
            "150:\tlearn: 0.8490972\ttest: 0.8468377\tbest: 0.8471753 (149)\ttotal: 22.1s\tremaining: 2m 4s\n",
            "200:\tlearn: 0.8497849\ttest: 0.8470628\tbest: 0.8477380 (193)\ttotal: 29.5s\tremaining: 1m 57s\n",
            "Stopped by overfitting detector  (50 iterations wait)\n",
            "\n",
            "bestTest = 0.8477380149\n",
            "bestIteration = 193\n",
            "\n",
            "Shrink model to first 194 iterations.\n",
            "Catboost Score at fold 7 :  0.8477380148548278\n",
            "0:\tlearn: 0.8398209\ttest: 0.8453573\tbest: 0.8453573 (0)\ttotal: 157ms\tremaining: 2m 37s\n",
            "50:\tlearn: 0.8442599\ttest: 0.8486213\tbest: 0.8490715 (48)\ttotal: 7.18s\tremaining: 2m 13s\n",
            "100:\tlearn: 0.8468983\ttest: 0.8506472\tbest: 0.8510974 (95)\ttotal: 14.4s\tremaining: 2m 8s\n",
            "150:\tlearn: 0.8482863\ttest: 0.8522228\tbest: 0.8522228 (150)\ttotal: 21.8s\tremaining: 2m 2s\n",
            "200:\tlearn: 0.8494242\ttest: 0.8522228\tbest: 0.8523354 (174)\ttotal: 29.1s\tremaining: 1m 55s\n",
            "250:\tlearn: 0.8503245\ttest: 0.8509848\tbest: 0.8524479 (206)\ttotal: 36.6s\tremaining: 1m 49s\n",
            "Stopped by overfitting detector  (50 iterations wait)\n",
            "\n",
            "bestTest = 0.852447946\n",
            "bestIteration = 206\n",
            "\n",
            "Shrink model to first 207 iterations.\n",
            "Catboost Score at fold 8 :  0.8524479459763646\n",
            "0:\tlearn: 0.8404962\ttest: 0.8392797\tbest: 0.8392797 (0)\ttotal: 149ms\tremaining: 2m 29s\n",
            "50:\tlearn: 0.8447601\ttest: 0.8454699\tbest: 0.8458075 (46)\ttotal: 7.22s\tremaining: 2m 14s\n",
            "100:\tlearn: 0.8471359\ttest: 0.8463703\tbest: 0.8467079 (94)\ttotal: 14.1s\tremaining: 2m 5s\n",
            "150:\tlearn: 0.8484739\ttest: 0.8478334\tbest: 0.8481711 (142)\ttotal: 21.4s\tremaining: 2m\n",
            "Stopped by overfitting detector  (50 iterations wait)\n",
            "\n",
            "bestTest = 0.8481710748\n",
            "bestIteration = 142\n",
            "\n",
            "Shrink model to first 143 iterations.\n",
            "Catboost Score at fold 9 :  0.8481710748452448\n",
            "mean_score 0.8470144116477696\n"
          ],
          "name": "stdout"
        }
      ]
    },
    {
      "cell_type": "code",
      "metadata": {
        "id": "GFSNHxMBM7Rw",
        "colab_type": "code",
        "colab": {
          "base_uri": "https://localhost:8080/",
          "height": 269
        },
        "outputId": "25f54f8d-c0d7-45ff-fea7-dd9b43110b47"
      },
      "source": [
        "n_folds=[]\n",
        "for n_fold in n_folds:\n",
        "  print(\"\\nPerforming on N_folds :\",n_fold)\n",
        "  folds = KFold(n_splits=n_fold,shuffle=True)\n",
        "  scores=[]\n",
        "  max_score = 0\n",
        "\n",
        "  for (train_idx,test_idx),i in list(zip(folds.split(X,Y),range(n_fold))):\n",
        "    test_set = (X.iloc[test_idx],Y.iloc[test_idx])\n",
        "    model = CatBoostClassifier(**params)\n",
        "    model.fit(X.iloc[train_idx],Y.iloc[train_idx],\n",
        "              cat_features=[\"Crop_Type\",'Soil_Type','Pesticide_Use_Category','Season'],\n",
        "              eval_set=test_set)\n",
        "    # model= LGBMClassifier()\n",
        "    # model.fit(X.iloc[train_idx],Y.iloc[train_idx])\n",
        "    score = model.score(*test_set)\n",
        "    scores.append(score)\n",
        "    if score > max_score:\n",
        "      max_score=score\n",
        "      best_idx=train_idx\n",
        "      val_idx = test_idx\n",
        "    print(\"Catboost Score at fold %d : \" % i,score)\n",
        "\n",
        "  print(\"mean_score\",np.array(scores).mean())\n",
        "\n",
        "\n",
        "test_set = (X.iloc[val_idx],Y.iloc[val_idx])\n",
        "model= CatBoostClassifier(**params)\n",
        "model.fit(X.iloc[train_idx],Y.iloc[train_idx],\n",
        "          cat_features=[\"Crop_Type\",'Soil_Type','Pesticide_Use_Category','Season'],\n",
        "          eval_set=test_set)\n",
        "score = model.score(*test_set)\n",
        "score"
      ],
      "execution_count": 195,
      "outputs": [
        {
          "output_type": "stream",
          "text": [
            "0:\tlearn: 0.8406462\ttest: 0.8444745\tbest: 0.8444745 (0)\ttotal: 151ms\tremaining: 2m 30s\n",
            "50:\tlearn: 0.8443350\ttest: 0.8472879\tbest: 0.8472879 (45)\ttotal: 6.99s\tremaining: 2m 10s\n",
            "100:\tlearn: 0.8468358\ttest: 0.8503264\tbest: 0.8503264 (98)\ttotal: 14.3s\tremaining: 2m 6s\n",
            "150:\tlearn: 0.8486614\ttest: 0.8517893\tbest: 0.8517893 (129)\ttotal: 21.9s\tremaining: 2m 3s\n",
            "200:\tlearn: 0.8500244\ttest: 0.8524646\tbest: 0.8525771 (167)\ttotal: 29.5s\tremaining: 1m 57s\n",
            "250:\tlearn: 0.8508622\ttest: 0.8530272\tbest: 0.8532523 (249)\ttotal: 37.1s\tremaining: 1m 50s\n",
            "300:\tlearn: 0.8515624\ttest: 0.8534774\tbest: 0.8539275 (280)\ttotal: 44.8s\tremaining: 1m 44s\n",
            "350:\tlearn: 0.8522376\ttest: 0.8537025\tbest: 0.8540401 (308)\ttotal: 52.3s\tremaining: 1m 36s\n",
            "Stopped by overfitting detector  (50 iterations wait)\n",
            "\n",
            "bestTest = 0.854040063\n",
            "bestIteration = 308\n",
            "\n",
            "Shrink model to first 309 iterations.\n"
          ],
          "name": "stdout"
        },
        {
          "output_type": "execute_result",
          "data": {
            "text/plain": [
              "0.8540400630204816"
            ]
          },
          "metadata": {
            "tags": []
          },
          "execution_count": 195
        }
      ]
    },
    {
      "cell_type": "code",
      "metadata": {
        "id": "bCNAUJrYN9-Z",
        "colab_type": "code",
        "colab": {
          "base_uri": "https://localhost:8080/",
          "height": 284
        },
        "outputId": "fd90f60e-1e42-4a23-bd59-96c4e01e8ce7"
      },
      "source": [
        "pd.DataFrame(list(zip(x_train.columns,model.feature_importances_)),columns=['Feature','Importance']).sort_values(\"Importance\",ascending=False)"
      ],
      "execution_count": 196,
      "outputs": [
        {
          "output_type": "execute_result",
          "data": {
            "text/html": [
              "<div>\n",
              "<style scoped>\n",
              "    .dataframe tbody tr th:only-of-type {\n",
              "        vertical-align: middle;\n",
              "    }\n",
              "\n",
              "    .dataframe tbody tr th {\n",
              "        vertical-align: top;\n",
              "    }\n",
              "\n",
              "    .dataframe thead th {\n",
              "        text-align: right;\n",
              "    }\n",
              "</style>\n",
              "<table border=\"1\" class=\"dataframe\">\n",
              "  <thead>\n",
              "    <tr style=\"text-align: right;\">\n",
              "      <th></th>\n",
              "      <th>Feature</th>\n",
              "      <th>Importance</th>\n",
              "    </tr>\n",
              "  </thead>\n",
              "  <tbody>\n",
              "    <tr>\n",
              "      <th>0</th>\n",
              "      <td>Estimated_Insects_Count</td>\n",
              "      <td>21.866511</td>\n",
              "    </tr>\n",
              "    <tr>\n",
              "      <th>5</th>\n",
              "      <td>Number_Weeks_Used</td>\n",
              "      <td>21.465803</td>\n",
              "    </tr>\n",
              "    <tr>\n",
              "      <th>4</th>\n",
              "      <td>Number_Doses_Week</td>\n",
              "      <td>19.807144</td>\n",
              "    </tr>\n",
              "    <tr>\n",
              "      <th>3</th>\n",
              "      <td>Pesticide_Use_Category</td>\n",
              "      <td>14.711503</td>\n",
              "    </tr>\n",
              "    <tr>\n",
              "      <th>6</th>\n",
              "      <td>Number_Weeks_Quit</td>\n",
              "      <td>10.784781</td>\n",
              "    </tr>\n",
              "    <tr>\n",
              "      <th>1</th>\n",
              "      <td>Crop_Type</td>\n",
              "      <td>4.658484</td>\n",
              "    </tr>\n",
              "    <tr>\n",
              "      <th>7</th>\n",
              "      <td>Season</td>\n",
              "      <td>3.898311</td>\n",
              "    </tr>\n",
              "    <tr>\n",
              "      <th>2</th>\n",
              "      <td>Soil_Type</td>\n",
              "      <td>2.807463</td>\n",
              "    </tr>\n",
              "  </tbody>\n",
              "</table>\n",
              "</div>"
            ],
            "text/plain": [
              "                   Feature  Importance\n",
              "0  Estimated_Insects_Count   21.866511\n",
              "5        Number_Weeks_Used   21.465803\n",
              "4        Number_Doses_Week   19.807144\n",
              "3   Pesticide_Use_Category   14.711503\n",
              "6        Number_Weeks_Quit   10.784781\n",
              "1                Crop_Type    4.658484\n",
              "7                   Season    3.898311\n",
              "2                Soil_Type    2.807463"
            ]
          },
          "metadata": {
            "tags": []
          },
          "execution_count": 196
        }
      ]
    },
    {
      "cell_type": "code",
      "metadata": {
        "id": "1o-Dhh0pFjL6",
        "colab_type": "code",
        "colab": {
          "base_uri": "https://localhost:8080/",
          "height": 402
        },
        "outputId": "e26f4498-fc3e-4d61-b839-253bcab9588e"
      },
      "source": [
        "predictions = model.predict(test.drop(['ID'],axis=1))\n",
        "test['Crop_Damage'] = predictions\n",
        "submission = test[['ID','Crop_Damage']]\n",
        "submission.to_csv(\"catboost_v3.csv\",index=False)\n",
        "submission"
      ],
      "execution_count": 197,
      "outputs": [
        {
          "output_type": "execute_result",
          "data": {
            "text/html": [
              "<div>\n",
              "<style scoped>\n",
              "    .dataframe tbody tr th:only-of-type {\n",
              "        vertical-align: middle;\n",
              "    }\n",
              "\n",
              "    .dataframe tbody tr th {\n",
              "        vertical-align: top;\n",
              "    }\n",
              "\n",
              "    .dataframe thead th {\n",
              "        text-align: right;\n",
              "    }\n",
              "</style>\n",
              "<table border=\"1\" class=\"dataframe\">\n",
              "  <thead>\n",
              "    <tr style=\"text-align: right;\">\n",
              "      <th></th>\n",
              "      <th>ID</th>\n",
              "      <th>Crop_Damage</th>\n",
              "    </tr>\n",
              "  </thead>\n",
              "  <tbody>\n",
              "    <tr>\n",
              "      <th>79858</th>\n",
              "      <td>F00000007</td>\n",
              "      <td>1.0</td>\n",
              "    </tr>\n",
              "    <tr>\n",
              "      <th>79859</th>\n",
              "      <td>F00000011</td>\n",
              "      <td>1.0</td>\n",
              "    </tr>\n",
              "    <tr>\n",
              "      <th>79860</th>\n",
              "      <td>F00000013</td>\n",
              "      <td>1.0</td>\n",
              "    </tr>\n",
              "    <tr>\n",
              "      <th>79861</th>\n",
              "      <td>F00000014</td>\n",
              "      <td>1.0</td>\n",
              "    </tr>\n",
              "    <tr>\n",
              "      <th>79862</th>\n",
              "      <td>F00000015</td>\n",
              "      <td>1.0</td>\n",
              "    </tr>\n",
              "    <tr>\n",
              "      <th>...</th>\n",
              "      <td>...</td>\n",
              "      <td>...</td>\n",
              "    </tr>\n",
              "    <tr>\n",
              "      <th>148163</th>\n",
              "      <td>F00155852</td>\n",
              "      <td>0.0</td>\n",
              "    </tr>\n",
              "    <tr>\n",
              "      <th>148164</th>\n",
              "      <td>F00155861</td>\n",
              "      <td>0.0</td>\n",
              "    </tr>\n",
              "    <tr>\n",
              "      <th>148165</th>\n",
              "      <td>F00155876</td>\n",
              "      <td>0.0</td>\n",
              "    </tr>\n",
              "    <tr>\n",
              "      <th>148166</th>\n",
              "      <td>F00155885</td>\n",
              "      <td>0.0</td>\n",
              "    </tr>\n",
              "    <tr>\n",
              "      <th>148167</th>\n",
              "      <td>F00155941</td>\n",
              "      <td>1.0</td>\n",
              "    </tr>\n",
              "  </tbody>\n",
              "</table>\n",
              "<p>59310 rows × 2 columns</p>\n",
              "</div>"
            ],
            "text/plain": [
              "               ID  Crop_Damage\n",
              "79858   F00000007          1.0\n",
              "79859   F00000011          1.0\n",
              "79860   F00000013          1.0\n",
              "79861   F00000014          1.0\n",
              "79862   F00000015          1.0\n",
              "...           ...          ...\n",
              "148163  F00155852          0.0\n",
              "148164  F00155861          0.0\n",
              "148165  F00155876          0.0\n",
              "148166  F00155885          0.0\n",
              "148167  F00155941          1.0\n",
              "\n",
              "[59310 rows x 2 columns]"
            ]
          },
          "metadata": {
            "tags": []
          },
          "execution_count": 197
        }
      ]
    },
    {
      "cell_type": "code",
      "metadata": {
        "id": "0gJSiEqtNL2u",
        "colab_type": "code",
        "colab": {}
      },
      "source": [
        ""
      ],
      "execution_count": null,
      "outputs": []
    }
  ]
}