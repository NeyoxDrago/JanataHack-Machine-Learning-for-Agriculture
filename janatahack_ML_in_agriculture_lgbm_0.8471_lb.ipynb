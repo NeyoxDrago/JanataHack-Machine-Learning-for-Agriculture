{
  "nbformat": 4,
  "nbformat_minor": 0,
  "metadata": {
    "colab": {
      "name": "janatahack_ML_in_agriculture.ipynb",
      "provenance": [],
      "collapsed_sections": []
    },
    "kernelspec": {
      "name": "python3",
      "display_name": "Python 3"
    }
  },
  "cells": [
    {
      "cell_type": "code",
      "metadata": {
        "id": "OALRaJOvUTDg",
        "colab_type": "code",
        "colab": {
          "base_uri": "https://localhost:8080/",
          "height": 386
        },
        "outputId": "d06cabc1-749c-43df-a578-b9b34bfc9f5f"
      },
      "source": [
        "import os\n",
        "if not os.path.exists(\"train.csv\"):\n",
        "  !wget --header=\"Host: datahack-prod.s3.amazonaws.com\" --header=\"User-Agent: Mozilla/5.0 (Windows NT 10.0; Win64; x64) AppleWebKit/537.36 (KHTML, like Gecko) Chrome/84.0.4147.89 Safari/537.36\" --header=\"Accept: text/html,application/xhtml+xml,application/xml;q=0.9,image/webp,image/apng,*/*;q=0.8,application/signed-exchange;v=b3;q=0.9\" --header=\"Accept-Language: en-US,en;q=0.9\" --header=\"Referer: https://datahack.analyticsvidhya.com/contest/janatahack-machine-learning-in-agriculture/\" \"https://datahack-prod.s3.amazonaws.com/train_file/train_yaOffsB.csv\" -c -O 'train.csv'\n",
        "\n",
        "if not os.path.exists(\"test.csv\"):\n",
        "  !wget --header=\"Host: datahack-prod.s3.amazonaws.com\" --header=\"User-Agent: Mozilla/5.0 (Windows NT 10.0; Win64; x64) AppleWebKit/537.36 (KHTML, like Gecko) Chrome/84.0.4147.89 Safari/537.36\" --header=\"Accept: text/html,application/xhtml+xml,application/xml;q=0.9,image/webp,image/apng,*/*;q=0.8,application/signed-exchange;v=b3;q=0.9\" --header=\"Accept-Language: en-US,en;q=0.9\" --header=\"Referer: https://datahack.analyticsvidhya.com/contest/janatahack-machine-learning-in-agriculture/\" \"https://datahack-prod.s3.amazonaws.com/test_file/test_pFkWwen.csv\" -c -O 'test.csv'"
      ],
      "execution_count": 1,
      "outputs": [
        {
          "output_type": "stream",
          "text": [
            "--2020-07-26 15:08:13--  https://datahack-prod.s3.amazonaws.com/train_file/train_yaOffsB.csv\n",
            "Resolving datahack-prod.s3.amazonaws.com (datahack-prod.s3.amazonaws.com)... 52.219.64.124\n",
            "Connecting to datahack-prod.s3.amazonaws.com (datahack-prod.s3.amazonaws.com)|52.219.64.124|:443... connected.\n",
            "HTTP request sent, awaiting response... 200 OK\n",
            "Length: 2997136 (2.9M) [text/csv]\n",
            "Saving to: ‘train.csv’\n",
            "\n",
            "train.csv           100%[===================>]   2.86M  3.81MB/s    in 0.8s    \n",
            "\n",
            "2020-07-26 15:08:14 (3.81 MB/s) - ‘train.csv’ saved [2997136/2997136]\n",
            "\n",
            "--2020-07-26 15:08:16--  https://datahack-prod.s3.amazonaws.com/test_file/test_pFkWwen.csv\n",
            "Resolving datahack-prod.s3.amazonaws.com (datahack-prod.s3.amazonaws.com)... 52.219.66.116\n",
            "Connecting to datahack-prod.s3.amazonaws.com (datahack-prod.s3.amazonaws.com)|52.219.66.116|:443... connected.\n",
            "HTTP request sent, awaiting response... 200 OK\n",
            "Length: 1881912 (1.8M) [text/csv]\n",
            "Saving to: ‘test.csv’\n",
            "\n",
            "test.csv            100%[===================>]   1.79M  2.37MB/s    in 0.8s    \n",
            "\n",
            "2020-07-26 15:08:17 (2.37 MB/s) - ‘test.csv’ saved [1881912/1881912]\n",
            "\n"
          ],
          "name": "stdout"
        }
      ]
    },
    {
      "cell_type": "code",
      "metadata": {
        "id": "gg9P4O2jUll6",
        "colab_type": "code",
        "colab": {
          "base_uri": "https://localhost:8080/",
          "height": 70
        },
        "outputId": "c83cca36-89a0-4d50-e52d-759639069c91"
      },
      "source": [
        "import pandas as pd\n",
        "import numpy as np\n",
        "import seaborn as sns\n",
        "import os"
      ],
      "execution_count": 2,
      "outputs": [
        {
          "output_type": "stream",
          "text": [
            "/usr/local/lib/python3.6/dist-packages/statsmodels/tools/_testing.py:19: FutureWarning: pandas.util.testing is deprecated. Use the functions in the public API at pandas.testing instead.\n",
            "  import pandas.util.testing as tm\n"
          ],
          "name": "stderr"
        }
      ]
    },
    {
      "cell_type": "code",
      "metadata": {
        "id": "b0Zoe4OqUvo1",
        "colab_type": "code",
        "colab": {
          "base_uri": "https://localhost:8080/",
          "height": 455
        },
        "outputId": "1fc55e87-221b-464e-df93-a5b6cf82a241"
      },
      "source": [
        "# ID\t: UniqueID\n",
        "# Estimated_Insects_Count\t: Estimated insects count per square meter\n",
        "# Crop_Type :\tCategory of Crop(0,1)\n",
        "# Soil_Type\t: Category of Soil (0,1)\n",
        "# Pesticide_Use_Category : Type of pesticides uses (1- Never, 2-Previously Used, 3-Currently Using)\n",
        "# Number_Doses_Week :\tNumber of doses per week\n",
        "# Number_Weeks_Used\t: Number of weeks used\n",
        "# Number_Weeks_Quit\t: Number of weeks quit\n",
        "# Season :\tSeason Category (1,2,3)\n",
        "# Crop_Damage\t: Crop Damage Category (0=alive, 1=Damage due to other causes, 2=Damage due to Pesticides)\n",
        "\n",
        "train = pd.read_csv(\"train.csv\")\n",
        "test = pd.read_csv(\"test.csv\")\n",
        "merge = pd.concat([train,test]).reset_index(drop=True)\n",
        "print(merge.shape)\n",
        "\n",
        "# test['Estimated_Insects_Count_per_km_sq'] = test['Estimated_Insects_Count'].apply(lambda x:x*0.000001) \n",
        "# train['Estimated_Insects_Count_per_km_sq'] = train['Estimated_Insects_Count'].apply(lambda x:x*0.000001) \n",
        "\n",
        "from sklearn.linear_model import LinearRegression,LogisticRegression\n",
        "from lightgbm import LGBMRegressor,LGBMClassifier\n",
        "from xgboost import XGBRegressor,XGBClassifier\n",
        "from sklearn.model_selection import train_test_split\n",
        "\n",
        "imputer = LGBMRegressor()\n",
        "use_train = merge[~merge.Number_Weeks_Used.isna()]\n",
        "X = use_train.drop(['ID','Number_Weeks_Used','Crop_Damage'],axis=1)\n",
        "Y = use_train[['Number_Weeks_Used']]\n",
        "impute_train_x,impute_test_x,impute_train_y,impute_test_y = train_test_split(X,Y,test_size=0.2,shuffle=True)\n",
        "imputer.fit(impute_train_x,impute_train_y)\n",
        "print(imputer.score(impute_test_x,impute_test_y))\n",
        "\n",
        "imputer.fit(X,Y)\n",
        "\n",
        "na_train = merge[merge.Number_Weeks_Used.isna()]\n",
        "output = imputer.predict(na_train.drop(['ID','Number_Weeks_Used','Crop_Damage'],axis=1))\n",
        "na_train['Number_Weeks_Used'] = output\n",
        "# print(na_train.shape,use_train.shape)\n",
        "\n",
        "merge = pd.concat([use_train,na_train]).reset_index(drop=True)\n",
        "# # print(merge.shape)\n",
        "merge.Number_Weeks_Used = merge.Number_Weeks_Used.fillna(merge.Number_Weeks_Used.dropna().values.mean())\n",
        "merge['Number_Weeks_Used'] = merge['Number_Weeks_Used'].apply(lambda x:int(x))\n",
        "merge['Number_Weeks_Quit'] = merge['Number_Weeks_Quit'].apply(lambda x:int(x))\n",
        "merge['total_doses_taken'] = merge.apply(lambda x:x['Number_Doses_Week']*x['Number_Weeks_Used'],axis=1)\n",
        "merge['num_farming_weeks'] = merge.apply(lambda x:x['Number_Weeks_Used']+x['Number_Weeks_Quit'],axis=1)\n",
        "\n",
        "cat_columns = ['Crop_Type',\"Soil_Type\",\"Pesticide_Use_Category\",\"Season\"]\n",
        "\n",
        "m = merge.groupby(cat_columns)['Number_Doses_Week',\"Number_Weeks_Used\",\"Number_Weeks_Quit\",\"total_doses_taken\",\"num_farming_weeks\"]\n",
        "m = m.agg(['mean',\"max\"]).reset_index()\n",
        "columns = []\n",
        "for i in m.columns:\n",
        "  if len(i) >1 and i[1] != \"\":\n",
        "    columns.append(\"_\".join(i))\n",
        "  else:\n",
        "    columns.append(i[0])\n",
        "m.columns = columns\n",
        "merge = merge.merge(m,on=cat_columns,how=\"left\")\n",
        "\n",
        "non_cat_columns = merge.drop(cat_columns+['Crop_Damage',\"ID\"],axis=1).columns\n",
        "\n",
        "num_cols= ['Estimated_Insects_Count','Number_Doses_Week','Number_Weeks_Used','Number_Weeks_Quit','total_doses_taken','num_farming_weeks']\n",
        "\n",
        "from sklearn.preprocessing import StandardScaler\n",
        "scaler = StandardScaler()\n",
        "merge.loc[:,non_cat_columns] = scaler.fit_transform(merge[non_cat_columns])\n",
        "\n",
        "train = merge[~merge.Crop_Damage.isna()]\n",
        "test = merge[merge.Crop_Damage.isna()]\n",
        "test.drop(['Crop_Damage'],axis=1,inplace=True)\n",
        "\n",
        "train"
      ],
      "execution_count": 121,
      "outputs": [
        {
          "output_type": "stream",
          "text": [
            "(148168, 10)\n",
            "0.717741978091306\n"
          ],
          "name": "stdout"
        },
        {
          "output_type": "execute_result",
          "data": {
            "text/html": [
              "<div>\n",
              "<style scoped>\n",
              "    .dataframe tbody tr th:only-of-type {\n",
              "        vertical-align: middle;\n",
              "    }\n",
              "\n",
              "    .dataframe tbody tr th {\n",
              "        vertical-align: top;\n",
              "    }\n",
              "\n",
              "    .dataframe thead th {\n",
              "        text-align: right;\n",
              "    }\n",
              "</style>\n",
              "<table border=\"1\" class=\"dataframe\">\n",
              "  <thead>\n",
              "    <tr style=\"text-align: right;\">\n",
              "      <th></th>\n",
              "      <th>ID</th>\n",
              "      <th>Estimated_Insects_Count</th>\n",
              "      <th>Crop_Type</th>\n",
              "      <th>Soil_Type</th>\n",
              "      <th>Pesticide_Use_Category</th>\n",
              "      <th>Number_Doses_Week</th>\n",
              "      <th>Number_Weeks_Used</th>\n",
              "      <th>Number_Weeks_Quit</th>\n",
              "      <th>Season</th>\n",
              "      <th>Crop_Damage</th>\n",
              "      <th>total_doses_taken</th>\n",
              "      <th>num_farming_weeks</th>\n",
              "      <th>Number_Doses_Week_mean</th>\n",
              "      <th>Number_Doses_Week_max</th>\n",
              "      <th>Number_Weeks_Used_mean</th>\n",
              "      <th>Number_Weeks_Used_max</th>\n",
              "      <th>Number_Weeks_Quit_mean</th>\n",
              "      <th>Number_Weeks_Quit_max</th>\n",
              "      <th>total_doses_taken_mean</th>\n",
              "      <th>total_doses_taken_max</th>\n",
              "      <th>num_farming_weeks_mean</th>\n",
              "      <th>num_farming_weeks_max</th>\n",
              "    </tr>\n",
              "  </thead>\n",
              "  <tbody>\n",
              "    <tr>\n",
              "      <th>0</th>\n",
              "      <td>F00000001</td>\n",
              "      <td>-1.425130</td>\n",
              "      <td>1</td>\n",
              "      <td>0</td>\n",
              "      <td>1</td>\n",
              "      <td>-1.665065</td>\n",
              "      <td>-2.337877</td>\n",
              "      <td>-0.967905</td>\n",
              "      <td>1</td>\n",
              "      <td>0.0</td>\n",
              "      <td>-1.308577</td>\n",
              "      <td>-3.252582</td>\n",
              "      <td>-6.620221</td>\n",
              "      <td>-9.526047</td>\n",
              "      <td>-5.637158</td>\n",
              "      <td>-9.580410</td>\n",
              "      <td>-1.573169</td>\n",
              "      <td>-1.591208</td>\n",
              "      <td>-5.089724</td>\n",
              "      <td>-6.793813</td>\n",
              "      <td>-7.484355</td>\n",
              "      <td>-9.443592</td>\n",
              "    </tr>\n",
              "    <tr>\n",
              "      <th>1</th>\n",
              "      <td>F00000003</td>\n",
              "      <td>-1.400400</td>\n",
              "      <td>1</td>\n",
              "      <td>0</td>\n",
              "      <td>1</td>\n",
              "      <td>-1.665065</td>\n",
              "      <td>-2.337877</td>\n",
              "      <td>-0.967905</td>\n",
              "      <td>2</td>\n",
              "      <td>1.0</td>\n",
              "      <td>-1.308577</td>\n",
              "      <td>-3.252582</td>\n",
              "      <td>-6.620221</td>\n",
              "      <td>-9.526047</td>\n",
              "      <td>-5.635542</td>\n",
              "      <td>-9.733816</td>\n",
              "      <td>-1.573169</td>\n",
              "      <td>-1.591208</td>\n",
              "      <td>-5.089724</td>\n",
              "      <td>-6.793813</td>\n",
              "      <td>-7.482747</td>\n",
              "      <td>-9.583175</td>\n",
              "    </tr>\n",
              "    <tr>\n",
              "      <th>2</th>\n",
              "      <td>F00000004</td>\n",
              "      <td>-1.343876</td>\n",
              "      <td>1</td>\n",
              "      <td>0</td>\n",
              "      <td>1</td>\n",
              "      <td>-1.665065</td>\n",
              "      <td>-2.337877</td>\n",
              "      <td>-0.967905</td>\n",
              "      <td>2</td>\n",
              "      <td>1.0</td>\n",
              "      <td>-1.308577</td>\n",
              "      <td>-3.252582</td>\n",
              "      <td>-6.620221</td>\n",
              "      <td>-9.526047</td>\n",
              "      <td>-5.635542</td>\n",
              "      <td>-9.733816</td>\n",
              "      <td>-1.573169</td>\n",
              "      <td>-1.591208</td>\n",
              "      <td>-5.089724</td>\n",
              "      <td>-6.793813</td>\n",
              "      <td>-7.482747</td>\n",
              "      <td>-9.583175</td>\n",
              "    </tr>\n",
              "    <tr>\n",
              "      <th>3</th>\n",
              "      <td>F00000005</td>\n",
              "      <td>-1.343876</td>\n",
              "      <td>1</td>\n",
              "      <td>1</td>\n",
              "      <td>1</td>\n",
              "      <td>-1.665065</td>\n",
              "      <td>-2.337877</td>\n",
              "      <td>-0.967905</td>\n",
              "      <td>2</td>\n",
              "      <td>1.0</td>\n",
              "      <td>-1.308577</td>\n",
              "      <td>-3.252582</td>\n",
              "      <td>-6.620221</td>\n",
              "      <td>-9.526047</td>\n",
              "      <td>-5.636532</td>\n",
              "      <td>-9.733816</td>\n",
              "      <td>-1.573169</td>\n",
              "      <td>-1.591208</td>\n",
              "      <td>-5.089724</td>\n",
              "      <td>-6.793813</td>\n",
              "      <td>-7.483733</td>\n",
              "      <td>-9.583175</td>\n",
              "    </tr>\n",
              "    <tr>\n",
              "      <th>4</th>\n",
              "      <td>F00000006</td>\n",
              "      <td>-1.243781</td>\n",
              "      <td>1</td>\n",
              "      <td>0</td>\n",
              "      <td>1</td>\n",
              "      <td>-1.665065</td>\n",
              "      <td>-2.337877</td>\n",
              "      <td>-0.967905</td>\n",
              "      <td>2</td>\n",
              "      <td>1.0</td>\n",
              "      <td>-1.308577</td>\n",
              "      <td>-3.252582</td>\n",
              "      <td>-6.620221</td>\n",
              "      <td>-9.526047</td>\n",
              "      <td>-5.635542</td>\n",
              "      <td>-9.733816</td>\n",
              "      <td>-1.573169</td>\n",
              "      <td>-1.591208</td>\n",
              "      <td>-5.089724</td>\n",
              "      <td>-6.793813</td>\n",
              "      <td>-7.482747</td>\n",
              "      <td>-9.583175</td>\n",
              "    </tr>\n",
              "    <tr>\n",
              "      <th>...</th>\n",
              "      <td>...</td>\n",
              "      <td>...</td>\n",
              "      <td>...</td>\n",
              "      <td>...</td>\n",
              "      <td>...</td>\n",
              "      <td>...</td>\n",
              "      <td>...</td>\n",
              "      <td>...</td>\n",
              "      <td>...</td>\n",
              "      <td>...</td>\n",
              "      <td>...</td>\n",
              "      <td>...</td>\n",
              "      <td>...</td>\n",
              "      <td>...</td>\n",
              "      <td>...</td>\n",
              "      <td>...</td>\n",
              "      <td>...</td>\n",
              "      <td>...</td>\n",
              "      <td>...</td>\n",
              "      <td>...</td>\n",
              "      <td>...</td>\n",
              "      <td>...</td>\n",
              "    </tr>\n",
              "    <tr>\n",
              "      <th>142270</th>\n",
              "      <td>F00155793</td>\n",
              "      <td>0.455476</td>\n",
              "      <td>1</td>\n",
              "      <td>0</td>\n",
              "      <td>2</td>\n",
              "      <td>2.199581</td>\n",
              "      <td>0.115813</td>\n",
              "      <td>0.651118</td>\n",
              "      <td>2</td>\n",
              "      <td>0.0</td>\n",
              "      <td>1.776657</td>\n",
              "      <td>0.669341</td>\n",
              "      <td>-1.393848</td>\n",
              "      <td>-0.264239</td>\n",
              "      <td>-0.713545</td>\n",
              "      <td>0.237586</td>\n",
              "      <td>0.265576</td>\n",
              "      <td>0.649795</td>\n",
              "      <td>-1.522449</td>\n",
              "      <td>-0.766643</td>\n",
              "      <td>-0.393149</td>\n",
              "      <td>0.187674</td>\n",
              "    </tr>\n",
              "    <tr>\n",
              "      <th>142271</th>\n",
              "      <td>F00155801</td>\n",
              "      <td>0.588543</td>\n",
              "      <td>1</td>\n",
              "      <td>0</td>\n",
              "      <td>2</td>\n",
              "      <td>-0.698903</td>\n",
              "      <td>0.770130</td>\n",
              "      <td>-0.664338</td>\n",
              "      <td>1</td>\n",
              "      <td>0.0</td>\n",
              "      <td>-0.331586</td>\n",
              "      <td>0.243045</td>\n",
              "      <td>-1.443144</td>\n",
              "      <td>-0.264239</td>\n",
              "      <td>-0.735186</td>\n",
              "      <td>-0.682852</td>\n",
              "      <td>0.280860</td>\n",
              "      <td>0.604975</td>\n",
              "      <td>-1.569961</td>\n",
              "      <td>-1.407831</td>\n",
              "      <td>-0.396450</td>\n",
              "      <td>-0.370660</td>\n",
              "    </tr>\n",
              "    <tr>\n",
              "      <th>142272</th>\n",
              "      <td>F00155882</td>\n",
              "      <td>1.346909</td>\n",
              "      <td>1</td>\n",
              "      <td>0</td>\n",
              "      <td>2</td>\n",
              "      <td>-1.020957</td>\n",
              "      <td>-0.293136</td>\n",
              "      <td>1.157062</td>\n",
              "      <td>2</td>\n",
              "      <td>0.0</td>\n",
              "      <td>-0.880072</td>\n",
              "      <td>0.669341</td>\n",
              "      <td>-1.393848</td>\n",
              "      <td>-0.264239</td>\n",
              "      <td>-0.713545</td>\n",
              "      <td>0.237586</td>\n",
              "      <td>0.265576</td>\n",
              "      <td>0.649795</td>\n",
              "      <td>-1.522449</td>\n",
              "      <td>-0.766643</td>\n",
              "      <td>-0.393149</td>\n",
              "      <td>0.187674</td>\n",
              "    </tr>\n",
              "    <tr>\n",
              "      <th>142273</th>\n",
              "      <td>F00155899</td>\n",
              "      <td>1.517659</td>\n",
              "      <td>1</td>\n",
              "      <td>0</td>\n",
              "      <td>2</td>\n",
              "      <td>-1.020957</td>\n",
              "      <td>-0.211346</td>\n",
              "      <td>1.157062</td>\n",
              "      <td>2</td>\n",
              "      <td>0.0</td>\n",
              "      <td>-0.862932</td>\n",
              "      <td>0.754600</td>\n",
              "      <td>-1.393848</td>\n",
              "      <td>-0.264239</td>\n",
              "      <td>-0.713545</td>\n",
              "      <td>0.237586</td>\n",
              "      <td>0.265576</td>\n",
              "      <td>0.649795</td>\n",
              "      <td>-1.522449</td>\n",
              "      <td>-0.766643</td>\n",
              "      <td>-0.393149</td>\n",
              "      <td>0.187674</td>\n",
              "    </tr>\n",
              "    <tr>\n",
              "      <th>142274</th>\n",
              "      <td>F00155906</td>\n",
              "      <td>1.697830</td>\n",
              "      <td>1</td>\n",
              "      <td>0</td>\n",
              "      <td>2</td>\n",
              "      <td>-0.376850</td>\n",
              "      <td>0.361181</td>\n",
              "      <td>0.347551</td>\n",
              "      <td>1</td>\n",
              "      <td>0.0</td>\n",
              "      <td>-0.177325</td>\n",
              "      <td>0.669341</td>\n",
              "      <td>-1.443144</td>\n",
              "      <td>-0.264239</td>\n",
              "      <td>-0.735186</td>\n",
              "      <td>-0.682852</td>\n",
              "      <td>0.280860</td>\n",
              "      <td>0.604975</td>\n",
              "      <td>-1.569961</td>\n",
              "      <td>-1.407831</td>\n",
              "      <td>-0.396450</td>\n",
              "      <td>-0.370660</td>\n",
              "    </tr>\n",
              "  </tbody>\n",
              "</table>\n",
              "<p>88858 rows × 22 columns</p>\n",
              "</div>"
            ],
            "text/plain": [
              "               ID  ...  num_farming_weeks_max\n",
              "0       F00000001  ...              -9.443592\n",
              "1       F00000003  ...              -9.583175\n",
              "2       F00000004  ...              -9.583175\n",
              "3       F00000005  ...              -9.583175\n",
              "4       F00000006  ...              -9.583175\n",
              "...           ...  ...                    ...\n",
              "142270  F00155793  ...               0.187674\n",
              "142271  F00155801  ...              -0.370660\n",
              "142272  F00155882  ...               0.187674\n",
              "142273  F00155899  ...               0.187674\n",
              "142274  F00155906  ...              -0.370660\n",
              "\n",
              "[88858 rows x 22 columns]"
            ]
          },
          "metadata": {
            "tags": []
          },
          "execution_count": 121
        }
      ]
    },
    {
      "cell_type": "code",
      "metadata": {
        "id": "xgZhh4S0Nkht",
        "colab_type": "code",
        "colab": {}
      },
      "source": [
        "# m = merge.groupby(['Crop_Type',\"Soil_Type\",\"Pesticide_Use_Category\",\"Season\"])['Number_Doses_Week',\"Number_Weeks_Used\",\"Number_Weeks_Quit\",\"total_doses_taken\",\"num_farming_weeks\"]\n",
        "# m = m.agg(['mean',\"max\",\"min\"]).reset_index()\n",
        "# columns = []\n",
        "# for i in m.columns:\n",
        "#   if len(i) >1 and i[1] != \"\":\n",
        "#     columns.append(\"_\".join(i))\n",
        "#   else:\n",
        "#     columns.append(i[0])\n",
        "# m.columns = columns\n",
        "# m"
      ],
      "execution_count": 122,
      "outputs": []
    },
    {
      "cell_type": "code",
      "metadata": {
        "id": "RdxkyC968aY0",
        "colab_type": "code",
        "colab": {
          "base_uri": "https://localhost:8080/",
          "height": 417
        },
        "outputId": "486c0b7a-d279-4d01-8bdd-517243c3afa5"
      },
      "source": [
        "sns.heatmap(train.corr())"
      ],
      "execution_count": 123,
      "outputs": [
        {
          "output_type": "execute_result",
          "data": {
            "text/plain": [
              "<matplotlib.axes._subplots.AxesSubplot at 0x7f19d3bf9518>"
            ]
          },
          "metadata": {
            "tags": []
          },
          "execution_count": 123
        },
        {
          "output_type": "display_data",
          "data": {
            "image/png": "[encoded data removed]",
            "text/plain": [
              "<Figure size 432x288 with 2 Axes>"
            ]
          },
          "metadata": {
            "tags": [],
            "needs_background": "light"
          }
        }
      ]
    },
    {
      "cell_type": "code",
      "metadata": {
        "id": "GaSEJix4H4x4",
        "colab_type": "code",
        "colab": {
          "base_uri": "https://localhost:8080/",
          "height": 504
        },
        "outputId": "79262f14-3ccd-4546-c7b1-ec396b7cef89"
      },
      "source": [
        "train.info()"
      ],
      "execution_count": 124,
      "outputs": [
        {
          "output_type": "stream",
          "text": [
            "<class 'pandas.core.frame.DataFrame'>\n",
            "Int64Index: 88858 entries, 0 to 142274\n",
            "Data columns (total 22 columns):\n",
            " #   Column                   Non-Null Count  Dtype  \n",
            "---  ------                   --------------  -----  \n",
            " 0   ID                       88858 non-null  object \n",
            " 1   Estimated_Insects_Count  88858 non-null  float64\n",
            " 2   Crop_Type                88858 non-null  int64  \n",
            " 3   Soil_Type                88858 non-null  int64  \n",
            " 4   Pesticide_Use_Category   88858 non-null  int64  \n",
            " 5   Number_Doses_Week        88858 non-null  float64\n",
            " 6   Number_Weeks_Used        88858 non-null  float64\n",
            " 7   Number_Weeks_Quit        88858 non-null  float64\n",
            " 8   Season                   88858 non-null  int64  \n",
            " 9   Crop_Damage              88858 non-null  float64\n",
            " 10  total_doses_taken        88858 non-null  float64\n",
            " 11  num_farming_weeks        88858 non-null  float64\n",
            " 12  Number_Doses_Week_mean   88858 non-null  float64\n",
            " 13  Number_Doses_Week_max    88858 non-null  float64\n",
            " 14  Number_Weeks_Used_mean   88858 non-null  float64\n",
            " 15  Number_Weeks_Used_max    88858 non-null  float64\n",
            " 16  Number_Weeks_Quit_mean   88858 non-null  float64\n",
            " 17  Number_Weeks_Quit_max    88858 non-null  float64\n",
            " 18  total_doses_taken_mean   88858 non-null  float64\n",
            " 19  total_doses_taken_max    88858 non-null  float64\n",
            " 20  num_farming_weeks_mean   88858 non-null  float64\n",
            " 21  num_farming_weeks_max    88858 non-null  float64\n",
            "dtypes: float64(17), int64(4), object(1)\n",
            "memory usage: 15.6+ MB\n"
          ],
          "name": "stdout"
        }
      ]
    },
    {
      "cell_type": "code",
      "metadata": {
        "id": "xyFToXJAUz1A",
        "colab_type": "code",
        "colab": {
          "base_uri": "https://localhost:8080/",
          "height": 282
        },
        "outputId": "e7b675cf-9fd2-47f1-fe67-203ba310aa63"
      },
      "source": [
        "# sns.distplot(train.Estimated_Insects_Count)\n",
        "# sns.kdeplot(na_train.Number_Weeks_Used,label=\"imputed\")\n",
        "# sns.kdeplot(use_train.Number_Weeks_Used,label=\"before imputation\")\n",
        "sns.kdeplot(merge.Number_Weeks_Used,label=\"after imputation\")"
      ],
      "execution_count": 125,
      "outputs": [
        {
          "output_type": "execute_result",
          "data": {
            "text/plain": [
              "<matplotlib.axes._subplots.AxesSubplot at 0x7f19d40495c0>"
            ]
          },
          "metadata": {
            "tags": []
          },
          "execution_count": 125
        },
        {
          "output_type": "display_data",
          "data": {
            "image/png": "[encoded data removed]",
            "text/plain": [
              "<Figure size 432x288 with 1 Axes>"
            ]
          },
          "metadata": {
            "tags": [],
            "needs_background": "light"
          }
        }
      ]
    },
    {
      "cell_type": "code",
      "metadata": {
        "id": "72qhgyaHWVXb",
        "colab_type": "code",
        "colab": {
          "base_uri": "https://localhost:8080/",
          "height": 297
        },
        "outputId": "4e9a55d3-aafe-4322-914d-e41824e90f4f"
      },
      "source": [
        "sns.distplot(train.Estimated_Insects_Count,label=\"train\",)\n",
        "sns.distplot(test.Estimated_Insects_Count,label=\"test\")"
      ],
      "execution_count": 126,
      "outputs": [
        {
          "output_type": "execute_result",
          "data": {
            "text/plain": [
              "<matplotlib.axes._subplots.AxesSubplot at 0x7f19d3fdd8d0>"
            ]
          },
          "metadata": {
            "tags": []
          },
          "execution_count": 126
        },
        {
          "output_type": "display_data",
          "data": {
            "image/png": "[encoded data removed]",
            "text/plain": [
              "<Figure size 432x288 with 1 Axes>"
            ]
          },
          "metadata": {
            "tags": [],
            "needs_background": "light"
          }
        }
      ]
    },
    {
      "cell_type": "code",
      "metadata": {
        "id": "bGOzBduQCNrl",
        "colab_type": "code",
        "colab": {
          "base_uri": "https://localhost:8080/",
          "height": 283
        },
        "outputId": "2d2cdfab-1cd9-4ec3-b640-80783bb2c700"
      },
      "source": [
        "sns.kdeplot(train.Number_Weeks_Used,label=\"train\")\n",
        "sns.kdeplot(test.Number_Weeks_Used,label=\"test\")"
      ],
      "execution_count": 127,
      "outputs": [
        {
          "output_type": "execute_result",
          "data": {
            "text/plain": [
              "<matplotlib.axes._subplots.AxesSubplot at 0x7f19d3234ef0>"
            ]
          },
          "metadata": {
            "tags": []
          },
          "execution_count": 127
        },
        {
          "output_type": "display_data",
          "data": {
            "image/png": "[encoded data removed]",
            "text/plain": [
              "<Figure size 432x288 with 1 Axes>"
            ]
          },
          "metadata": {
            "tags": [],
            "needs_background": "light"
          }
        }
      ]
    },
    {
      "cell_type": "code",
      "metadata": {
        "id": "Nfr25joECaN5",
        "colab_type": "code",
        "colab": {
          "base_uri": "https://localhost:8080/",
          "height": 282
        },
        "outputId": "abee7adc-8611-4d0d-834d-d2518908080a"
      },
      "source": [
        "sns.kdeplot(train.Number_Weeks_Quit,label=\"train\")\n",
        "sns.kdeplot(test.Number_Weeks_Quit,label=\"test\")"
      ],
      "execution_count": 128,
      "outputs": [
        {
          "output_type": "execute_result",
          "data": {
            "text/plain": [
              "<matplotlib.axes._subplots.AxesSubplot at 0x7f19d31de128>"
            ]
          },
          "metadata": {
            "tags": []
          },
          "execution_count": 128
        },
        {
          "output_type": "display_data",
          "data": {
            "image/png": "[encoded data removed]",
            "text/plain": [
              "<Figure size 432x288 with 1 Axes>"
            ]
          },
          "metadata": {
            "tags": [],
            "needs_background": "light"
          }
        }
      ]
    },
    {
      "cell_type": "code",
      "metadata": {
        "id": "S82DSfdI0s2P",
        "colab_type": "code",
        "colab": {}
      },
      "source": [
        "# sns.jointplot(x=\"Number_Weeks_Used\",y=\"Crop_Type\",data=train,kind=\"kde\")\n",
        "# sns.distplot(train[\"num_farming_weeks\"])"
      ],
      "execution_count": 129,
      "outputs": []
    },
    {
      "cell_type": "code",
      "metadata": {
        "id": "oSbqg-g4CW_7",
        "colab_type": "code",
        "colab": {
          "base_uri": "https://localhost:8080/",
          "height": 297
        },
        "outputId": "9671b936-5879-499c-c172-14b60890bac8"
      },
      "source": [
        "sns.countplot(train.Crop_Damage)"
      ],
      "execution_count": 130,
      "outputs": [
        {
          "output_type": "execute_result",
          "data": {
            "text/plain": [
              "<matplotlib.axes._subplots.AxesSubplot at 0x7f19d311b320>"
            ]
          },
          "metadata": {
            "tags": []
          },
          "execution_count": 130
        },
        {
          "output_type": "display_data",
          "data": {
            "image/png": "[encoded data removed]",
            "text/plain": [
              "<Figure size 432x288 with 1 Axes>"
            ]
          },
          "metadata": {
            "tags": [],
            "needs_background": "light"
          }
        }
      ]
    },
    {
      "cell_type": "code",
      "metadata": {
        "id": "kZqBqRnZCg8l",
        "colab_type": "code",
        "colab": {
          "base_uri": "https://localhost:8080/",
          "height": 272
        },
        "outputId": "386321cf-4a52-4140-f491-5944c947a09b"
      },
      "source": [
        "!pip install catboost"
      ],
      "execution_count": 131,
      "outputs": [
        {
          "output_type": "stream",
          "text": [
            "Requirement already satisfied: catboost in /usr/local/lib/python3.6/dist-packages (0.23.2)\n",
            "Requirement already satisfied: numpy>=1.16.0 in /usr/local/lib/python3.6/dist-packages (from catboost) (1.18.5)\n",
            "Requirement already satisfied: pandas>=0.24.0 in /usr/local/lib/python3.6/dist-packages (from catboost) (1.0.5)\n",
            "Requirement already satisfied: graphviz in /usr/local/lib/python3.6/dist-packages (from catboost) (0.10.1)\n",
            "Requirement already satisfied: plotly in /usr/local/lib/python3.6/dist-packages (from catboost) (4.4.1)\n",
            "Requirement already satisfied: scipy in /usr/local/lib/python3.6/dist-packages (from catboost) (1.4.1)\n",
            "Requirement already satisfied: matplotlib in /usr/local/lib/python3.6/dist-packages (from catboost) (3.2.2)\n",
            "Requirement already satisfied: six in /usr/local/lib/python3.6/dist-packages (from catboost) (1.15.0)\n",
            "Requirement already satisfied: pytz>=2017.2 in /usr/local/lib/python3.6/dist-packages (from pandas>=0.24.0->catboost) (2018.9)\n",
            "Requirement already satisfied: python-dateutil>=2.6.1 in /usr/local/lib/python3.6/dist-packages (from pandas>=0.24.0->catboost) (2.8.1)\n",
            "Requirement already satisfied: retrying>=1.3.3 in /usr/local/lib/python3.6/dist-packages (from plotly->catboost) (1.3.3)\n",
            "Requirement already satisfied: cycler>=0.10 in /usr/local/lib/python3.6/dist-packages (from matplotlib->catboost) (0.10.0)\n",
            "Requirement already satisfied: kiwisolver>=1.0.1 in /usr/local/lib/python3.6/dist-packages (from matplotlib->catboost) (1.2.0)\n",
            "Requirement already satisfied: pyparsing!=2.0.4,!=2.1.2,!=2.1.6,>=2.0.1 in /usr/local/lib/python3.6/dist-packages (from matplotlib->catboost) (2.4.7)\n"
          ],
          "name": "stdout"
        }
      ]
    },
    {
      "cell_type": "code",
      "metadata": {
        "id": "P3_n4qkeDucU",
        "colab_type": "code",
        "colab": {}
      },
      "source": [
        "from catboost import CatBoostClassifier\n",
        "from sklearn.model_selection import train_test_split , KFold\n",
        "from sklearn.linear_model import LogisticRegression \n",
        "from sklearn.tree import DecisionTreeClassifier\n",
        "from sklearn.neighbors import KNeighborsClassifier\n",
        "from sklearn.naive_bayes import BernoulliNB,GaussianNB ,CategoricalNB\n",
        "from sklearn.ensemble import RandomForestClassifier , GradientBoostingClassifier , AdaBoostClassifier"
      ],
      "execution_count": 132,
      "outputs": []
    },
    {
      "cell_type": "code",
      "metadata": {
        "id": "Q8Fs_mHuLR-Y",
        "colab_type": "code",
        "colab": {
          "base_uri": "https://localhost:8080/",
          "height": 34
        },
        "outputId": "a45f741c-5f14-4b79-cea8-f6a6a386eb8b"
      },
      "source": [
        "from sklearn.utils import class_weight\n",
        "y = train[['Crop_Damage']].values.reshape((-1))\n",
        "class_weights = class_weight.compute_class_weight('balanced',np.unique(y),y)\n",
        "class_weights"
      ],
      "execution_count": 133,
      "outputs": [
        {
          "output_type": "execute_result",
          "data": {
            "text/plain": [
              "array([ 0.39897806,  2.40670621, 12.80559158])"
            ]
          },
          "metadata": {
            "tags": []
          },
          "execution_count": 133
        }
      ]
    },
    {
      "cell_type": "code",
      "metadata": {
        "id": "I9o8GHfrKjdf",
        "colab_type": "code",
        "colab": {}
      },
      "source": [
        "import warnings \n",
        "warnings.filterwarnings(\"ignore\")\n",
        "\n",
        "# X = train.drop(['ID','Crop_Damage'],axis=1)\n",
        "# Y = train[['Crop_Damage']]\n",
        "\n",
        "X = train.drop(['ID',\"Crop_Damage\"],axis=1)\n",
        "Y = train[['Crop_Damage']]\n",
        "\n",
        "# params={\n",
        "#     \"od_type\":\"Iter\",\n",
        "#     \"od_wait\":50,\n",
        "#     \"learning_rate\":0.15,\n",
        "#     \"eval_metric\":\"Accuracy\",\n",
        "#     \"verbose\":50,\n",
        "#     \"boosting_type\":\"Plain\",\n",
        "#     # \"class_weights\":class_weights\n",
        "# }\n",
        "\n",
        "# from sklearn.utils import class_weight\n",
        "# from sklearn.model_selection import KFold, StratifiedKFold\n",
        "\n",
        "# y = train[['Crop_Damage']].values.reshape((-1))\n",
        "# class_weights = class_weight.compute_class_weight('balanced',np.unique(y),y)\n",
        "# class_weights\n",
        "\n",
        "# n_folds=[4]\n",
        "# for n_fold in n_folds:\n",
        "#   print(\"\\nPerforming on N_folds :\",n_fold)\n",
        "#   folds = StratifiedKFold(n_splits=n_fold,shuffle=True)\n",
        "#   scores=[]\n",
        "#   max_score = 0\n",
        "\n",
        "#   for (train_idx,test_idx),i in list(zip(folds.split(X,Y),range(n_fold))):\n",
        "#     test_set = (X.iloc[test_idx],Y.iloc[test_idx])\n",
        "#     model = CatBoostClassifier(**params)\n",
        "#     model.fit(X.iloc[train_idx],Y.iloc[train_idx],\n",
        "#               cat_features=[\"Crop_Type\",'Soil_Type','Pesticide_Use_Category','Season'],\n",
        "#               eval_set=test_set)\n",
        "    \n",
        "#     # model= XGBClassifier(verbose=False)\n",
        "#     # model.fit(X.iloc[train_idx],Y.iloc[train_idx],eval_set=[test_set],\n",
        "#     #           early_stopping_rounds=25,verbose=False)\n",
        "#     score = model.score(*test_set)\n",
        "#     scores.append(score)\n",
        "#     if score > max_score:\n",
        "#       max_score=score\n",
        "#       best_idx=train_idx\n",
        "#       val_idx = test_idx\n",
        "#     print(\"Model Score at fold %d : \" % i,score)\n",
        "\n",
        "#   print(\"mean_score\",np.array(scores).mean())\n",
        "#   print(\"_----_\"*25)\n",
        "# # model.fit(X,Y,\n",
        "# #           cat_features=[\"Crop_Type\",'Soil_Type','Pesticide_Use_Category','Season'])"
      ],
      "execution_count": 134,
      "outputs": []
    },
    {
      "cell_type": "code",
      "metadata": {
        "id": "GFSNHxMBM7Rw",
        "colab_type": "code",
        "colab": {
          "base_uri": "https://localhost:8080/",
          "height": 1000
        },
        "outputId": "9337b279-2882-4c03-ce35-2b316161c3c6"
      },
      "source": [
        "from sklearn.metrics import accuracy_score\n",
        "\n",
        "params={\n",
        "    \"od_type\":\"Iter\",\n",
        "    \"od_wait\":50,\n",
        "    'iterations':800,\n",
        "    \"eval_metric\":\"Accuracy\",\n",
        "    \"verbose\":50,\n",
        "    \"boosting_type\":\"Plain\",\n",
        "    \"class_weights\":class_weights\n",
        "}\n",
        "\n",
        "from sklearn.metrics import classification_report\n",
        "# predictions = model.predict(test_set[0])\n",
        "# print(classification_report(test_set[1],predictions))\n",
        "folded_models = []\n",
        "n_folds=[4]\n",
        "for n_fold in n_folds:\n",
        "  print(\"\\nPerforming on N_folds :\",n_fold)\n",
        "  folds = StratifiedKFold(n_splits=n_fold,shuffle=True)\n",
        "  scores=[]\n",
        "  max_score = 0\n",
        "\n",
        "  for (train_idx,test_idx),i in list(zip(folds.split(X,Y),range(n_fold))):\n",
        "    test_set = (X.iloc[test_idx],Y.iloc[test_idx])\n",
        "    # model = CatBoostClassifier(**params)\n",
        "    # model.fit(X.iloc[train_idx],Y.iloc[train_idx],\n",
        "    #           cat_features=[\"Crop_Type\",'Soil_Type','Pesticide_Use_Category','Season'],\n",
        "    #           eval_set=test_set)\n",
        "    \n",
        "    model= LGBMClassifier(eval_metric=\"accuracy\",learning_rate=0.06)\n",
        "    model.fit(X.iloc[train_idx],Y.iloc[train_idx],\n",
        "              categorical_feature=[\"Crop_Type\",'Soil_Type','Pesticide_Use_Category','Season'],\n",
        "              eval_set=[test_set],verbose=False)\n",
        "    # model= XGBClassifier(verbose=False)\n",
        "    # model.fit(X.iloc[train_idx],Y.iloc[train_idx],eval_set=[test_set],\n",
        "    #           early_stopping_rounds=25,verbose=False)\n",
        "\n",
        "    folded_models.append(model)\n",
        "\n",
        "    score = accuracy_score(test_set[1],model.predict(test_set[0]))\n",
        "    scores.append(score)\n",
        "    if score > max_score:\n",
        "      max_score=score\n",
        "      best_idx=train_idx\n",
        "      val_idx = test_idx\n",
        "    print(\"Model Score at fold %d : \" % i,score)\n",
        "    print(classification_report(test_set[1],model.predict(test_set[0])))\n",
        "    print(\"_--_\"*20)\n",
        "\n",
        "  print(\"mean_score\",np.array(scores).mean())\n",
        "\n",
        "\n",
        "test_set = (X.iloc[val_idx],Y.iloc[val_idx])\n",
        "# model= CatBoostClassifier(**params)\n",
        "# model.fit(X.iloc[best_idx],Y.iloc[best_idx],\n",
        "#           cat_features=[\"Crop_Type\",'Soil_Type','Pesticide_Use_Category','Season'],\n",
        "#           eval_set=test_set)\n",
        "\n",
        "model= LGBMClassifier()\n",
        "model.fit(X.iloc[best_idx],Y.iloc[best_idx],\n",
        "          categorical_feature=[\"Crop_Type\",'Soil_Type','Pesticide_Use_Category','Season']\n",
        "          )    \n",
        "# model= XGBClassifier(verbose=False)\n",
        "# model.fit(X.iloc[best_idx],Y.iloc[best_idx],eval_set=[test_set],\n",
        "#           early_stopping_rounds=25,verbose=False)\n",
        "\n",
        "score = accuracy_score(test_set[1],model.predict(test_set[0]))\n",
        "score\n",
        "print(classification_report(test_set[1],model.predict(test_set[0])))"
      ],
      "execution_count": 86,
      "outputs": [
        {
          "output_type": "stream",
          "text": [
            "\n",
            "Performing on N_folds : 4\n",
            "Learning rate set to 0.127886\n",
            "0:\tlearn: 0.5244048\ttest: 0.5360375\tbest: 0.5360375 (0)\ttotal: 161ms\tremaining: 2m 8s\n",
            "50:\tlearn: 0.5745455\ttest: 0.5572384\tbest: 0.5616142 (13)\ttotal: 7.21s\tremaining: 1m 45s\n",
            "Stopped by overfitting detector  (50 iterations wait)\n",
            "\n",
            "bestTest = 0.5616141562\n",
            "bestIteration = 13\n",
            "\n",
            "Shrink model to first 14 iterations.\n",
            "Model Score at fold 0 :  0.6455097906819717\n",
            "              precision    recall  f1-score   support\n",
            "\n",
            "         0.0       0.93      0.70      0.80     18560\n",
            "         1.0       0.23      0.34      0.27      3077\n",
            "         2.0       0.10      0.65      0.17       578\n",
            "\n",
            "    accuracy                           0.65     22215\n",
            "   macro avg       0.42      0.56      0.41     22215\n",
            "weighted avg       0.82      0.65      0.71     22215\n",
            "\n",
            "_--__--__--__--__--__--__--__--__--__--__--__--__--__--__--__--__--__--__--__--_\n",
            "Learning rate set to 0.127886\n",
            "0:\tlearn: 0.5321220\ttest: 0.5128914\tbest: 0.5128914 (0)\ttotal: 172ms\tremaining: 2m 17s\n",
            "50:\tlearn: 0.5750403\ttest: 0.5483844\tbest: 0.5491031 (43)\ttotal: 7.15s\tremaining: 1m 45s\n",
            "100:\tlearn: 0.5885437\ttest: 0.5505545\tbest: 0.5527726 (85)\ttotal: 14.4s\tremaining: 1m 39s\n",
            "150:\tlearn: 0.6114699\ttest: 0.5457970\tbest: 0.5529498 (108)\ttotal: 21.9s\tremaining: 1m 34s\n",
            "Stopped by overfitting detector  (50 iterations wait)\n",
            "\n",
            "bestTest = 0.5529498347\n",
            "bestIteration = 108\n",
            "\n",
            "Shrink model to first 109 iterations.\n",
            "Model Score at fold 1 :  0.6519468827368895\n",
            "              precision    recall  f1-score   support\n",
            "\n",
            "         0.0       0.93      0.71      0.80     18560\n",
            "         1.0       0.24      0.33      0.28      3076\n",
            "         2.0       0.09      0.62      0.16       579\n",
            "\n",
            "    accuracy                           0.65     22215\n",
            "   macro avg       0.42      0.55      0.41     22215\n",
            "weighted avg       0.82      0.65      0.71     22215\n",
            "\n",
            "_--__--__--__--__--__--__--__--__--__--__--__--__--__--__--__--__--__--__--__--_\n",
            "Learning rate set to 0.127886\n",
            "0:\tlearn: 0.5352462\ttest: 0.5331203\tbest: 0.5331203 (0)\ttotal: 158ms\tremaining: 2m 6s\n",
            "50:\tlearn: 0.5704745\ttest: 0.5538566\tbest: 0.5544134 (48)\ttotal: 7.26s\tremaining: 1m 46s\n",
            "100:\tlearn: 0.5856714\ttest: 0.5560897\tbest: 0.5561071 (99)\ttotal: 14.3s\tremaining: 1m 39s\n",
            "150:\tlearn: 0.6094691\ttest: 0.5521659\tbest: 0.5564495 (103)\ttotal: 21.8s\tremaining: 1m 33s\n",
            "Stopped by overfitting detector  (50 iterations wait)\n",
            "\n",
            "bestTest = 0.5564495343\n",
            "bestIteration = 103\n",
            "\n",
            "Shrink model to first 104 iterations.\n",
            "Model Score at fold 2 :  0.6573782299450797\n",
            "              precision    recall  f1-score   support\n",
            "\n",
            "         0.0       0.93      0.71      0.81     18559\n",
            "         1.0       0.24      0.33      0.28      3077\n",
            "         2.0       0.10      0.63      0.17       578\n",
            "\n",
            "    accuracy                           0.66     22214\n",
            "   macro avg       0.42      0.56      0.42     22214\n",
            "weighted avg       0.81      0.66      0.72     22214\n",
            "\n",
            "_--__--__--__--__--__--__--__--__--__--__--__--__--__--__--__--__--__--__--__--_\n",
            "Learning rate set to 0.127886\n",
            "0:\tlearn: 0.5454745\ttest: 0.5404177\tbest: 0.5404177 (0)\ttotal: 157ms\tremaining: 2m 5s\n",
            "50:\tlearn: 0.5741880\ttest: 0.5618154\tbest: 0.5618166 (48)\ttotal: 7.44s\tremaining: 1m 49s\n",
            "100:\tlearn: 0.5873262\ttest: 0.5585423\tbest: 0.5657271 (85)\ttotal: 14.6s\tremaining: 1m 41s\n",
            "Stopped by overfitting detector  (50 iterations wait)\n",
            "\n",
            "bestTest = 0.5657271468\n",
            "bestIteration = 85\n",
            "\n",
            "Shrink model to first 86 iterations.\n",
            "Model Score at fold 3 :  0.6444134329701989\n",
            "              precision    recall  f1-score   support\n",
            "\n",
            "         0.0       0.94      0.69      0.80     18559\n",
            "         1.0       0.25      0.35      0.29      3077\n",
            "         2.0       0.09      0.66      0.16       578\n",
            "\n",
            "    accuracy                           0.64     22214\n",
            "   macro avg       0.42      0.57      0.42     22214\n",
            "weighted avg       0.82      0.64      0.71     22214\n",
            "\n",
            "_--__--__--__--__--__--__--__--__--__--__--__--__--__--__--__--__--__--__--__--_\n",
            "mean_score 0.6498120840835349\n",
            "Learning rate set to 0.127886\n",
            "0:\tlearn: 0.5352462\ttest: 0.5331203\tbest: 0.5331203 (0)\ttotal: 157ms\tremaining: 2m 5s\n",
            "50:\tlearn: 0.5704745\ttest: 0.5538566\tbest: 0.5544134 (48)\ttotal: 7.19s\tremaining: 1m 45s\n",
            "100:\tlearn: 0.5856714\ttest: 0.5560897\tbest: 0.5561071 (99)\ttotal: 14.3s\tremaining: 1m 38s\n",
            "150:\tlearn: 0.6094691\ttest: 0.5521659\tbest: 0.5564495 (103)\ttotal: 21.7s\tremaining: 1m 33s\n",
            "Stopped by overfitting detector  (50 iterations wait)\n",
            "\n",
            "bestTest = 0.5564495343\n",
            "bestIteration = 103\n",
            "\n",
            "Shrink model to first 104 iterations.\n",
            "              precision    recall  f1-score   support\n",
            "\n",
            "         0.0       0.93      0.71      0.81     18559\n",
            "         1.0       0.24      0.33      0.28      3077\n",
            "         2.0       0.10      0.63      0.17       578\n",
            "\n",
            "    accuracy                           0.66     22214\n",
            "   macro avg       0.42      0.56      0.42     22214\n",
            "weighted avg       0.81      0.66      0.72     22214\n",
            "\n"
          ],
          "name": "stdout"
        }
      ]
    },
    {
      "cell_type": "code",
      "metadata": {
        "id": "HRB75j0o8Xjf",
        "colab_type": "code",
        "colab": {}
      },
      "source": [
        "x_train,x_test,y_train,y_test = train_test_split(X,Y,test_size=0.23,random_state=1890)\n",
        "\n",
        "def train(learning_rate, reg_alpha,reg_lambda,subsample,max_depth,num_leaves,\n",
        "          min_child_samples,min_split_gain,cat_l2,cat_smooth,max_cat_to_onehot):\n",
        "  # params={\n",
        "  #     \"od_type\":\"Iter\",\n",
        "  #     \"od_wait\":50,\n",
        "  #     'learning_rate':learning_rate,\n",
        "  #     \"one_hot_max_size\":int(one_hot_max_size),\n",
        "  #     \"l2_leaf_reg\":int(l2_leaf_reg),\n",
        "  #     \"bagging_temperature\":bagging_temperature,\n",
        "  #     \"random_strength\":random_strength,\n",
        "  #     \"border_count\":int(border_count),\n",
        "  #     \"eval_metric\":\"Accuracy\",\n",
        "  #     \"verbose\":False,\n",
        "  #     # \"boosting_type\":\"Plain\",\n",
        "  #     \"depth\":int(depth),\n",
        "  #     \"class_weights\":class_weights\n",
        "  # }\n",
        "\n",
        "  params={\n",
        "      \"objective\":\"softmax\",\n",
        "      'learning_rate':learning_rate,\n",
        "      \"reg_alpha\":reg_alpha,\n",
        "      \"reg_lambda\":reg_lambda,\n",
        "      \"subsample\":subsample,\n",
        "      \"max_depth\":int(max_depth),\n",
        "      \"num_leaves\":int(num_leaves),\n",
        "      \"verbose\":0,\n",
        "      \"min_child_samples\":int(min_child_samples),\n",
        "      \"min_split_gain\":min_split_gain,\n",
        "      \"cat_l2\":cat_l2,\n",
        "      \"cat_smooth\":cat_smooth,\n",
        "      \"max_cat_to_onehot\":int(max_cat_to_onehot)\n",
        "  }\n",
        "\n",
        "  test_set = (x_test,y_test)\n",
        "  # model= CatBoostClassifier(**params)\n",
        "  # model.fit(x_train,y_train,\n",
        "  #           cat_features=[\"Crop_Type\",'Soil_Type','Pesticide_Use_Category','Season'],\n",
        "  #           eval_set=test_set,verbose=False)\n",
        "  model= LGBMClassifier(**params)\n",
        "  model.fit(x_train,y_train,\n",
        "            categorical_feature=[\"Crop_Type\",'Soil_Type','Pesticide_Use_Category','Season']\n",
        "            ,eval_set=[test_set],verbose=False)\n",
        "  score = accuracy_score(test_set[1],model.predict(test_set[0]))\n",
        "  score\n",
        "  # print(classification_report(test_set[1],model.predict(test_set[0])))\n",
        "  return score"
      ],
      "execution_count": 141,
      "outputs": []
    },
    {
      "cell_type": "code",
      "metadata": {
        "id": "5AV5rgaj9qAI",
        "colab_type": "code",
        "colab": {}
      },
      "source": [
        "# !pip install bayesian-optimization"
      ],
      "execution_count": 142,
      "outputs": []
    },
    {
      "cell_type": "code",
      "metadata": {
        "id": "lBoYmD0C9tco",
        "colab_type": "code",
        "colab": {
          "base_uri": "https://localhost:8080/",
          "height": 339
        },
        "outputId": "d2bcd48b-156b-469e-e841-3beededb6d4b"
      },
      "source": [
        "from bayes_opt import BayesianOptimization\n",
        "bounds = {\n",
        "    \"learning_rate\":(0.02,0.15),\n",
        "    \"max_depth\":(2,10),\n",
        "    \"num_leaves\":(50,200),\n",
        "    \"reg_alpha\":(0,0.3),\n",
        "    \"reg_lambda\":(0,0.4),\n",
        "    \"max_cat_to_onehot\":(2,4),\n",
        "    \"subsample\":(0.5,1),\n",
        "    \"min_child_samples\":(15,30),\n",
        "    \"min_split_gain\":(0,1e-5),\n",
        "    \"cat_l2\":(1,20),\n",
        "    \"cat_smooth\":(1,20),\n",
        "}\n",
        "\n",
        "optimizer = BayesianOptimization(\n",
        "    f = train,\n",
        "    pbounds=bounds\n",
        "    \n",
        ")\n",
        "\n",
        "optimizer.maximize(n_iter=10,init_points=5)"
      ],
      "execution_count": 143,
      "outputs": [
        {
          "output_type": "stream",
          "text": [
            "|   iter    |  target   |  cat_l2   | cat_sm... | learni... | max_ca... | max_depth | min_ch... | min_sp... | num_le... | reg_alpha | reg_la... | subsample |\n",
            "-------------------------------------------------------------------------------------------------------------------------------------------------------------\n",
            "| \u001b[0m 1       \u001b[0m | \u001b[0m 0.8479  \u001b[0m | \u001b[0m 3.541   \u001b[0m | \u001b[0m 12.27   \u001b[0m | \u001b[0m 0.1166  \u001b[0m | \u001b[0m 3.057   \u001b[0m | \u001b[0m 5.959   \u001b[0m | \u001b[0m 23.27   \u001b[0m | \u001b[0m 8.011e-0\u001b[0m | \u001b[0m 142.9   \u001b[0m | \u001b[0m 0.1933  \u001b[0m | \u001b[0m 0.3943  \u001b[0m | \u001b[0m 0.583   \u001b[0m |\n",
            "| \u001b[0m 2       \u001b[0m | \u001b[0m 0.8464  \u001b[0m | \u001b[0m 4.526   \u001b[0m | \u001b[0m 1.279   \u001b[0m | \u001b[0m 0.04632 \u001b[0m | \u001b[0m 3.306   \u001b[0m | \u001b[0m 6.021   \u001b[0m | \u001b[0m 15.14   \u001b[0m | \u001b[0m 8.118e-0\u001b[0m | \u001b[0m 134.3   \u001b[0m | \u001b[0m 0.2009  \u001b[0m | \u001b[0m 0.2745  \u001b[0m | \u001b[0m 0.7319  \u001b[0m |\n",
            "| \u001b[0m 3       \u001b[0m | \u001b[0m 0.8411  \u001b[0m | \u001b[0m 5.649   \u001b[0m | \u001b[0m 10.25   \u001b[0m | \u001b[0m 0.03328 \u001b[0m | \u001b[0m 3.197   \u001b[0m | \u001b[0m 2.937   \u001b[0m | \u001b[0m 19.89   \u001b[0m | \u001b[0m 5.212e-0\u001b[0m | \u001b[0m 162.8   \u001b[0m | \u001b[0m 0.05582 \u001b[0m | \u001b[0m 0.2264  \u001b[0m | \u001b[0m 0.6693  \u001b[0m |\n",
            "| \u001b[95m 4       \u001b[0m | \u001b[95m 0.8484  \u001b[0m | \u001b[95m 11.06   \u001b[0m | \u001b[95m 13.19   \u001b[0m | \u001b[95m 0.1118  \u001b[0m | \u001b[95m 2.442   \u001b[0m | \u001b[95m 9.524   \u001b[0m | \u001b[95m 25.19   \u001b[0m | \u001b[95m 5.527e-0\u001b[0m | \u001b[95m 114.5   \u001b[0m | \u001b[95m 0.001418\u001b[0m | \u001b[95m 0.393   \u001b[0m | \u001b[95m 0.791   \u001b[0m |\n",
            "| \u001b[95m 5       \u001b[0m | \u001b[95m 0.8485  \u001b[0m | \u001b[95m 1.327   \u001b[0m | \u001b[95m 17.18   \u001b[0m | \u001b[95m 0.14    \u001b[0m | \u001b[95m 2.864   \u001b[0m | \u001b[95m 5.913   \u001b[0m | \u001b[95m 23.54   \u001b[0m | \u001b[95m 6.5e-06 \u001b[0m | \u001b[95m 126.5   \u001b[0m | \u001b[95m 0.1583  \u001b[0m | \u001b[95m 0.3735  \u001b[0m | \u001b[95m 0.7467  \u001b[0m |\n",
            "| \u001b[0m 6       \u001b[0m | \u001b[0m 0.8427  \u001b[0m | \u001b[0m 2.753   \u001b[0m | \u001b[0m 11.21   \u001b[0m | \u001b[0m 0.08715 \u001b[0m | \u001b[0m 2.545   \u001b[0m | \u001b[0m 2.262   \u001b[0m | \u001b[0m 26.44   \u001b[0m | \u001b[0m 6.381e-0\u001b[0m | \u001b[0m 50.18   \u001b[0m | \u001b[0m 0.0371  \u001b[0m | \u001b[0m 0.1747  \u001b[0m | \u001b[0m 0.8599  \u001b[0m |\n",
            "| \u001b[0m 7       \u001b[0m | \u001b[0m 0.8457  \u001b[0m | \u001b[0m 3.514   \u001b[0m | \u001b[0m 1.296   \u001b[0m | \u001b[0m 0.02332 \u001b[0m | \u001b[0m 2.553   \u001b[0m | \u001b[0m 9.818   \u001b[0m | \u001b[0m 29.1    \u001b[0m | \u001b[0m 2.094e-0\u001b[0m | \u001b[0m 129.4   \u001b[0m | \u001b[0m 0.04636 \u001b[0m | \u001b[0m 0.1538  \u001b[0m | \u001b[0m 0.926   \u001b[0m |\n",
            "| \u001b[95m 8       \u001b[0m | \u001b[95m 0.8486  \u001b[0m | \u001b[95m 15.59   \u001b[0m | \u001b[95m 18.31   \u001b[0m | \u001b[95m 0.1355  \u001b[0m | \u001b[95m 2.836   \u001b[0m | \u001b[95m 9.558   \u001b[0m | \u001b[95m 29.11   \u001b[0m | \u001b[95m 9.94e-06\u001b[0m | \u001b[95m 199.9   \u001b[0m | \u001b[95m 0.2502  \u001b[0m | \u001b[95m 0.2745  \u001b[0m | \u001b[95m 0.8835  \u001b[0m |\n",
            "| \u001b[0m 9       \u001b[0m | \u001b[0m 0.8478  \u001b[0m | \u001b[0m 4.039   \u001b[0m | \u001b[0m 19.61   \u001b[0m | \u001b[0m 0.05117 \u001b[0m | \u001b[0m 3.36    \u001b[0m | \u001b[0m 9.212   \u001b[0m | \u001b[0m 16.0    \u001b[0m | \u001b[0m 4.18e-06\u001b[0m | \u001b[0m 57.52   \u001b[0m | \u001b[0m 0.02939 \u001b[0m | \u001b[0m 0.1545  \u001b[0m | \u001b[0m 0.8348  \u001b[0m |\n",
            "| \u001b[0m 10      \u001b[0m | \u001b[0m 0.8455  \u001b[0m | \u001b[0m 1.09    \u001b[0m | \u001b[0m 14.03   \u001b[0m | \u001b[0m 0.02402 \u001b[0m | \u001b[0m 2.257   \u001b[0m | \u001b[0m 9.732   \u001b[0m | \u001b[0m 16.41   \u001b[0m | \u001b[0m 8.108e-0\u001b[0m | \u001b[0m 199.7   \u001b[0m | \u001b[0m 0.07448 \u001b[0m | \u001b[0m 0.04612 \u001b[0m | \u001b[0m 0.5514  \u001b[0m |\n",
            "| \u001b[95m 11      \u001b[0m | \u001b[95m 0.8493  \u001b[0m | \u001b[95m 19.91   \u001b[0m | \u001b[95m 17.06   \u001b[0m | \u001b[95m 0.07523 \u001b[0m | \u001b[95m 3.838   \u001b[0m | \u001b[95m 9.738   \u001b[0m | \u001b[95m 16.89   \u001b[0m | \u001b[95m 7.739e-0\u001b[0m | \u001b[95m 126.7   \u001b[0m | \u001b[95m 0.1264  \u001b[0m | \u001b[95m 0.1897  \u001b[0m | \u001b[95m 0.9182  \u001b[0m |\n",
            "| \u001b[0m 12      \u001b[0m | \u001b[0m 0.8484  \u001b[0m | \u001b[0m 3.132   \u001b[0m | \u001b[0m 19.99   \u001b[0m | \u001b[0m 0.1477  \u001b[0m | \u001b[0m 3.922   \u001b[0m | \u001b[0m 8.867   \u001b[0m | \u001b[0m 29.86   \u001b[0m | \u001b[0m 5.145e-0\u001b[0m | \u001b[0m 138.4   \u001b[0m | \u001b[0m 0.2884  \u001b[0m | \u001b[0m 0.1002  \u001b[0m | \u001b[0m 0.9517  \u001b[0m |\n",
            "| \u001b[0m 13      \u001b[0m | \u001b[0m 0.8489  \u001b[0m | \u001b[0m 19.43   \u001b[0m | \u001b[0m 19.74   \u001b[0m | \u001b[0m 0.1283  \u001b[0m | \u001b[0m 2.095   \u001b[0m | \u001b[0m 9.836   \u001b[0m | \u001b[0m 23.61   \u001b[0m | \u001b[0m 9.35e-06\u001b[0m | \u001b[0m 96.99   \u001b[0m | \u001b[0m 0.08126 \u001b[0m | \u001b[0m 0.1041  \u001b[0m | \u001b[0m 0.6343  \u001b[0m |\n",
            "| \u001b[0m 14      \u001b[0m | \u001b[0m 0.8485  \u001b[0m | \u001b[0m 2.399   \u001b[0m | \u001b[0m 19.32   \u001b[0m | \u001b[0m 0.05596 \u001b[0m | \u001b[0m 3.936   \u001b[0m | \u001b[0m 9.981   \u001b[0m | \u001b[0m 15.82   \u001b[0m | \u001b[0m 3.168e-0\u001b[0m | \u001b[0m 120.8   \u001b[0m | \u001b[0m 0.1619  \u001b[0m | \u001b[0m 0.2667  \u001b[0m | \u001b[0m 0.9868  \u001b[0m |\n",
            "| \u001b[0m 15      \u001b[0m | \u001b[0m 0.8479  \u001b[0m | \u001b[0m 18.92   \u001b[0m | \u001b[0m 18.34   \u001b[0m | \u001b[0m 0.04299 \u001b[0m | \u001b[0m 3.805   \u001b[0m | \u001b[0m 9.183   \u001b[0m | \u001b[0m 21.44   \u001b[0m | \u001b[0m 8.518e-0\u001b[0m | \u001b[0m 127.7   \u001b[0m | \u001b[0m 0.2087  \u001b[0m | \u001b[0m 0.1317  \u001b[0m | \u001b[0m 0.9179  \u001b[0m |\n",
            "=============================================================================================================================================================\n"
          ],
          "name": "stdout"
        }
      ]
    },
    {
      "cell_type": "code",
      "metadata": {
        "id": "OZAQj6d_Amda",
        "colab_type": "code",
        "colab": {
          "base_uri": "https://localhost:8080/",
          "height": 202
        },
        "outputId": "674bcbf3-a7d4-4b35-ade1-c99c08c7f3a5"
      },
      "source": [
        "# params={\n",
        "#     \"od_type\":\"Iter\",\n",
        "#     \"od_wait\":50,\n",
        "#     'learning_rate':optimizer.max['params']['learning_rate'],\n",
        "#     \"one_hot_max_size\":int(optimizer.max['params']['one_hot_max_size']),\n",
        "#     \"l2_leaf_reg\":int(optimizer.max['params']['l2_leaf_reg']),\n",
        "#     \"bagging_temperature\":optimizer.max['params']['bagging_temperature'],\n",
        "#     \"random_strength\":optimizer.max['params']['random_strength'],\n",
        "#     \"border_count\":int(optimizer.max['params']['border_count']),\n",
        "#     \"eval_metric\":\"Accuracy\",\n",
        "#     \"verbose\":50,\n",
        "#     \"boosting_type\":\"Plain\",\n",
        "#     \"depth\":int(optimizer.max['params']['depth']),\n",
        "#     \"class_weights\":class_weights\n",
        "# }\n",
        "\n",
        "\n",
        "params={\n",
        "      \"objective\":\"softmax\",\n",
        "      'learning_rate':optimizer.max['params']['learning_rate'],\n",
        "      \"reg_alpha\":optimizer.max['params']['reg_alpha'],\n",
        "      \"reg_lambda\":optimizer.max['params']['reg_lambda'],\n",
        "      \"subsample\":optimizer.max['params']['subsample'],\n",
        "      \"max_depth\":int(optimizer.max['params']['max_depth']),\n",
        "      \"num_leaves\":int(optimizer.max['params']['num_leaves']),\n",
        "      \"verbose\":0,\n",
        "      \"min_child_samples\":int(optimizer.max['params']['min_child_samples']),\n",
        "      \"min_split_gain\":optimizer.max['params']['min_split_gain'],\n",
        "      \"cat_l2\":optimizer.max['params']['cat_l2'],\n",
        "      \"cat_smooth\":optimizer.max['params']['cat_smooth'],\n",
        "      \"max_cat_to_onehot\":int(optimizer.max['params']['max_cat_to_onehot'])\n",
        "  }\n",
        "\n",
        "test_set = (x_test,y_test)\n",
        "# model= CatBoostClassifier(**params)\n",
        "# model.fit(x_train,y_train,\n",
        "#           cat_features=[\"Crop_Type\",'Soil_Type','Pesticide_Use_Category','Season'],\n",
        "#           eval_set=test_set,verbose=False)\n",
        "model= LGBMClassifier(**params)\n",
        "model.fit(x_train,y_train,\n",
        "          categorical_feature=[\"Crop_Type\",'Soil_Type','Pesticide_Use_Category','Season']\n",
        "          ,eval_set=[test_set],verbose=False)\n",
        "score = accuracy_score(test_set[1],model.predict(test_set[0]))\n",
        "score\n",
        "print(\"Accuracy Score : \",score)\n",
        "print(classification_report(test_set[1],model.predict(test_set[0])))"
      ],
      "execution_count": 144,
      "outputs": [
        {
          "output_type": "stream",
          "text": [
            "Accuracy Score :  0.8493003229278795\n",
            "              precision    recall  f1-score   support\n",
            "\n",
            "         0.0       0.86      0.98      0.92     17087\n",
            "         1.0       0.55      0.19      0.28      2813\n",
            "         2.0       0.12      0.00      0.00       538\n",
            "\n",
            "    accuracy                           0.85     20438\n",
            "   macro avg       0.51      0.39      0.40     20438\n",
            "weighted avg       0.80      0.85      0.81     20438\n",
            "\n"
          ],
          "name": "stdout"
        }
      ]
    },
    {
      "cell_type": "code",
      "metadata": {
        "id": "bCNAUJrYN9-Z",
        "colab_type": "code",
        "colab": {
          "base_uri": "https://localhost:8080/",
          "height": 639
        },
        "outputId": "77deb76d-0beb-4360-a24b-76b991fc18d3"
      },
      "source": [
        "pd.DataFrame(list(zip(X.columns,model.feature_importances_)),columns=['Feature','Importance']).sort_values(\"Importance\",ascending=False)"
      ],
      "execution_count": 145,
      "outputs": [
        {
          "output_type": "execute_result",
          "data": {
            "text/html": [
              "<div>\n",
              "<style scoped>\n",
              "    .dataframe tbody tr th:only-of-type {\n",
              "        vertical-align: middle;\n",
              "    }\n",
              "\n",
              "    .dataframe tbody tr th {\n",
              "        vertical-align: top;\n",
              "    }\n",
              "\n",
              "    .dataframe thead th {\n",
              "        text-align: right;\n",
              "    }\n",
              "</style>\n",
              "<table border=\"1\" class=\"dataframe\">\n",
              "  <thead>\n",
              "    <tr style=\"text-align: right;\">\n",
              "      <th></th>\n",
              "      <th>Feature</th>\n",
              "      <th>Importance</th>\n",
              "    </tr>\n",
              "  </thead>\n",
              "  <tbody>\n",
              "    <tr>\n",
              "      <th>0</th>\n",
              "      <td>Estimated_Insects_Count</td>\n",
              "      <td>7429</td>\n",
              "    </tr>\n",
              "    <tr>\n",
              "      <th>8</th>\n",
              "      <td>total_doses_taken</td>\n",
              "      <td>5258</td>\n",
              "    </tr>\n",
              "    <tr>\n",
              "      <th>5</th>\n",
              "      <td>Number_Weeks_Used</td>\n",
              "      <td>4506</td>\n",
              "    </tr>\n",
              "    <tr>\n",
              "      <th>9</th>\n",
              "      <td>num_farming_weeks</td>\n",
              "      <td>3367</td>\n",
              "    </tr>\n",
              "    <tr>\n",
              "      <th>6</th>\n",
              "      <td>Number_Weeks_Quit</td>\n",
              "      <td>2899</td>\n",
              "    </tr>\n",
              "    <tr>\n",
              "      <th>4</th>\n",
              "      <td>Number_Doses_Week</td>\n",
              "      <td>2571</td>\n",
              "    </tr>\n",
              "    <tr>\n",
              "      <th>10</th>\n",
              "      <td>Number_Doses_Week_mean</td>\n",
              "      <td>1396</td>\n",
              "    </tr>\n",
              "    <tr>\n",
              "      <th>12</th>\n",
              "      <td>Number_Weeks_Used_mean</td>\n",
              "      <td>1104</td>\n",
              "    </tr>\n",
              "    <tr>\n",
              "      <th>7</th>\n",
              "      <td>Season</td>\n",
              "      <td>977</td>\n",
              "    </tr>\n",
              "    <tr>\n",
              "      <th>17</th>\n",
              "      <td>total_doses_taken_max</td>\n",
              "      <td>860</td>\n",
              "    </tr>\n",
              "    <tr>\n",
              "      <th>16</th>\n",
              "      <td>total_doses_taken_mean</td>\n",
              "      <td>626</td>\n",
              "    </tr>\n",
              "    <tr>\n",
              "      <th>13</th>\n",
              "      <td>Number_Weeks_Used_max</td>\n",
              "      <td>560</td>\n",
              "    </tr>\n",
              "    <tr>\n",
              "      <th>14</th>\n",
              "      <td>Number_Weeks_Quit_mean</td>\n",
              "      <td>532</td>\n",
              "    </tr>\n",
              "    <tr>\n",
              "      <th>18</th>\n",
              "      <td>num_farming_weeks_mean</td>\n",
              "      <td>464</td>\n",
              "    </tr>\n",
              "    <tr>\n",
              "      <th>2</th>\n",
              "      <td>Soil_Type</td>\n",
              "      <td>280</td>\n",
              "    </tr>\n",
              "    <tr>\n",
              "      <th>19</th>\n",
              "      <td>num_farming_weeks_max</td>\n",
              "      <td>275</td>\n",
              "    </tr>\n",
              "    <tr>\n",
              "      <th>1</th>\n",
              "      <td>Crop_Type</td>\n",
              "      <td>245</td>\n",
              "    </tr>\n",
              "    <tr>\n",
              "      <th>3</th>\n",
              "      <td>Pesticide_Use_Category</td>\n",
              "      <td>174</td>\n",
              "    </tr>\n",
              "    <tr>\n",
              "      <th>15</th>\n",
              "      <td>Number_Weeks_Quit_max</td>\n",
              "      <td>143</td>\n",
              "    </tr>\n",
              "    <tr>\n",
              "      <th>11</th>\n",
              "      <td>Number_Doses_Week_max</td>\n",
              "      <td>80</td>\n",
              "    </tr>\n",
              "  </tbody>\n",
              "</table>\n",
              "</div>"
            ],
            "text/plain": [
              "                    Feature  Importance\n",
              "0   Estimated_Insects_Count        7429\n",
              "8         total_doses_taken        5258\n",
              "5         Number_Weeks_Used        4506\n",
              "9         num_farming_weeks        3367\n",
              "6         Number_Weeks_Quit        2899\n",
              "4         Number_Doses_Week        2571\n",
              "10   Number_Doses_Week_mean        1396\n",
              "12   Number_Weeks_Used_mean        1104\n",
              "7                    Season         977\n",
              "17    total_doses_taken_max         860\n",
              "16   total_doses_taken_mean         626\n",
              "13    Number_Weeks_Used_max         560\n",
              "14   Number_Weeks_Quit_mean         532\n",
              "18   num_farming_weeks_mean         464\n",
              "2                 Soil_Type         280\n",
              "19    num_farming_weeks_max         275\n",
              "1                 Crop_Type         245\n",
              "3    Pesticide_Use_Category         174\n",
              "15    Number_Weeks_Quit_max         143\n",
              "11    Number_Doses_Week_max          80"
            ]
          },
          "metadata": {
            "tags": []
          },
          "execution_count": 145
        }
      ]
    },
    {
      "cell_type": "code",
      "metadata": {
        "id": "1o-Dhh0pFjL6",
        "colab_type": "code",
        "colab": {
          "base_uri": "https://localhost:8080/",
          "height": 418
        },
        "outputId": "d9890cef-e7be-42da-d21e-da0d46becf4c"
      },
      "source": [
        "if not \"Crop_Damage\" in test.columns:\n",
        "  predictions = model.predict(test.drop(['ID'],axis=1))\n",
        "else:\n",
        "  predictions = model.predict(test.drop(['ID','Crop_Damage'],axis=1))\n",
        "test['Crop_Damage'] = predictions\n",
        "submission = test[['ID','Crop_Damage']]\n",
        "print(np.unique(submission.Crop_Damage,return_counts=True))\n",
        "submission.to_csv(\"lgbm_tuned_v6.csv\",index=False)\n",
        "submission"
      ],
      "execution_count": 146,
      "outputs": [
        {
          "output_type": "stream",
          "text": [
            "(array([0., 1., 2.]), array([56473,  2806,    31]))\n"
          ],
          "name": "stdout"
        },
        {
          "output_type": "execute_result",
          "data": {
            "text/html": [
              "<div>\n",
              "<style scoped>\n",
              "    .dataframe tbody tr th:only-of-type {\n",
              "        vertical-align: middle;\n",
              "    }\n",
              "\n",
              "    .dataframe tbody tr th {\n",
              "        vertical-align: top;\n",
              "    }\n",
              "\n",
              "    .dataframe thead th {\n",
              "        text-align: right;\n",
              "    }\n",
              "</style>\n",
              "<table border=\"1\" class=\"dataframe\">\n",
              "  <thead>\n",
              "    <tr style=\"text-align: right;\">\n",
              "      <th></th>\n",
              "      <th>ID</th>\n",
              "      <th>Crop_Damage</th>\n",
              "    </tr>\n",
              "  </thead>\n",
              "  <tbody>\n",
              "    <tr>\n",
              "      <th>79858</th>\n",
              "      <td>F00000007</td>\n",
              "      <td>1.0</td>\n",
              "    </tr>\n",
              "    <tr>\n",
              "      <th>79859</th>\n",
              "      <td>F00000011</td>\n",
              "      <td>1.0</td>\n",
              "    </tr>\n",
              "    <tr>\n",
              "      <th>79860</th>\n",
              "      <td>F00000013</td>\n",
              "      <td>1.0</td>\n",
              "    </tr>\n",
              "    <tr>\n",
              "      <th>79861</th>\n",
              "      <td>F00000014</td>\n",
              "      <td>1.0</td>\n",
              "    </tr>\n",
              "    <tr>\n",
              "      <th>79862</th>\n",
              "      <td>F00000015</td>\n",
              "      <td>1.0</td>\n",
              "    </tr>\n",
              "    <tr>\n",
              "      <th>...</th>\n",
              "      <td>...</td>\n",
              "      <td>...</td>\n",
              "    </tr>\n",
              "    <tr>\n",
              "      <th>148163</th>\n",
              "      <td>F00155852</td>\n",
              "      <td>0.0</td>\n",
              "    </tr>\n",
              "    <tr>\n",
              "      <th>148164</th>\n",
              "      <td>F00155861</td>\n",
              "      <td>0.0</td>\n",
              "    </tr>\n",
              "    <tr>\n",
              "      <th>148165</th>\n",
              "      <td>F00155876</td>\n",
              "      <td>0.0</td>\n",
              "    </tr>\n",
              "    <tr>\n",
              "      <th>148166</th>\n",
              "      <td>F00155885</td>\n",
              "      <td>0.0</td>\n",
              "    </tr>\n",
              "    <tr>\n",
              "      <th>148167</th>\n",
              "      <td>F00155941</td>\n",
              "      <td>0.0</td>\n",
              "    </tr>\n",
              "  </tbody>\n",
              "</table>\n",
              "<p>59310 rows × 2 columns</p>\n",
              "</div>"
            ],
            "text/plain": [
              "               ID  Crop_Damage\n",
              "79858   F00000007          1.0\n",
              "79859   F00000011          1.0\n",
              "79860   F00000013          1.0\n",
              "79861   F00000014          1.0\n",
              "79862   F00000015          1.0\n",
              "...           ...          ...\n",
              "148163  F00155852          0.0\n",
              "148164  F00155861          0.0\n",
              "148165  F00155876          0.0\n",
              "148166  F00155885          0.0\n",
              "148167  F00155941          0.0\n",
              "\n",
              "[59310 rows x 2 columns]"
            ]
          },
          "metadata": {
            "tags": []
          },
          "execution_count": 146
        }
      ]
    },
    {
      "cell_type": "code",
      "metadata": {
        "id": "hDe9rvdVIINs",
        "colab_type": "code",
        "colab": {}
      },
      "source": [
        ""
      ],
      "execution_count": null,
      "outputs": []
    }
  ]
}