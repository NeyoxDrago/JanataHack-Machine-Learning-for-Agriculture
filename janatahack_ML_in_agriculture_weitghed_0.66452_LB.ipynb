{
  "nbformat": 4,
  "nbformat_minor": 0,
  "metadata": {
    "colab": {
      "name": "janatahack_ML_in_agriculture.ipynb",
      "provenance": [],
      "collapsed_sections": []
    },
    "kernelspec": {
      "name": "python3",
      "display_name": "Python 3"
    }
  },
  "cells": [
    {
      "cell_type": "code",
      "metadata": {
        "id": "OALRaJOvUTDg",
        "colab_type": "code",
        "colab": {
          "base_uri": "https://localhost:8080/",
          "height": 386
        },
        "outputId": "d06cabc1-749c-43df-a578-b9b34bfc9f5f"
      },
      "source": [
        "import os\n",
        "if not os.path.exists(\"train.csv\"):\n",
        "  !wget --header=\"Host: datahack-prod.s3.amazonaws.com\" --header=\"User-Agent: Mozilla/5.0 (Windows NT 10.0; Win64; x64) AppleWebKit/537.36 (KHTML, like Gecko) Chrome/84.0.4147.89 Safari/537.36\" --header=\"Accept: text/html,application/xhtml+xml,application/xml;q=0.9,image/webp,image/apng,*/*;q=0.8,application/signed-exchange;v=b3;q=0.9\" --header=\"Accept-Language: en-US,en;q=0.9\" --header=\"Referer: https://datahack.analyticsvidhya.com/contest/janatahack-machine-learning-in-agriculture/\" \"https://datahack-prod.s3.amazonaws.com/train_file/train_yaOffsB.csv\" -c -O 'train.csv'\n",
        "\n",
        "if not os.path.exists(\"test.csv\"):\n",
        "  !wget --header=\"Host: datahack-prod.s3.amazonaws.com\" --header=\"User-Agent: Mozilla/5.0 (Windows NT 10.0; Win64; x64) AppleWebKit/537.36 (KHTML, like Gecko) Chrome/84.0.4147.89 Safari/537.36\" --header=\"Accept: text/html,application/xhtml+xml,application/xml;q=0.9,image/webp,image/apng,*/*;q=0.8,application/signed-exchange;v=b3;q=0.9\" --header=\"Accept-Language: en-US,en;q=0.9\" --header=\"Referer: https://datahack.analyticsvidhya.com/contest/janatahack-machine-learning-in-agriculture/\" \"https://datahack-prod.s3.amazonaws.com/test_file/test_pFkWwen.csv\" -c -O 'test.csv'"
      ],
      "execution_count": 1,
      "outputs": [
        {
          "output_type": "stream",
          "text": [
            "--2020-07-26 15:08:13--  https://datahack-prod.s3.amazonaws.com/train_file/train_yaOffsB.csv\n",
            "Resolving datahack-prod.s3.amazonaws.com (datahack-prod.s3.amazonaws.com)... 52.219.64.124\n",
            "Connecting to datahack-prod.s3.amazonaws.com (datahack-prod.s3.amazonaws.com)|52.219.64.124|:443... connected.\n",
            "HTTP request sent, awaiting response... 200 OK\n",
            "Length: 2997136 (2.9M) [text/csv]\n",
            "Saving to: ‘train.csv’\n",
            "\n",
            "train.csv           100%[===================>]   2.86M  3.81MB/s    in 0.8s    \n",
            "\n",
            "2020-07-26 15:08:14 (3.81 MB/s) - ‘train.csv’ saved [2997136/2997136]\n",
            "\n",
            "--2020-07-26 15:08:16--  https://datahack-prod.s3.amazonaws.com/test_file/test_pFkWwen.csv\n",
            "Resolving datahack-prod.s3.amazonaws.com (datahack-prod.s3.amazonaws.com)... 52.219.66.116\n",
            "Connecting to datahack-prod.s3.amazonaws.com (datahack-prod.s3.amazonaws.com)|52.219.66.116|:443... connected.\n",
            "HTTP request sent, awaiting response... 200 OK\n",
            "Length: 1881912 (1.8M) [text/csv]\n",
            "Saving to: ‘test.csv’\n",
            "\n",
            "test.csv            100%[===================>]   1.79M  2.37MB/s    in 0.8s    \n",
            "\n",
            "2020-07-26 15:08:17 (2.37 MB/s) - ‘test.csv’ saved [1881912/1881912]\n",
            "\n"
          ],
          "name": "stdout"
        }
      ]
    },
    {
      "cell_type": "code",
      "metadata": {
        "id": "gg9P4O2jUll6",
        "colab_type": "code",
        "colab": {
          "base_uri": "https://localhost:8080/",
          "height": 70
        },
        "outputId": "c83cca36-89a0-4d50-e52d-759639069c91"
      },
      "source": [
        "import pandas as pd\n",
        "import numpy as np\n",
        "import seaborn as sns\n",
        "import os"
      ],
      "execution_count": 2,
      "outputs": [
        {
          "output_type": "stream",
          "text": [
            "/usr/local/lib/python3.6/dist-packages/statsmodels/tools/_testing.py:19: FutureWarning: pandas.util.testing is deprecated. Use the functions in the public API at pandas.testing instead.\n",
            "  import pandas.util.testing as tm\n"
          ],
          "name": "stderr"
        }
      ]
    },
    {
      "cell_type": "code",
      "metadata": {
        "id": "b0Zoe4OqUvo1",
        "colab_type": "code",
        "colab": {
          "base_uri": "https://localhost:8080/",
          "height": 522
        },
        "outputId": "3e030ac1-e689-4dd4-cabd-59b5e33ca428"
      },
      "source": [
        "# ID\t: UniqueID\n",
        "# Estimated_Insects_Count\t: Estimated insects count per square meter\n",
        "# Crop_Type :\tCategory of Crop(0,1)\n",
        "# Soil_Type\t: Category of Soil (0,1)\n",
        "# Pesticide_Use_Category : Type of pesticides uses (1- Never, 2-Previously Used, 3-Currently Using)\n",
        "# Number_Doses_Week :\tNumber of doses per week\n",
        "# Number_Weeks_Used\t: Number of weeks used\n",
        "# Number_Weeks_Quit\t: Number of weeks quit\n",
        "# Season :\tSeason Category (1,2,3)\n",
        "# Crop_Damage\t: Crop Damage Category (0=alive, 1=Damage due to other causes, 2=Damage due to Pesticides)\n",
        "\n",
        "train = pd.read_csv(\"train.csv\")\n",
        "test = pd.read_csv(\"test.csv\")\n",
        "merge = pd.concat([train,test]).reset_index(drop=True)\n",
        "print(merge.shape)\n",
        "\n",
        "# test['Estimated_Insects_Count_per_km_sq'] = test['Estimated_Insects_Count'].apply(lambda x:x*0.000001) \n",
        "# train['Estimated_Insects_Count_per_km_sq'] = train['Estimated_Insects_Count'].apply(lambda x:x*0.000001) \n",
        "\n",
        "from sklearn.linear_model import LinearRegression,LogisticRegression\n",
        "from lightgbm import LGBMRegressor,LGBMClassifier\n",
        "from xgboost import XGBRegressor,XGBClassifier\n",
        "from sklearn.model_selection import train_test_split\n",
        "\n",
        "# imputer = LGBMRegressor()\n",
        "# use_train = merge[~merge.Number_Weeks_Used.isna()]\n",
        "# X = use_train.drop(['ID','Number_Weeks_Used','Crop_Damage'],axis=1)\n",
        "# Y = use_train[['Number_Weeks_Used']]\n",
        "# impute_train_x,impute_test_x,impute_train_y,impute_test_y = train_test_split(X,Y,test_size=0.2,shuffle=True)\n",
        "# imputer.fit(impute_train_x,impute_train_y)\n",
        "# print(imputer.score(impute_test_x,impute_test_y))\n",
        "\n",
        "# imputer.fit(X,Y)\n",
        "\n",
        "# na_train = merge[merge.Number_Weeks_Used.isna()]\n",
        "# output = imputer.predict(na_train.drop(['ID','Number_Weeks_Used','Crop_Damage'],axis=1))\n",
        "# na_train['Number_Weeks_Used'] = output\n",
        "# # print(na_train.shape,use_train.shape)\n",
        "\n",
        "# merge = pd.concat([use_train,na_train]).reset_index(drop=True)\n",
        "# # print(merge.shape)\n",
        "merge.Number_Weeks_Used = merge.Number_Weeks_Used.fillna(merge.Number_Weeks_Used.dropna().values.mean())\n",
        "# merge['Number_Weeks_Used'] = merge['Number_Weeks_Used'].apply(lambda x:int(x))\n",
        "# merge['Number_Weeks_Quit'] = merge['Number_Weeks_Quit'].apply(lambda x:int(x))\n",
        "# merge['total_doses_taken'] = merge.apply(lambda x:x['Number_Doses_Week']*x['Number_Weeks_Used'],axis=1)\n",
        "# merge['num_farming_weeks'] = merge.apply(lambda x:x['Number_Weeks_Used']+x['Number_Weeks_Quit'],axis=1)\n",
        "\n",
        "# m = merge.groupby(['Crop_Type',\"Soil_Type\",\"Pesticide_Use_Category\",\"Season\"])['Number_Doses_Week',\"Number_Weeks_Used\",\"Number_Weeks_Quit\",\"total_doses_taken\",\"num_farming_weeks\"]\n",
        "# m = m.agg(['mean',\"max\",\"min\"]).reset_index()\n",
        "# columns = []\n",
        "# for i in m.columns:\n",
        "#   if len(i) >1 and i[1] != \"\":\n",
        "#     columns.append(\"_\".join(i))\n",
        "#   else:\n",
        "#     columns.append(i[0])\n",
        "# m.columns = columns\n",
        "# merge = merge.merge(m,on=['Crop_Type',\"Soil_Type\",\"Pesticide_Use_Category\",\"Season\"],how=\"left\")\n",
        "\n",
        "num_cols= ['Estimated_Insects_Count','Number_Doses_Week','Number_Weeks_Used','Number_Weeks_Quit','total_doses_taken','num_farming_weeks']\n",
        "\n",
        "train = merge[~merge.Crop_Damage.isna()]\n",
        "test = merge[merge.Crop_Damage.isna()]\n",
        "test.drop(['Crop_Damage'],axis=1,inplace=True)\n",
        "\n",
        "\n",
        "train"
      ],
      "execution_count": 5,
      "outputs": [
        {
          "output_type": "stream",
          "text": [
            "(148168, 10)\n"
          ],
          "name": "stdout"
        },
        {
          "output_type": "stream",
          "text": [
            "/usr/local/lib/python3.6/dist-packages/pandas/core/frame.py:3997: SettingWithCopyWarning: \n",
            "A value is trying to be set on a copy of a slice from a DataFrame\n",
            "\n",
            "See the caveats in the documentation: https://pandas.pydata.org/pandas-docs/stable/user_guide/indexing.html#returning-a-view-versus-a-copy\n",
            "  errors=errors,\n"
          ],
          "name": "stderr"
        },
        {
          "output_type": "execute_result",
          "data": {
            "text/html": [
              "<div>\n",
              "<style scoped>\n",
              "    .dataframe tbody tr th:only-of-type {\n",
              "        vertical-align: middle;\n",
              "    }\n",
              "\n",
              "    .dataframe tbody tr th {\n",
              "        vertical-align: top;\n",
              "    }\n",
              "\n",
              "    .dataframe thead th {\n",
              "        text-align: right;\n",
              "    }\n",
              "</style>\n",
              "<table border=\"1\" class=\"dataframe\">\n",
              "  <thead>\n",
              "    <tr style=\"text-align: right;\">\n",
              "      <th></th>\n",
              "      <th>ID</th>\n",
              "      <th>Estimated_Insects_Count</th>\n",
              "      <th>Crop_Type</th>\n",
              "      <th>Soil_Type</th>\n",
              "      <th>Pesticide_Use_Category</th>\n",
              "      <th>Number_Doses_Week</th>\n",
              "      <th>Number_Weeks_Used</th>\n",
              "      <th>Number_Weeks_Quit</th>\n",
              "      <th>Season</th>\n",
              "      <th>Crop_Damage</th>\n",
              "    </tr>\n",
              "  </thead>\n",
              "  <tbody>\n",
              "    <tr>\n",
              "      <th>0</th>\n",
              "      <td>F00000001</td>\n",
              "      <td>188</td>\n",
              "      <td>1</td>\n",
              "      <td>0</td>\n",
              "      <td>1</td>\n",
              "      <td>0</td>\n",
              "      <td>0.0</td>\n",
              "      <td>0</td>\n",
              "      <td>1</td>\n",
              "      <td>0.0</td>\n",
              "    </tr>\n",
              "    <tr>\n",
              "      <th>1</th>\n",
              "      <td>F00000003</td>\n",
              "      <td>209</td>\n",
              "      <td>1</td>\n",
              "      <td>0</td>\n",
              "      <td>1</td>\n",
              "      <td>0</td>\n",
              "      <td>0.0</td>\n",
              "      <td>0</td>\n",
              "      <td>2</td>\n",
              "      <td>1.0</td>\n",
              "    </tr>\n",
              "    <tr>\n",
              "      <th>2</th>\n",
              "      <td>F00000004</td>\n",
              "      <td>257</td>\n",
              "      <td>1</td>\n",
              "      <td>0</td>\n",
              "      <td>1</td>\n",
              "      <td>0</td>\n",
              "      <td>0.0</td>\n",
              "      <td>0</td>\n",
              "      <td>2</td>\n",
              "      <td>1.0</td>\n",
              "    </tr>\n",
              "    <tr>\n",
              "      <th>3</th>\n",
              "      <td>F00000005</td>\n",
              "      <td>257</td>\n",
              "      <td>1</td>\n",
              "      <td>1</td>\n",
              "      <td>1</td>\n",
              "      <td>0</td>\n",
              "      <td>0.0</td>\n",
              "      <td>0</td>\n",
              "      <td>2</td>\n",
              "      <td>1.0</td>\n",
              "    </tr>\n",
              "    <tr>\n",
              "      <th>4</th>\n",
              "      <td>F00000006</td>\n",
              "      <td>342</td>\n",
              "      <td>1</td>\n",
              "      <td>0</td>\n",
              "      <td>1</td>\n",
              "      <td>0</td>\n",
              "      <td>0.0</td>\n",
              "      <td>0</td>\n",
              "      <td>2</td>\n",
              "      <td>1.0</td>\n",
              "    </tr>\n",
              "    <tr>\n",
              "      <th>...</th>\n",
              "      <td>...</td>\n",
              "      <td>...</td>\n",
              "      <td>...</td>\n",
              "      <td>...</td>\n",
              "      <td>...</td>\n",
              "      <td>...</td>\n",
              "      <td>...</td>\n",
              "      <td>...</td>\n",
              "      <td>...</td>\n",
              "      <td>...</td>\n",
              "    </tr>\n",
              "    <tr>\n",
              "      <th>88853</th>\n",
              "      <td>F00155935</td>\n",
              "      <td>3337</td>\n",
              "      <td>1</td>\n",
              "      <td>0</td>\n",
              "      <td>2</td>\n",
              "      <td>10</td>\n",
              "      <td>12.0</td>\n",
              "      <td>44</td>\n",
              "      <td>3</td>\n",
              "      <td>0.0</td>\n",
              "    </tr>\n",
              "    <tr>\n",
              "      <th>88854</th>\n",
              "      <td>F00155938</td>\n",
              "      <td>3516</td>\n",
              "      <td>1</td>\n",
              "      <td>0</td>\n",
              "      <td>2</td>\n",
              "      <td>10</td>\n",
              "      <td>20.0</td>\n",
              "      <td>38</td>\n",
              "      <td>1</td>\n",
              "      <td>0.0</td>\n",
              "    </tr>\n",
              "    <tr>\n",
              "      <th>88855</th>\n",
              "      <td>F00155939</td>\n",
              "      <td>3516</td>\n",
              "      <td>1</td>\n",
              "      <td>0</td>\n",
              "      <td>2</td>\n",
              "      <td>15</td>\n",
              "      <td>40.0</td>\n",
              "      <td>8</td>\n",
              "      <td>2</td>\n",
              "      <td>0.0</td>\n",
              "    </tr>\n",
              "    <tr>\n",
              "      <th>88856</th>\n",
              "      <td>F00155942</td>\n",
              "      <td>3702</td>\n",
              "      <td>1</td>\n",
              "      <td>0</td>\n",
              "      <td>2</td>\n",
              "      <td>10</td>\n",
              "      <td>25.0</td>\n",
              "      <td>18</td>\n",
              "      <td>3</td>\n",
              "      <td>0.0</td>\n",
              "    </tr>\n",
              "    <tr>\n",
              "      <th>88857</th>\n",
              "      <td>F00155945</td>\n",
              "      <td>3895</td>\n",
              "      <td>1</td>\n",
              "      <td>0</td>\n",
              "      <td>2</td>\n",
              "      <td>20</td>\n",
              "      <td>37.0</td>\n",
              "      <td>7</td>\n",
              "      <td>3</td>\n",
              "      <td>0.0</td>\n",
              "    </tr>\n",
              "  </tbody>\n",
              "</table>\n",
              "<p>88858 rows × 10 columns</p>\n",
              "</div>"
            ],
            "text/plain": [
              "              ID  Estimated_Insects_Count  ...  Season  Crop_Damage\n",
              "0      F00000001                      188  ...       1          0.0\n",
              "1      F00000003                      209  ...       2          1.0\n",
              "2      F00000004                      257  ...       2          1.0\n",
              "3      F00000005                      257  ...       2          1.0\n",
              "4      F00000006                      342  ...       2          1.0\n",
              "...          ...                      ...  ...     ...          ...\n",
              "88853  F00155935                     3337  ...       3          0.0\n",
              "88854  F00155938                     3516  ...       1          0.0\n",
              "88855  F00155939                     3516  ...       2          0.0\n",
              "88856  F00155942                     3702  ...       3          0.0\n",
              "88857  F00155945                     3895  ...       3          0.0\n",
              "\n",
              "[88858 rows x 10 columns]"
            ]
          },
          "metadata": {
            "tags": []
          },
          "execution_count": 5
        }
      ]
    },
    {
      "cell_type": "code",
      "metadata": {
        "id": "xgZhh4S0Nkht",
        "colab_type": "code",
        "colab": {}
      },
      "source": [
        "# m = merge.groupby(['Crop_Type',\"Soil_Type\",\"Pesticide_Use_Category\",\"Season\"])['Number_Doses_Week',\"Number_Weeks_Used\",\"Number_Weeks_Quit\",\"total_doses_taken\",\"num_farming_weeks\"]\n",
        "# m = m.agg(['mean',\"max\",\"min\"]).reset_index()\n",
        "# columns = []\n",
        "# for i in m.columns:\n",
        "#   if len(i) >1 and i[1] != \"\":\n",
        "#     columns.append(\"_\".join(i))\n",
        "#   else:\n",
        "#     columns.append(i[0])\n",
        "# m.columns = columns\n",
        "# m"
      ],
      "execution_count": null,
      "outputs": []
    },
    {
      "cell_type": "code",
      "metadata": {
        "id": "RdxkyC968aY0",
        "colab_type": "code",
        "colab": {
          "base_uri": "https://localhost:8080/",
          "height": 401
        },
        "outputId": "43102e33-8e32-4a39-b017-7955bb601e3b"
      },
      "source": [
        "sns.heatmap(train.corr())"
      ],
      "execution_count": 6,
      "outputs": [
        {
          "output_type": "execute_result",
          "data": {
            "text/plain": [
              "<matplotlib.axes._subplots.AxesSubplot at 0x7f19e5bd6240>"
            ]
          },
          "metadata": {
            "tags": []
          },
          "execution_count": 6
        },
        {
          "output_type": "display_data",
          "data": {
            "image/png": "[encoded data removed]",
            "text/plain": [
              "<Figure size 432x288 with 2 Axes>"
            ]
          },
          "metadata": {
            "tags": [],
            "needs_background": "light"
          }
        }
      ]
    },
    {
      "cell_type": "code",
      "metadata": {
        "id": "GaSEJix4H4x4",
        "colab_type": "code",
        "colab": {
          "base_uri": "https://localhost:8080/",
          "height": 302
        },
        "outputId": "d1bcab33-5772-41eb-8b12-667edd54220e"
      },
      "source": [
        "train.info()"
      ],
      "execution_count": 7,
      "outputs": [
        {
          "output_type": "stream",
          "text": [
            "<class 'pandas.core.frame.DataFrame'>\n",
            "Int64Index: 88858 entries, 0 to 88857\n",
            "Data columns (total 10 columns):\n",
            " #   Column                   Non-Null Count  Dtype  \n",
            "---  ------                   --------------  -----  \n",
            " 0   ID                       88858 non-null  object \n",
            " 1   Estimated_Insects_Count  88858 non-null  int64  \n",
            " 2   Crop_Type                88858 non-null  int64  \n",
            " 3   Soil_Type                88858 non-null  int64  \n",
            " 4   Pesticide_Use_Category   88858 non-null  int64  \n",
            " 5   Number_Doses_Week        88858 non-null  int64  \n",
            " 6   Number_Weeks_Used        88858 non-null  float64\n",
            " 7   Number_Weeks_Quit        88858 non-null  int64  \n",
            " 8   Season                   88858 non-null  int64  \n",
            " 9   Crop_Damage              88858 non-null  float64\n",
            "dtypes: float64(2), int64(7), object(1)\n",
            "memory usage: 7.5+ MB\n"
          ],
          "name": "stdout"
        }
      ]
    },
    {
      "cell_type": "code",
      "metadata": {
        "id": "xyFToXJAUz1A",
        "colab_type": "code",
        "colab": {
          "base_uri": "https://localhost:8080/",
          "height": 282
        },
        "outputId": "7912e959-737a-4649-83b8-1908214b62ec"
      },
      "source": [
        "# sns.distplot(train.Estimated_Insects_Count)\n",
        "# sns.kdeplot(na_train.Number_Weeks_Used,label=\"imputed\")\n",
        "# sns.kdeplot(use_train.Number_Weeks_Used,label=\"before imputation\")\n",
        "sns.kdeplot(merge.Number_Weeks_Used,label=\"after imputation\")"
      ],
      "execution_count": 9,
      "outputs": [
        {
          "output_type": "execute_result",
          "data": {
            "text/plain": [
              "<matplotlib.axes._subplots.AxesSubplot at 0x7f19e62b26d8>"
            ]
          },
          "metadata": {
            "tags": []
          },
          "execution_count": 9
        },
        {
          "output_type": "display_data",
          "data": {
            "image/png": "[encoded data removed]",
            "text/plain": [
              "<Figure size 432x288 with 1 Axes>"
            ]
          },
          "metadata": {
            "tags": [],
            "needs_background": "light"
          }
        }
      ]
    },
    {
      "cell_type": "code",
      "metadata": {
        "id": "72qhgyaHWVXb",
        "colab_type": "code",
        "colab": {
          "base_uri": "https://localhost:8080/",
          "height": 297
        },
        "outputId": "f262ecdd-f18e-46d8-bf86-efb897871f4b"
      },
      "source": [
        "sns.distplot(train.Estimated_Insects_Count,label=\"train\",)\n",
        "sns.distplot(test.Estimated_Insects_Count,label=\"test\")"
      ],
      "execution_count": 10,
      "outputs": [
        {
          "output_type": "execute_result",
          "data": {
            "text/plain": [
              "<matplotlib.axes._subplots.AxesSubplot at 0x7f19e19ec278>"
            ]
          },
          "metadata": {
            "tags": []
          },
          "execution_count": 10
        },
        {
          "output_type": "display_data",
          "data": {
            "image/png": "[encoded data removed]",
            "text/plain": [
              "<Figure size 432x288 with 1 Axes>"
            ]
          },
          "metadata": {
            "tags": [],
            "needs_background": "light"
          }
        }
      ]
    },
    {
      "cell_type": "code",
      "metadata": {
        "id": "bGOzBduQCNrl",
        "colab_type": "code",
        "colab": {
          "base_uri": "https://localhost:8080/",
          "height": 282
        },
        "outputId": "c9bddf5f-2840-4420-9e8c-917ea5e93bc3"
      },
      "source": [
        "sns.kdeplot(train.Number_Weeks_Used,label=\"train\")\n",
        "sns.kdeplot(test.Number_Weeks_Used,label=\"test\")"
      ],
      "execution_count": 11,
      "outputs": [
        {
          "output_type": "execute_result",
          "data": {
            "text/plain": [
              "<matplotlib.axes._subplots.AxesSubplot at 0x7f19e18b9a20>"
            ]
          },
          "metadata": {
            "tags": []
          },
          "execution_count": 11
        },
        {
          "output_type": "display_data",
          "data": {
            "image/png": "[encoded data removed]",
            "text/plain": [
              "<Figure size 432x288 with 1 Axes>"
            ]
          },
          "metadata": {
            "tags": [],
            "needs_background": "light"
          }
        }
      ]
    },
    {
      "cell_type": "code",
      "metadata": {
        "id": "Nfr25joECaN5",
        "colab_type": "code",
        "colab": {
          "base_uri": "https://localhost:8080/",
          "height": 282
        },
        "outputId": "a9f04065-6307-4410-efb5-d1d4d67b3916"
      },
      "source": [
        "sns.kdeplot(train.Number_Weeks_Quit,label=\"train\")\n",
        "sns.kdeplot(test.Number_Weeks_Quit,label=\"test\")"
      ],
      "execution_count": 12,
      "outputs": [
        {
          "output_type": "execute_result",
          "data": {
            "text/plain": [
              "<matplotlib.axes._subplots.AxesSubplot at 0x7f19e18467f0>"
            ]
          },
          "metadata": {
            "tags": []
          },
          "execution_count": 12
        },
        {
          "output_type": "display_data",
          "data": {
            "image/png": "[encoded data removed]",
            "text/plain": [
              "<Figure size 432x288 with 1 Axes>"
            ]
          },
          "metadata": {
            "tags": [],
            "needs_background": "light"
          }
        }
      ]
    },
    {
      "cell_type": "code",
      "metadata": {
        "id": "S82DSfdI0s2P",
        "colab_type": "code",
        "colab": {}
      },
      "source": [
        "# sns.jointplot(x=\"Number_Weeks_Used\",y=\"Crop_Type\",data=train,kind=\"kde\")\n",
        "# sns.distplot(train[\"num_farming_weeks\"])"
      ],
      "execution_count": 14,
      "outputs": []
    },
    {
      "cell_type": "code",
      "metadata": {
        "id": "oSbqg-g4CW_7",
        "colab_type": "code",
        "colab": {
          "base_uri": "https://localhost:8080/",
          "height": 297
        },
        "outputId": "75135206-c302-48d1-cde4-ab80f93d2806"
      },
      "source": [
        "sns.countplot(train.Crop_Damage)"
      ],
      "execution_count": 15,
      "outputs": [
        {
          "output_type": "execute_result",
          "data": {
            "text/plain": [
              "<matplotlib.axes._subplots.AxesSubplot at 0x7f19e17bd208>"
            ]
          },
          "metadata": {
            "tags": []
          },
          "execution_count": 15
        },
        {
          "output_type": "display_data",
          "data": {
            "image/png": "[encoded data removed]",
            "text/plain": [
              "<Figure size 432x288 with 1 Axes>"
            ]
          },
          "metadata": {
            "tags": [],
            "needs_background": "light"
          }
        }
      ]
    },
    {
      "cell_type": "code",
      "metadata": {
        "id": "kZqBqRnZCg8l",
        "colab_type": "code",
        "colab": {
          "base_uri": "https://localhost:8080/",
          "height": 339
        },
        "outputId": "facf6a5d-e65f-45e6-cfa4-9a51c3c9e719"
      },
      "source": [
        "!pip install catboost"
      ],
      "execution_count": 16,
      "outputs": [
        {
          "output_type": "stream",
          "text": [
            "Collecting catboost\n",
            "\u001b[?25l  Downloading https://files.pythonhosted.org/packages/b2/aa/e61819d04ef2bbee778bf4b3a748db1f3ad23512377e43ecfdc3211437a0/catboost-0.23.2-cp36-none-manylinux1_x86_64.whl (64.8MB)\n",
            "\u001b[K     |████████████████████████████████| 64.8MB 64kB/s \n",
            "\u001b[?25hRequirement already satisfied: pandas>=0.24.0 in /usr/local/lib/python3.6/dist-packages (from catboost) (1.0.5)\n",
            "Requirement already satisfied: plotly in /usr/local/lib/python3.6/dist-packages (from catboost) (4.4.1)\n",
            "Requirement already satisfied: numpy>=1.16.0 in /usr/local/lib/python3.6/dist-packages (from catboost) (1.18.5)\n",
            "Requirement already satisfied: six in /usr/local/lib/python3.6/dist-packages (from catboost) (1.15.0)\n",
            "Requirement already satisfied: graphviz in /usr/local/lib/python3.6/dist-packages (from catboost) (0.10.1)\n",
            "Requirement already satisfied: scipy in /usr/local/lib/python3.6/dist-packages (from catboost) (1.4.1)\n",
            "Requirement already satisfied: matplotlib in /usr/local/lib/python3.6/dist-packages (from catboost) (3.2.2)\n",
            "Requirement already satisfied: python-dateutil>=2.6.1 in /usr/local/lib/python3.6/dist-packages (from pandas>=0.24.0->catboost) (2.8.1)\n",
            "Requirement already satisfied: pytz>=2017.2 in /usr/local/lib/python3.6/dist-packages (from pandas>=0.24.0->catboost) (2018.9)\n",
            "Requirement already satisfied: retrying>=1.3.3 in /usr/local/lib/python3.6/dist-packages (from plotly->catboost) (1.3.3)\n",
            "Requirement already satisfied: cycler>=0.10 in /usr/local/lib/python3.6/dist-packages (from matplotlib->catboost) (0.10.0)\n",
            "Requirement already satisfied: pyparsing!=2.0.4,!=2.1.2,!=2.1.6,>=2.0.1 in /usr/local/lib/python3.6/dist-packages (from matplotlib->catboost) (2.4.7)\n",
            "Requirement already satisfied: kiwisolver>=1.0.1 in /usr/local/lib/python3.6/dist-packages (from matplotlib->catboost) (1.2.0)\n",
            "Installing collected packages: catboost\n",
            "Successfully installed catboost-0.23.2\n"
          ],
          "name": "stdout"
        }
      ]
    },
    {
      "cell_type": "code",
      "metadata": {
        "id": "P3_n4qkeDucU",
        "colab_type": "code",
        "colab": {}
      },
      "source": [
        "from catboost import CatBoostClassifier\n",
        "from sklearn.model_selection import train_test_split , KFold\n",
        "from sklearn.linear_model import LogisticRegression \n",
        "from sklearn.tree import DecisionTreeClassifier\n",
        "from sklearn.neighbors import KNeighborsClassifier\n",
        "from sklearn.naive_bayes import BernoulliNB,GaussianNB ,CategoricalNB\n",
        "from sklearn.ensemble import RandomForestClassifier , GradientBoostingClassifier , AdaBoostClassifier"
      ],
      "execution_count": 17,
      "outputs": []
    },
    {
      "cell_type": "code",
      "metadata": {
        "id": "Q8Fs_mHuLR-Y",
        "colab_type": "code",
        "colab": {
          "base_uri": "https://localhost:8080/",
          "height": 34
        },
        "outputId": "1bfec090-34c6-4666-acfc-749d1fee23b3"
      },
      "source": [
        "from sklearn.utils import class_weight\n",
        "y = train[['Crop_Damage']].values.reshape((-1))\n",
        "class_weights = class_weight.compute_class_weight('balanced',np.unique(y),y)\n",
        "class_weights"
      ],
      "execution_count": 18,
      "outputs": [
        {
          "output_type": "execute_result",
          "data": {
            "text/plain": [
              "array([ 0.39897806,  2.40670621, 12.80559158])"
            ]
          },
          "metadata": {
            "tags": []
          },
          "execution_count": 18
        }
      ]
    },
    {
      "cell_type": "code",
      "metadata": {
        "id": "I9o8GHfrKjdf",
        "colab_type": "code",
        "colab": {
          "base_uri": "https://localhost:8080/",
          "height": 910
        },
        "outputId": "269f252e-52ae-436e-c2ed-df26595d19df"
      },
      "source": [
        "import warnings \n",
        "warnings.filterwarnings(\"ignore\")\n",
        "\n",
        "# X = train.drop(['ID','Crop_Damage'],axis=1)\n",
        "# Y = train[['Crop_Damage']]\n",
        "\n",
        "X = train.drop(['ID',\"Crop_Damage\"],axis=1)\n",
        "Y = train[['Crop_Damage']]\n",
        "\n",
        "params={\n",
        "    \"od_type\":\"Iter\",\n",
        "    \"od_wait\":50,\n",
        "    \"learning_rate\":0.15,\n",
        "    \"eval_metric\":\"Accuracy\",\n",
        "    \"verbose\":50,\n",
        "    \"boosting_type\":\"Plain\",\n",
        "    # \"class_weights\":class_weights\n",
        "}\n",
        "\n",
        "from sklearn.utils import class_weight\n",
        "from sklearn.model_selection import KFold, StratifiedKFold\n",
        "\n",
        "y = train[['Crop_Damage']].values.reshape((-1))\n",
        "class_weights = class_weight.compute_class_weight('balanced',np.unique(y),y)\n",
        "class_weights\n",
        "\n",
        "n_folds=[4]\n",
        "for n_fold in n_folds:\n",
        "  print(\"\\nPerforming on N_folds :\",n_fold)\n",
        "  folds = StratifiedKFold(n_splits=n_fold,shuffle=True)\n",
        "  scores=[]\n",
        "  max_score = 0\n",
        "\n",
        "  for (train_idx,test_idx),i in list(zip(folds.split(X,Y),range(n_fold))):\n",
        "    test_set = (X.iloc[test_idx],Y.iloc[test_idx])\n",
        "    model = CatBoostClassifier(**params)\n",
        "    model.fit(X.iloc[train_idx],Y.iloc[train_idx],\n",
        "              cat_features=[\"Crop_Type\",'Soil_Type','Pesticide_Use_Category','Season'],\n",
        "              eval_set=test_set)\n",
        "    \n",
        "    # model= XGBClassifier(verbose=False)\n",
        "    # model.fit(X.iloc[train_idx],Y.iloc[train_idx],eval_set=[test_set],\n",
        "    #           early_stopping_rounds=25,verbose=False)\n",
        "    score = model.score(*test_set)\n",
        "    scores.append(score)\n",
        "    if score > max_score:\n",
        "      max_score=score\n",
        "      best_idx=train_idx\n",
        "      val_idx = test_idx\n",
        "    print(\"Model Score at fold %d : \" % i,score)\n",
        "\n",
        "  print(\"mean_score\",np.array(scores).mean())\n",
        "  print(\"_----_\"*25)\n",
        "# model.fit(X,Y,\n",
        "#           cat_features=[\"Crop_Type\",'Soil_Type','Pesticide_Use_Category','Season'])"
      ],
      "execution_count": 19,
      "outputs": [
        {
          "output_type": "stream",
          "text": [
            "\n",
            "Performing on N_folds : 4\n",
            "0:\tlearn: 0.8402083\ttest: 0.8409633\tbest: 0.8409633 (0)\ttotal: 194ms\tremaining: 3m 14s\n",
            "50:\tlearn: 0.8440196\ttest: 0.8453297\tbest: 0.8453297 (48)\ttotal: 6.26s\tremaining: 1m 56s\n",
            "100:\tlearn: 0.8471257\ttest: 0.8463201\tbest: 0.8465001 (85)\ttotal: 12.4s\tremaining: 1m 50s\n",
            "150:\tlearn: 0.8487463\ttest: 0.8465001\tbest: 0.8468602 (121)\ttotal: 18.7s\tremaining: 1m 45s\n",
            "200:\tlearn: 0.8502618\ttest: 0.8465451\tbest: 0.8469052 (157)\ttotal: 25.1s\tremaining: 1m 39s\n",
            "Stopped by overfitting detector  (50 iterations wait)\n",
            "\n",
            "bestTest = 0.8469052442\n",
            "bestIteration = 157\n",
            "\n",
            "Shrink model to first 158 iterations.\n",
            "Model Score at fold 0 :  0.8469052442043664\n",
            "0:\tlearn: 0.8402083\ttest: 0.8409633\tbest: 0.8409633 (0)\ttotal: 146ms\tremaining: 2m 25s\n",
            "50:\tlearn: 0.8440046\ttest: 0.8443394\tbest: 0.8445195 (44)\ttotal: 6s\tremaining: 1m 51s\n",
            "100:\tlearn: 0.8467056\ttest: 0.8460050\tbest: 0.8460950 (87)\ttotal: 11.8s\tremaining: 1m 45s\n",
            "150:\tlearn: 0.8485963\ttest: 0.8470853\tbest: 0.8471303 (141)\ttotal: 18.2s\tremaining: 1m 42s\n",
            "200:\tlearn: 0.8495866\ttest: 0.8473104\tbest: 0.8474454 (156)\ttotal: 24.5s\tremaining: 1m 37s\n",
            "Stopped by overfitting detector  (50 iterations wait)\n",
            "\n",
            "bestTest = 0.8474454198\n",
            "bestIteration = 156\n",
            "\n",
            "Shrink model to first 157 iterations.\n",
            "Model Score at fold 1 :  0.8474454197614225\n",
            "0:\tlearn: 0.8404508\ttest: 0.8401459\tbest: 0.8401459 (0)\ttotal: 145ms\tremaining: 2m 24s\n",
            "50:\tlearn: 0.8444121\ttest: 0.8421266\tbest: 0.8424867 (45)\ttotal: 6.21s\tremaining: 1m 55s\n",
            "100:\tlearn: 0.8475482\ttest: 0.8450527\tbest: 0.8450527 (100)\ttotal: 12.2s\tremaining: 1m 48s\n",
            "150:\tlearn: 0.8493788\ttest: 0.8452778\tbest: 0.8456379 (143)\ttotal: 18.6s\tremaining: 1m 44s\n",
            "200:\tlearn: 0.8504141\ttest: 0.8456829\tbest: 0.8458180 (190)\ttotal: 24.8s\tremaining: 1m 38s\n",
            "250:\tlearn: 0.8518996\ttest: 0.8467183\tbest: 0.8467183 (249)\ttotal: 31.2s\tremaining: 1m 33s\n",
            "Stopped by overfitting detector  (50 iterations wait)\n",
            "\n",
            "bestTest = 0.8467182858\n",
            "bestIteration = 249\n",
            "\n",
            "Shrink model to first 250 iterations.\n",
            "Model Score at fold 2 :  0.8467182857657333\n",
            "0:\tlearn: 0.8407058\ttest: 0.8393806\tbest: 0.8393806 (0)\ttotal: 134ms\tremaining: 2m 14s\n",
            "50:\tlearn: 0.8445622\ttest: 0.8438822\tbest: 0.8440173 (47)\ttotal: 6.05s\tremaining: 1m 52s\n",
            "100:\tlearn: 0.8476082\ttest: 0.8452778\tbest: 0.8456829 (85)\ttotal: 12.3s\tremaining: 1m 49s\n",
            "150:\tlearn: 0.8498439\ttest: 0.8465832\tbest: 0.8468984 (134)\ttotal: 18.8s\tremaining: 1m 45s\n",
            "Stopped by overfitting detector  (50 iterations wait)\n",
            "\n",
            "bestTest = 0.8468983524\n",
            "bestIteration = 134\n",
            "\n",
            "Shrink model to first 135 iterations.\n",
            "Model Score at fold 3 :  0.8468983523903845\n",
            "mean_score 0.8469918255304767\n",
            "_----__----__----__----__----__----__----__----__----__----__----__----__----__----__----__----__----__----__----__----__----__----__----__----__----_\n"
          ],
          "name": "stdout"
        }
      ]
    },
    {
      "cell_type": "code",
      "metadata": {
        "id": "GFSNHxMBM7Rw",
        "colab_type": "code",
        "colab": {
          "base_uri": "https://localhost:8080/",
          "height": 1000
        },
        "outputId": "2b9a2579-2f3e-44a1-ae0f-b859da8229be"
      },
      "source": [
        "from sklearn.metrics import accuracy_score\n",
        "\n",
        "params={\n",
        "    \"od_type\":\"Iter\",\n",
        "    \"od_wait\":50,\n",
        "    'iterations':800,\n",
        "    \"eval_metric\":\"Accuracy\",\n",
        "    \"verbose\":50,\n",
        "    \"boosting_type\":\"Plain\",\n",
        "    \"class_weights\":class_weights\n",
        "}\n",
        "\n",
        "from sklearn.metrics import classification_report\n",
        "# predictions = model.predict(test_set[0])\n",
        "# print(classification_report(test_set[1],predictions))\n",
        "folded_models = []\n",
        "n_folds=[]\n",
        "for n_fold in n_folds:\n",
        "  print(\"\\nPerforming on N_folds :\",n_fold)\n",
        "  folds = StratifiedKFold(n_splits=n_fold,shuffle=True)\n",
        "  scores=[]\n",
        "  max_score = 0\n",
        "\n",
        "  for (train_idx,test_idx),i in list(zip(folds.split(X,Y),range(n_fold))):\n",
        "    test_set = (X.iloc[test_idx],Y.iloc[test_idx])\n",
        "    model = CatBoostClassifier(**params)\n",
        "    model.fit(X.iloc[train_idx],Y.iloc[train_idx],\n",
        "              cat_features=[\"Crop_Type\",'Soil_Type','Pesticide_Use_Category','Season'],\n",
        "              eval_set=test_set)\n",
        "    \n",
        "    folded_models.append(model)\n",
        "    # model= LGBMClassifier(eval_metric=\"accuracy\")\n",
        "    # model.fit(X.iloc[train_idx],Y.iloc[train_idx],\n",
        "    #           categorical_feature=[\"Crop_Type\",'Soil_Type','Pesticide_Use_Category','Season'],\n",
        "    #           eval_set=[test_set],verbose=False)\n",
        "    # model= XGBClassifier(verbose=False)\n",
        "    # model.fit(X.iloc[train_idx],Y.iloc[train_idx],eval_set=[test_set],\n",
        "    #           early_stopping_rounds=25,verbose=False)\n",
        "\n",
        "    score = accuracy_score(test_set[1],model.predict(test_set[0]))\n",
        "    scores.append(score)\n",
        "    if score > max_score:\n",
        "      max_score=score\n",
        "      best_idx=train_idx\n",
        "      val_idx = test_idx\n",
        "    print(\"Model Score at fold %d : \" % i,score)\n",
        "    print(classification_report(test_set[1],model.predict(test_set[0])))\n",
        "    print(\"_--_\"*20)\n",
        "\n",
        "  print(\"mean_score\",np.array(scores).mean())\n",
        "\n",
        "\n",
        "test_set = (X.iloc[val_idx],Y.iloc[val_idx])\n",
        "model= CatBoostClassifier(**params)\n",
        "model.fit(X.iloc[best_idx],Y.iloc[best_idx],\n",
        "          cat_features=[\"Crop_Type\",'Soil_Type','Pesticide_Use_Category','Season'],\n",
        "          eval_set=test_set)\n",
        "\n",
        "# model= LGBMClassifier()\n",
        "# model.fit(X.iloc[best_idx],Y.iloc[best_idx],\n",
        "#           categorical_feature=[\"Crop_Type\",'Soil_Type','Pesticide_Use_Category','Season']\n",
        "#           )    \n",
        "# model= XGBClassifier(verbose=False)\n",
        "# model.fit(X.iloc[best_idx],Y.iloc[best_idx],eval_set=[test_set],\n",
        "#           early_stopping_rounds=25,verbose=False)\n",
        "\n",
        "score = accuracy_score(test_set[1],model.predict(test_set[0]))\n",
        "score\n",
        "print(classification_report(test_set[1],model.predict(test_set[0])))"
      ],
      "execution_count": 25,
      "outputs": [
        {
          "output_type": "stream",
          "text": [
            "\n",
            "Performing on N_folds : 4\n",
            "Learning rate set to 0.117436\n",
            "0:\tlearn: 0.5372440\ttest: 0.5308088\tbest: 0.5308088 (0)\ttotal: 146ms\tremaining: 2m 26s\n",
            "50:\tlearn: 0.5698106\ttest: 0.5581436\tbest: 0.5607132 (25)\ttotal: 6.1s\tremaining: 1m 53s\n",
            "Stopped by overfitting detector  (50 iterations wait)\n",
            "\n",
            "bestTest = 0.5607132357\n",
            "bestIteration = 25\n",
            "\n",
            "Shrink model to first 26 iterations.\n",
            "Model Score at fold 0 :  0.6501462975467027\n",
            "              precision    recall  f1-score   support\n",
            "\n",
            "         0.0       0.93      0.70      0.80     18560\n",
            "         1.0       0.24      0.34      0.28      3077\n",
            "         2.0       0.09      0.64      0.16       578\n",
            "\n",
            "    accuracy                           0.65     22215\n",
            "   macro avg       0.42      0.56      0.42     22215\n",
            "weighted avg       0.82      0.65      0.71     22215\n",
            "\n",
            "_--__--__--__--__--__--__--__--__--__--__--__--__--__--__--__--__--__--__--__--_\n",
            "Learning rate set to 0.117436\n",
            "0:\tlearn: 0.5369092\ttest: 0.5327998\tbest: 0.5327998 (0)\ttotal: 157ms\tremaining: 2m 36s\n",
            "50:\tlearn: 0.5734353\ttest: 0.5546120\tbest: 0.5555479 (49)\ttotal: 6.16s\tremaining: 1m 54s\n",
            "100:\tlearn: 0.5826249\ttest: 0.5590036\tbest: 0.5601045 (88)\ttotal: 11.7s\tremaining: 1m 44s\n",
            "150:\tlearn: 0.5957452\ttest: 0.5585212\tbest: 0.5627524 (122)\ttotal: 18.4s\tremaining: 1m 43s\n",
            "Stopped by overfitting detector  (50 iterations wait)\n",
            "\n",
            "bestTest = 0.5627523749\n",
            "bestIteration = 122\n",
            "\n",
            "Shrink model to first 123 iterations.\n",
            "Model Score at fold 1 :  0.6523970290344362\n",
            "              precision    recall  f1-score   support\n",
            "\n",
            "         0.0       0.94      0.70      0.80     18560\n",
            "         1.0       0.24      0.34      0.28      3076\n",
            "         2.0       0.09      0.64      0.16       579\n",
            "\n",
            "    accuracy                           0.65     22215\n",
            "   macro avg       0.42      0.56      0.42     22215\n",
            "weighted avg       0.82      0.65      0.72     22215\n",
            "\n",
            "_--__--__--__--__--__--__--__--__--__--__--__--__--__--__--__--__--__--__--__--_\n",
            "Learning rate set to 0.117436\n",
            "0:\tlearn: 0.5404713\ttest: 0.5300993\tbest: 0.5300993 (0)\ttotal: 146ms\tremaining: 2m 26s\n",
            "50:\tlearn: 0.5705695\ttest: 0.5526345\tbest: 0.5526345 (50)\ttotal: 6.93s\tremaining: 2m 8s\n",
            "100:\tlearn: 0.5778020\ttest: 0.5539324\tbest: 0.5575735 (87)\ttotal: 15.4s\tremaining: 2m 17s\n",
            "Stopped by overfitting detector  (50 iterations wait)\n",
            "\n",
            "bestTest = 0.5575734558\n",
            "bestIteration = 87\n",
            "\n",
            "Shrink model to first 88 iterations.\n",
            "Model Score at fold 2 :  0.6445934995948501\n",
            "              precision    recall  f1-score   support\n",
            "\n",
            "         0.0       0.94      0.70      0.80     18559\n",
            "         1.0       0.23      0.32      0.27      3077\n",
            "         2.0       0.09      0.66      0.16       578\n",
            "\n",
            "    accuracy                           0.64     22214\n",
            "   macro avg       0.42      0.56      0.41     22214\n",
            "weighted avg       0.82      0.64      0.71     22214\n",
            "\n",
            "_--__--__--__--__--__--__--__--__--__--__--__--__--__--__--__--__--__--__--__--_\n",
            "Learning rate set to 0.117436\n",
            "0:\tlearn: 0.5297018\ttest: 0.5405221\tbest: 0.5405221 (0)\ttotal: 152ms\tremaining: 2m 31s\n",
            "50:\tlearn: 0.5733467\ttest: 0.5594264\tbest: 0.5612799 (22)\ttotal: 6.14s\tremaining: 1m 54s\n",
            "Stopped by overfitting detector  (50 iterations wait)\n",
            "\n",
            "bestTest = 0.5612799143\n",
            "bestIteration = 22\n",
            "\n",
            "Shrink model to first 23 iterations.\n",
            "Model Score at fold 3 :  0.6384262177005492\n",
            "              precision    recall  f1-score   support\n",
            "\n",
            "         0.0       0.93      0.69      0.79     18559\n",
            "         1.0       0.24      0.30      0.27      3077\n",
            "         2.0       0.09      0.69      0.16       578\n",
            "\n",
            "    accuracy                           0.64     22214\n",
            "   macro avg       0.42      0.56      0.41     22214\n",
            "weighted avg       0.81      0.64      0.70     22214\n",
            "\n",
            "_--__--__--__--__--__--__--__--__--__--__--__--__--__--__--__--__--__--__--__--_\n",
            "mean_score 0.6463907609691346\n",
            "Learning rate set to 0.117436\n",
            "0:\tlearn: 0.5369092\ttest: 0.5327998\tbest: 0.5327998 (0)\ttotal: 148ms\tremaining: 2m 28s\n",
            "50:\tlearn: 0.5734353\ttest: 0.5546120\tbest: 0.5555479 (49)\ttotal: 6.22s\tremaining: 1m 55s\n",
            "100:\tlearn: 0.5826249\ttest: 0.5590036\tbest: 0.5601045 (88)\ttotal: 11.8s\tremaining: 1m 45s\n",
            "150:\tlearn: 0.5957452\ttest: 0.5585212\tbest: 0.5627524 (122)\ttotal: 18.6s\tremaining: 1m 44s\n",
            "Stopped by overfitting detector  (50 iterations wait)\n",
            "\n",
            "bestTest = 0.5627523749\n",
            "bestIteration = 122\n",
            "\n",
            "Shrink model to first 123 iterations.\n",
            "              precision    recall  f1-score   support\n",
            "\n",
            "         0.0       0.94      0.70      0.80     18560\n",
            "         1.0       0.24      0.34      0.28      3076\n",
            "         2.0       0.09      0.64      0.16       579\n",
            "\n",
            "    accuracy                           0.65     22215\n",
            "   macro avg       0.42      0.56      0.42     22215\n",
            "weighted avg       0.82      0.65      0.72     22215\n",
            "\n"
          ],
          "name": "stdout"
        }
      ]
    },
    {
      "cell_type": "code",
      "metadata": {
        "id": "HRB75j0o8Xjf",
        "colab_type": "code",
        "colab": {}
      },
      "source": [
        "x_train,x_test,y_train,y_test = train_test_split(X,Y,test_size=0.23,random_state=1890)\n",
        "\n",
        "def train(depth, l2_leaf_reg,random_strength,bagging_temperature,\n",
        "          learning_rate,one_hot_max_size,border_count):\n",
        "  params={\n",
        "      \"od_type\":\"Iter\",\n",
        "      \"od_wait\":50,\n",
        "      'learning_rate':learning_rate,\n",
        "      \"one_hot_max_size\":int(one_hot_max_size),\n",
        "      \"l2_leaf_reg\":int(l2_leaf_reg),\n",
        "      \"bagging_temperature\":bagging_temperature,\n",
        "      \"random_strength\":random_strength,\n",
        "      \"border_count\":int(border_count),\n",
        "      \"eval_metric\":\"Accuracy\",\n",
        "      \"verbose\":False,\n",
        "      # \"boosting_type\":\"Plain\",\n",
        "      \"depth\":int(depth),\n",
        "      \"class_weights\":class_weights\n",
        "  }\n",
        "\n",
        "  test_set = (x_test,y_test)\n",
        "  model= CatBoostClassifier(**params)\n",
        "  model.fit(x_train,y_train,\n",
        "            cat_features=[\"Crop_Type\",'Soil_Type','Pesticide_Use_Category','Season'],\n",
        "            eval_set=test_set,verbose=False)\n",
        "\n",
        "  score = accuracy_score(test_set[1],model.predict(test_set[0]))\n",
        "  score\n",
        "  # print(classification_report(test_set[1],model.predict(test_set[0])))\n",
        "  return score"
      ],
      "execution_count": 54,
      "outputs": []
    },
    {
      "cell_type": "code",
      "metadata": {
        "id": "5AV5rgaj9qAI",
        "colab_type": "code",
        "colab": {
          "base_uri": "https://localhost:8080/",
          "height": 121
        },
        "outputId": "3fd2a692-f076-41e2-ffe0-f4fc3f3403de"
      },
      "source": [
        "!pip install bayesian-optimization"
      ],
      "execution_count": 55,
      "outputs": [
        {
          "output_type": "stream",
          "text": [
            "Requirement already satisfied: bayesian-optimization in /usr/local/lib/python3.6/dist-packages (1.2.0)\n",
            "Requirement already satisfied: scikit-learn>=0.18.0 in /usr/local/lib/python3.6/dist-packages (from bayesian-optimization) (0.22.2.post1)\n",
            "Requirement already satisfied: scipy>=0.14.0 in /usr/local/lib/python3.6/dist-packages (from bayesian-optimization) (1.4.1)\n",
            "Requirement already satisfied: numpy>=1.9.0 in /usr/local/lib/python3.6/dist-packages (from bayesian-optimization) (1.18.5)\n",
            "Requirement already satisfied: joblib>=0.11 in /usr/local/lib/python3.6/dist-packages (from scikit-learn>=0.18.0->bayesian-optimization) (0.16.0)\n"
          ],
          "name": "stdout"
        }
      ]
    },
    {
      "cell_type": "code",
      "metadata": {
        "id": "lBoYmD0C9tco",
        "colab_type": "code",
        "colab": {
          "base_uri": "https://localhost:8080/",
          "height": 235
        },
        "outputId": "dbe8f45c-3f63-4df6-a22c-8e1852e0c277"
      },
      "source": [
        "from bayes_opt import BayesianOptimization\n",
        "bounds = {\n",
        "    \"learning_rate\":(0.02,0.15),\n",
        "    \"depth\":(2,10),\n",
        "    \"random_strength\":(1,100),\n",
        "    \"l2_leaf_reg\":(5,20),\n",
        "    \"bagging_temperature\":(0.6,1),\n",
        "    \"one_hot_max_size\":(2,4),\n",
        "    \"border_count\":(15,150)\n",
        "}\n",
        "\n",
        "optimizer = BayesianOptimization(\n",
        "    f = train,\n",
        "    pbounds=bounds\n",
        "    \n",
        ")\n",
        "\n",
        "optimizer.maximize(n_iter=5,init_points=5)"
      ],
      "execution_count": 61,
      "outputs": [
        {
          "output_type": "stream",
          "text": [
            "|   iter    |  target   | baggin... | border... |   depth   | l2_lea... | learni... | one_ho... | random... |\n",
            "-------------------------------------------------------------------------------------------------------------\n",
            "| \u001b[0m 1       \u001b[0m | \u001b[0m 0.6492  \u001b[0m | \u001b[0m 0.9253  \u001b[0m | \u001b[0m 112.7   \u001b[0m | \u001b[0m 5.051   \u001b[0m | \u001b[0m 13.12   \u001b[0m | \u001b[0m 0.07219 \u001b[0m | \u001b[0m 2.949   \u001b[0m | \u001b[0m 39.85   \u001b[0m |\n",
            "| \u001b[0m 2       \u001b[0m | \u001b[0m 0.6414  \u001b[0m | \u001b[0m 0.6428  \u001b[0m | \u001b[0m 22.41   \u001b[0m | \u001b[0m 4.872   \u001b[0m | \u001b[0m 15.45   \u001b[0m | \u001b[0m 0.1266  \u001b[0m | \u001b[0m 2.026   \u001b[0m | \u001b[0m 47.66   \u001b[0m |\n",
            "| \u001b[0m 3       \u001b[0m | \u001b[0m 0.5947  \u001b[0m | \u001b[0m 0.6823  \u001b[0m | \u001b[0m 42.97   \u001b[0m | \u001b[0m 5.645   \u001b[0m | \u001b[0m 9.268   \u001b[0m | \u001b[0m 0.03316 \u001b[0m | \u001b[0m 3.557   \u001b[0m | \u001b[0m 46.47   \u001b[0m |\n",
            "| \u001b[95m 4       \u001b[0m | \u001b[95m 0.662   \u001b[0m | \u001b[95m 0.8084  \u001b[0m | \u001b[95m 47.28   \u001b[0m | \u001b[95m 2.564   \u001b[0m | \u001b[95m 5.274   \u001b[0m | \u001b[95m 0.06866 \u001b[0m | \u001b[95m 2.346   \u001b[0m | \u001b[95m 25.19   \u001b[0m |\n",
            "| \u001b[0m 5       \u001b[0m | \u001b[0m 0.6435  \u001b[0m | \u001b[0m 0.9537  \u001b[0m | \u001b[0m 119.4   \u001b[0m | \u001b[0m 5.157   \u001b[0m | \u001b[0m 7.762   \u001b[0m | \u001b[0m 0.1341  \u001b[0m | \u001b[0m 2.351   \u001b[0m | \u001b[0m 16.94   \u001b[0m |\n",
            "| \u001b[0m 6       \u001b[0m | \u001b[0m 0.6433  \u001b[0m | \u001b[0m 0.6499  \u001b[0m | \u001b[0m 47.84   \u001b[0m | \u001b[0m 3.228   \u001b[0m | \u001b[0m 8.79    \u001b[0m | \u001b[0m 0.115   \u001b[0m | \u001b[0m 2.312   \u001b[0m | \u001b[0m 25.42   \u001b[0m |\n",
            "| \u001b[0m 7       \u001b[0m | \u001b[0m 0.6267  \u001b[0m | \u001b[0m 0.7822  \u001b[0m | \u001b[0m 148.4   \u001b[0m | \u001b[0m 2.591   \u001b[0m | \u001b[0m 5.523   \u001b[0m | \u001b[0m 0.1198  \u001b[0m | \u001b[0m 2.917   \u001b[0m | \u001b[0m 99.39   \u001b[0m |\n",
            "| \u001b[0m 8       \u001b[0m | \u001b[0m 0.6382  \u001b[0m | \u001b[0m 1.0     \u001b[0m | \u001b[0m 15.0    \u001b[0m | \u001b[0m 10.0    \u001b[0m | \u001b[0m 5.0     \u001b[0m | \u001b[0m 0.1349  \u001b[0m | \u001b[0m 4.0     \u001b[0m | \u001b[0m 1.0     \u001b[0m |\n",
            "| \u001b[0m 9       \u001b[0m | \u001b[0m 0.6444  \u001b[0m | \u001b[0m 1.0     \u001b[0m | \u001b[0m 15.0    \u001b[0m | \u001b[0m 2.0     \u001b[0m | \u001b[0m 20.0    \u001b[0m | \u001b[0m 0.02    \u001b[0m | \u001b[0m 2.0     \u001b[0m | \u001b[0m 100.0   \u001b[0m |\n",
            "| \u001b[0m 10      \u001b[0m | \u001b[0m 0.647   \u001b[0m | \u001b[0m 0.7337  \u001b[0m | \u001b[0m 150.0   \u001b[0m | \u001b[0m 2.0     \u001b[0m | \u001b[0m 20.0    \u001b[0m | \u001b[0m 0.1274  \u001b[0m | \u001b[0m 2.0     \u001b[0m | \u001b[0m 34.51   \u001b[0m |\n",
            "=============================================================================================================\n"
          ],
          "name": "stdout"
        }
      ]
    },
    {
      "cell_type": "code",
      "metadata": {
        "id": "OZAQj6d_Amda",
        "colab_type": "code",
        "colab": {
          "base_uri": "https://localhost:8080/",
          "height": 336
        },
        "outputId": "cc2c2391-8236-4912-a201-425577edeb4b"
      },
      "source": [
        "params={\n",
        "    \"od_type\":\"Iter\",\n",
        "    \"od_wait\":50,\n",
        "    'learning_rate':optimizer.max['params']['learning_rate'],\n",
        "    \"one_hot_max_size\":int(optimizer.max['params']['one_hot_max_size']),\n",
        "    \"l2_leaf_reg\":int(optimizer.max['params']['l2_leaf_reg']),\n",
        "    \"bagging_temperature\":optimizer.max['params']['bagging_temperature'],\n",
        "    \"random_strength\":optimizer.max['params']['random_strength'],\n",
        "    \"border_count\":int(optimizer.max['params']['border_count']),\n",
        "    \"eval_metric\":\"Accuracy\",\n",
        "    \"verbose\":50,\n",
        "    \"boosting_type\":\"Plain\",\n",
        "    \"depth\":int(optimizer.max['params']['depth']),\n",
        "    \"class_weights\":class_weights\n",
        "}\n",
        "\n",
        "\n",
        "test_set = (x_test,y_test)\n",
        "model= CatBoostClassifier(**params)\n",
        "model.fit(x_train,y_train,\n",
        "          cat_features=[\"Crop_Type\",'Soil_Type','Pesticide_Use_Category','Season'],\n",
        "          eval_set=test_set)\n",
        "\n",
        "score = accuracy_score(test_set[1],model.predict(test_set[0]))\n",
        "print(\"Accuracy Score : \",score)\n",
        "print(classification_report(test_set[1],model.predict(test_set[0])))"
      ],
      "execution_count": 65,
      "outputs": [
        {
          "output_type": "stream",
          "text": [
            "0:\tlearn: 0.3978981\ttest: 0.3895279\tbest: 0.3895279 (0)\ttotal: 68.6ms\tremaining: 1m 8s\n",
            "50:\tlearn: 0.5139268\ttest: 0.5194324\tbest: 0.5314024 (17)\ttotal: 3.3s\tremaining: 1m 1s\n",
            "Stopped by overfitting detector  (50 iterations wait)\n",
            "\n",
            "bestTest = 0.53140235\n",
            "bestIteration = 17\n",
            "\n",
            "Shrink model to first 18 iterations.\n",
            "Accuracy Score :  0.6620021528525296\n",
            "              precision    recall  f1-score   support\n",
            "\n",
            "         0.0       0.92      0.74      0.82     17195\n",
            "         1.0       0.22      0.15      0.18      2747\n",
            "         2.0       0.08      0.70      0.14       496\n",
            "\n",
            "    accuracy                           0.66     20438\n",
            "   macro avg       0.40      0.53      0.38     20438\n",
            "weighted avg       0.80      0.66      0.72     20438\n",
            "\n"
          ],
          "name": "stdout"
        }
      ]
    },
    {
      "cell_type": "code",
      "metadata": {
        "id": "bCNAUJrYN9-Z",
        "colab_type": "code",
        "colab": {
          "base_uri": "https://localhost:8080/",
          "height": 284
        },
        "outputId": "aaae4e3b-c625-455c-a558-ee4e93ff86b0"
      },
      "source": [
        "pd.DataFrame(list(zip(X.columns,model.feature_importances_)),columns=['Feature','Importance']).sort_values(\"Importance\",ascending=False)"
      ],
      "execution_count": 66,
      "outputs": [
        {
          "output_type": "execute_result",
          "data": {
            "text/html": [
              "<div>\n",
              "<style scoped>\n",
              "    .dataframe tbody tr th:only-of-type {\n",
              "        vertical-align: middle;\n",
              "    }\n",
              "\n",
              "    .dataframe tbody tr th {\n",
              "        vertical-align: top;\n",
              "    }\n",
              "\n",
              "    .dataframe thead th {\n",
              "        text-align: right;\n",
              "    }\n",
              "</style>\n",
              "<table border=\"1\" class=\"dataframe\">\n",
              "  <thead>\n",
              "    <tr style=\"text-align: right;\">\n",
              "      <th></th>\n",
              "      <th>Feature</th>\n",
              "      <th>Importance</th>\n",
              "    </tr>\n",
              "  </thead>\n",
              "  <tbody>\n",
              "    <tr>\n",
              "      <th>5</th>\n",
              "      <td>Number_Weeks_Used</td>\n",
              "      <td>36.065093</td>\n",
              "    </tr>\n",
              "    <tr>\n",
              "      <th>3</th>\n",
              "      <td>Pesticide_Use_Category</td>\n",
              "      <td>32.356979</td>\n",
              "    </tr>\n",
              "    <tr>\n",
              "      <th>0</th>\n",
              "      <td>Estimated_Insects_Count</td>\n",
              "      <td>17.116590</td>\n",
              "    </tr>\n",
              "    <tr>\n",
              "      <th>6</th>\n",
              "      <td>Number_Weeks_Quit</td>\n",
              "      <td>12.697259</td>\n",
              "    </tr>\n",
              "    <tr>\n",
              "      <th>1</th>\n",
              "      <td>Crop_Type</td>\n",
              "      <td>1.746272</td>\n",
              "    </tr>\n",
              "    <tr>\n",
              "      <th>2</th>\n",
              "      <td>Soil_Type</td>\n",
              "      <td>0.015873</td>\n",
              "    </tr>\n",
              "    <tr>\n",
              "      <th>7</th>\n",
              "      <td>Season</td>\n",
              "      <td>0.001932</td>\n",
              "    </tr>\n",
              "    <tr>\n",
              "      <th>4</th>\n",
              "      <td>Number_Doses_Week</td>\n",
              "      <td>0.000000</td>\n",
              "    </tr>\n",
              "  </tbody>\n",
              "</table>\n",
              "</div>"
            ],
            "text/plain": [
              "                   Feature  Importance\n",
              "5        Number_Weeks_Used   36.065093\n",
              "3   Pesticide_Use_Category   32.356979\n",
              "0  Estimated_Insects_Count   17.116590\n",
              "6        Number_Weeks_Quit   12.697259\n",
              "1                Crop_Type    1.746272\n",
              "2                Soil_Type    0.015873\n",
              "7                   Season    0.001932\n",
              "4        Number_Doses_Week    0.000000"
            ]
          },
          "metadata": {
            "tags": []
          },
          "execution_count": 66
        }
      ]
    },
    {
      "cell_type": "code",
      "metadata": {
        "id": "1o-Dhh0pFjL6",
        "colab_type": "code",
        "colab": {
          "base_uri": "https://localhost:8080/",
          "height": 418
        },
        "outputId": "14653cfb-49d2-4a73-ecd8-1acd4dc58f6b"
      },
      "source": [
        "if not \"Crop_Damage\" in test.columns:\n",
        "  predictions = model.predict(test.drop(['ID'],axis=1))\n",
        "else:\n",
        "  predictions = model.predict(test.drop(['ID','Crop_Damage'],axis=1))\n",
        "test['Crop_Damage'] = predictions\n",
        "submission = test[['ID','Crop_Damage']]\n",
        "print(np.unique(submission.Crop_Damage,return_counts=True))\n",
        "submission.to_csv(\"catboost_tuned_weighted_v3.csv\",index=False)\n",
        "submission"
      ],
      "execution_count": 68,
      "outputs": [
        {
          "output_type": "stream",
          "text": [
            "(array([0., 1., 2.]), array([40354,  5382, 13574]))\n"
          ],
          "name": "stdout"
        },
        {
          "output_type": "execute_result",
          "data": {
            "text/html": [
              "<div>\n",
              "<style scoped>\n",
              "    .dataframe tbody tr th:only-of-type {\n",
              "        vertical-align: middle;\n",
              "    }\n",
              "\n",
              "    .dataframe tbody tr th {\n",
              "        vertical-align: top;\n",
              "    }\n",
              "\n",
              "    .dataframe thead th {\n",
              "        text-align: right;\n",
              "    }\n",
              "</style>\n",
              "<table border=\"1\" class=\"dataframe\">\n",
              "  <thead>\n",
              "    <tr style=\"text-align: right;\">\n",
              "      <th></th>\n",
              "      <th>ID</th>\n",
              "      <th>Crop_Damage</th>\n",
              "    </tr>\n",
              "  </thead>\n",
              "  <tbody>\n",
              "    <tr>\n",
              "      <th>88858</th>\n",
              "      <td>F00000002</td>\n",
              "      <td>2.0</td>\n",
              "    </tr>\n",
              "    <tr>\n",
              "      <th>88859</th>\n",
              "      <td>F00000007</td>\n",
              "      <td>2.0</td>\n",
              "    </tr>\n",
              "    <tr>\n",
              "      <th>88860</th>\n",
              "      <td>F00000011</td>\n",
              "      <td>2.0</td>\n",
              "    </tr>\n",
              "    <tr>\n",
              "      <th>88861</th>\n",
              "      <td>F00000013</td>\n",
              "      <td>2.0</td>\n",
              "    </tr>\n",
              "    <tr>\n",
              "      <th>88862</th>\n",
              "      <td>F00000014</td>\n",
              "      <td>2.0</td>\n",
              "    </tr>\n",
              "    <tr>\n",
              "      <th>...</th>\n",
              "      <td>...</td>\n",
              "      <td>...</td>\n",
              "    </tr>\n",
              "    <tr>\n",
              "      <th>148163</th>\n",
              "      <td>F00155937</td>\n",
              "      <td>0.0</td>\n",
              "    </tr>\n",
              "    <tr>\n",
              "      <th>148164</th>\n",
              "      <td>F00155940</td>\n",
              "      <td>0.0</td>\n",
              "    </tr>\n",
              "    <tr>\n",
              "      <th>148165</th>\n",
              "      <td>F00155941</td>\n",
              "      <td>0.0</td>\n",
              "    </tr>\n",
              "    <tr>\n",
              "      <th>148166</th>\n",
              "      <td>F00155943</td>\n",
              "      <td>0.0</td>\n",
              "    </tr>\n",
              "    <tr>\n",
              "      <th>148167</th>\n",
              "      <td>F00155944</td>\n",
              "      <td>1.0</td>\n",
              "    </tr>\n",
              "  </tbody>\n",
              "</table>\n",
              "<p>59310 rows × 2 columns</p>\n",
              "</div>"
            ],
            "text/plain": [
              "               ID  Crop_Damage\n",
              "88858   F00000002          2.0\n",
              "88859   F00000007          2.0\n",
              "88860   F00000011          2.0\n",
              "88861   F00000013          2.0\n",
              "88862   F00000014          2.0\n",
              "...           ...          ...\n",
              "148163  F00155937          0.0\n",
              "148164  F00155940          0.0\n",
              "148165  F00155941          0.0\n",
              "148166  F00155943          0.0\n",
              "148167  F00155944          1.0\n",
              "\n",
              "[59310 rows x 2 columns]"
            ]
          },
          "metadata": {
            "tags": []
          },
          "execution_count": 68
        }
      ]
    },
    {
      "cell_type": "code",
      "metadata": {
        "id": "hDe9rvdVIINs",
        "colab_type": "code",
        "colab": {}
      },
      "source": [
        ""
      ],
      "execution_count": null,
      "outputs": []
    }
  ]
}